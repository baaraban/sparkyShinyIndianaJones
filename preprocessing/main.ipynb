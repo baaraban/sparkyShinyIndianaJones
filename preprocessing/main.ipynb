{
 "cells": [
  {
   "cell_type": "markdown",
   "metadata": {},
   "source": [
    "First cell is for Windows users"
   ]
  },
  {
   "cell_type": "code",
   "execution_count": 5,
   "metadata": {},
   "outputs": [
    {
     "data": {
      "text/plain": [
       "'C:/utils/spark'"
      ]
     },
     "execution_count": 5,
     "metadata": {},
     "output_type": "execute_result"
    }
   ],
   "source": [
    "import findspark\n",
    "findspark.init(\"C:/utils/spark\")\n",
    "findspark.find()\n",
    "import pyspark\n",
    "findspark.find()"
   ]
  },
  {
   "cell_type": "code",
   "execution_count": 6,
   "metadata": {},
   "outputs": [],
   "source": [
    "import os\n",
    "\n",
    "from pyspark.sql import SparkSession"
   ]
  },
  {
   "cell_type": "code",
   "execution_count": 7,
   "metadata": {},
   "outputs": [],
   "source": [
    "PATH_TO_FILE = \"../data_collection/museums_scraping/raw_data/louvre_artifacts.csv\""
   ]
  },
  {
   "cell_type": "code",
   "execution_count": 8,
   "metadata": {},
   "outputs": [],
   "source": [
    "spark = SparkSession \\\n",
    "    .builder \\\n",
    "    .appName(\"Preprocessing\") \\\n",
    "    .getOrCreate()"
   ]
  },
  {
   "cell_type": "code",
   "execution_count": 9,
   "metadata": {},
   "outputs": [],
   "source": [
    "louvre_data = spark \\\n",
    "                .read \\\n",
    "                .csv(path=PATH_TO_FILE, sep=',' ,\n",
    "                     inferSchema=False, charToEscapeQuoteEscaping='\"', \n",
    "                     header=\"true\", escape='\"', multiLine=True)"
   ]
  },
  {
   "cell_type": "code",
   "execution_count": 10,
   "metadata": {},
   "outputs": [
    {
     "data": {
      "text/plain": [
       "[('_c0', 'string'),\n",
       " ('collection', 'string'),\n",
       " ('artifact_name', 'string'),\n",
       " ('artifact_link', 'string'),\n",
       " ('image_link', 'string'),\n",
       " ('text', 'string'),\n",
       " ('creation_info', 'string'),\n",
       " ('physical_characteristics', 'string'),\n",
       " ('acquired_by', 'string'),\n",
       " ('category', 'string')]"
      ]
     },
     "execution_count": 10,
     "metadata": {},
     "output_type": "execute_result"
    }
   ],
   "source": [
    "louvre_data.dtypes"
   ]
  },
  {
   "cell_type": "code",
   "execution_count": 11,
   "metadata": {},
   "outputs": [
    {
     "name": "stdout",
     "output_type": "stream",
     "text": [
      "+------------+\n",
      "|  collection|\n",
      "+------------+\n",
      "|Masterpieces|\n",
      "|Masterpieces|\n",
      "|Masterpieces|\n",
      "|Masterpieces|\n",
      "|Masterpieces|\n",
      "|Masterpieces|\n",
      "|Masterpieces|\n",
      "|Masterpieces|\n",
      "|Masterpieces|\n",
      "|Masterpieces|\n",
      "|Masterpieces|\n",
      "|Masterpieces|\n",
      "|Masterpieces|\n",
      "|Masterpieces|\n",
      "|Masterpieces|\n",
      "|Masterpieces|\n",
      "|Masterpieces|\n",
      "|Masterpieces|\n",
      "|Masterpieces|\n",
      "|Masterpieces|\n",
      "+------------+\n",
      "only showing top 20 rows\n",
      "\n"
     ]
    }
   ],
   "source": [
    "louvre_data[['collection']].show()"
   ]
  },
  {
   "cell_type": "code",
   "execution_count": null,
   "metadata": {},
   "outputs": [],
   "source": []
  }
 ],
 "metadata": {
  "kernelspec": {
   "display_name": "Python 3",
   "language": "python",
   "name": "python3"
  },
  "language_info": {
   "codemirror_mode": {
    "name": "ipython",
    "version": 3
   },
   "file_extension": ".py",
   "mimetype": "text/x-python",
   "name": "python",
   "nbconvert_exporter": "python",
   "pygments_lexer": "ipython3",
   "version": "3.6.5"
  }
 },
 "nbformat": 4,
 "nbformat_minor": 2
}

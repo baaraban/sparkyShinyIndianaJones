{
 "cells": [
  {
   "cell_type": "code",
   "execution_count": 1,
   "metadata": {},
   "outputs": [],
   "source": [
    "import pandas as pd\n",
    "import os\n",
    "import ast\n",
    "from tqdm import tqdm"
   ]
  },
  {
   "cell_type": "code",
   "execution_count": 2,
   "metadata": {},
   "outputs": [],
   "source": [
    "FOLDER_PATH = 'partitioned/'"
   ]
  },
  {
   "cell_type": "code",
   "execution_count": 3,
   "metadata": {},
   "outputs": [],
   "source": [
    "result_df = pd.DataFrame({\"artifact_name\": [], \"transitions\":[], \"image_link\":[]})"
   ]
  },
  {
   "cell_type": "code",
   "execution_count": 4,
   "metadata": {},
   "outputs": [],
   "source": [
    "for filename in os.listdir(FOLDER_PATH):\n",
    "    if filename.endswith(\".csv\"): \n",
    "        full_path = os.path.join(FOLDER_PATH, filename)\n",
    "        read = pd.read_csv(full_path, index_col=False)\n",
    "        result_df = pd.concat([result_df, read])\n",
    "        "
   ]
  },
  {
   "cell_type": "code",
   "execution_count": 5,
   "metadata": {},
   "outputs": [
    {
     "name": "stdout",
     "output_type": "stream",
     "text": [
      "C:\\Repos\\sparkyShinyIndianaJones\n"
     ]
    }
   ],
   "source": [
    "cd .."
   ]
  },
  {
   "cell_type": "code",
   "execution_count": 6,
   "metadata": {},
   "outputs": [],
   "source": [
    "from utils.time_utils import *\n",
    "from utils.location_utils import *"
   ]
  },
  {
   "cell_type": "code",
   "execution_count": 7,
   "metadata": {},
   "outputs": [
    {
     "data": {
      "text/html": [
       "<div>\n",
       "<style scoped>\n",
       "    .dataframe tbody tr th:only-of-type {\n",
       "        vertical-align: middle;\n",
       "    }\n",
       "\n",
       "    .dataframe tbody tr th {\n",
       "        vertical-align: top;\n",
       "    }\n",
       "\n",
       "    .dataframe thead th {\n",
       "        text-align: right;\n",
       "    }\n",
       "</style>\n",
       "<table border=\"1\" class=\"dataframe\">\n",
       "  <thead>\n",
       "    <tr style=\"text-align: right;\">\n",
       "      <th></th>\n",
       "      <th>artifact_name</th>\n",
       "      <th>transitions</th>\n",
       "      <th>image_link</th>\n",
       "    </tr>\n",
       "  </thead>\n",
       "  <tbody>\n",
       "    <tr>\n",
       "      <th>0</th>\n",
       "      <td>Aphrodite, known as the \"Venus de Milo\"</td>\n",
       "      <td>{1821: {'lat': 48.8606111, 'lng': 2.337644}}{}...</td>\n",
       "      <td>https://www.louvre.fr/sites/default/files/imag...</td>\n",
       "    </tr>\n",
       "    <tr>\n",
       "      <th>1</th>\n",
       "      <td>The \"Regent\" Diamond</td>\n",
       "      <td>{1887: {'lat': 48.8606111, 'lng': 2.337644}}{}...</td>\n",
       "      <td>https://www.louvre.fr/sites/default/files/imag...</td>\n",
       "    </tr>\n",
       "    <tr>\n",
       "      <th>2</th>\n",
       "      <td>Frise des archers</td>\n",
       "      <td>{1885 - 1886: {'lat': 48.8606111, 'lng': 2.337...</td>\n",
       "      <td>https://www.louvre.fr/sites/default/files/imag...</td>\n",
       "    </tr>\n",
       "    <tr>\n",
       "      <th>3</th>\n",
       "      <td>Horse Restrained by a Groom, called \"Horse of ...</td>\n",
       "      <td>{1802: {'lat': 48.8606111, 'lng': 2.337644}}{1...</td>\n",
       "      <td>https://www.louvre.fr/sites/default/files/imag...</td>\n",
       "    </tr>\n",
       "    <tr>\n",
       "      <th>4</th>\n",
       "      <td>July 28. Liberty Leading the People (July 28, ...</td>\n",
       "      <td>{1983: {'lat': 48.8606111, 'lng': 2.337644}}{1...</td>\n",
       "      <td>https://www.louvre.fr/sites/default/files/imag...</td>\n",
       "    </tr>\n",
       "  </tbody>\n",
       "</table>\n",
       "</div>"
      ],
      "text/plain": [
       "                                       artifact_name  \\\n",
       "0            Aphrodite, known as the \"Venus de Milo\"   \n",
       "1                               The \"Regent\" Diamond   \n",
       "2                                  Frise des archers   \n",
       "3  Horse Restrained by a Groom, called \"Horse of ...   \n",
       "4  July 28. Liberty Leading the People (July 28, ...   \n",
       "\n",
       "                                         transitions  \\\n",
       "0  {1821: {'lat': 48.8606111, 'lng': 2.337644}}{}...   \n",
       "1  {1887: {'lat': 48.8606111, 'lng': 2.337644}}{}...   \n",
       "2  {1885 - 1886: {'lat': 48.8606111, 'lng': 2.337...   \n",
       "3  {1802: {'lat': 48.8606111, 'lng': 2.337644}}{1...   \n",
       "4  {1983: {'lat': 48.8606111, 'lng': 2.337644}}{1...   \n",
       "\n",
       "                                          image_link  \n",
       "0  https://www.louvre.fr/sites/default/files/imag...  \n",
       "1  https://www.louvre.fr/sites/default/files/imag...  \n",
       "2  https://www.louvre.fr/sites/default/files/imag...  \n",
       "3  https://www.louvre.fr/sites/default/files/imag...  \n",
       "4  https://www.louvre.fr/sites/default/files/imag...  "
      ]
     },
     "execution_count": 7,
     "metadata": {},
     "output_type": "execute_result"
    }
   ],
   "source": [
    "result_df.head()"
   ]
  },
  {
   "cell_type": "code",
   "execution_count": 8,
   "metadata": {},
   "outputs": [],
   "source": [
    "def prepare_transition_string(x):\n",
    "    x = x.replace(', {', '{')\n",
    "    to_delete = ['[', ']', '{}']\n",
    "    for ch in to_delete:\n",
    "        x = x.replace(ch, '')\n",
    "    x = x.replace('}{', '}\\t{')\n",
    "    x = x.split('\\t')\n",
    "    return x"
   ]
  },
  {
   "cell_type": "code",
   "execution_count": 9,
   "metadata": {},
   "outputs": [],
   "source": [
    "def get_date(tran):\n",
    "    date_str = tran.split(':')[0][1:].strip()\n",
    "    try:\n",
    "        return parse_date_year(date_str)\n",
    "    except:\n",
    "        return None"
   ]
  },
  {
   "cell_type": "code",
   "execution_count": 10,
   "metadata": {},
   "outputs": [],
   "source": [
    "def get_location(tran):\n",
    "    try:\n",
    "        try:\n",
    "            dic = ast.literal_eval(tran)\n",
    "            lt_ln = list(dic.values())[0]\n",
    "            return lt_ln['lat'], lt_ln['lng']\n",
    "        except:\n",
    "            loc = tran.split(':')[1][:-1].strip()\n",
    "            lt_ln = get_lat_lon(loc)\n",
    "            if not lt_ln:\n",
    "                return None, None\n",
    "            return lt_ln['lat'], lt_ln['lng']\n",
    "    except:\n",
    "        return None, None"
   ]
  },
  {
   "cell_type": "code",
   "execution_count": 11,
   "metadata": {},
   "outputs": [],
   "source": [
    "flattened_df = pd.DataFrame({\"artifact_name\": [], \"year\":[], \"lat\":[], \"lon\":[], \"image_link\":[]})"
   ]
  },
  {
   "cell_type": "code",
   "execution_count": 12,
   "metadata": {},
   "outputs": [
    {
     "name": "stderr",
     "output_type": "stream",
     "text": [
      "460it [00:01, 297.48it/s]\n"
     ]
    }
   ],
   "source": [
    "for index, row in tqdm(result_df.iterrows()):\n",
    "    transitions = prepare_transition_string(row['transitions'])\n",
    "    for tran in transitions:\n",
    "        date = get_date(tran)\n",
    "        if not date:\n",
    "            continue\n",
    "        lat, lon = get_location(tran)\n",
    "        if not lat:\n",
    "            continue\n",
    "        flattened_df = flattened_df.append({\n",
    "            \"artifact_name\": row['artifact_name'],\n",
    "            \"year\": date,\n",
    "            \"lat\" : lat,\n",
    "            \"lon\" : lon,\n",
    "            \"image_link\" : row['image_link']\n",
    "        }, ignore_index = True)"
   ]
  },
  {
   "cell_type": "code",
   "execution_count": 13,
   "metadata": {},
   "outputs": [
    {
     "data": {
      "text/html": [
       "<div>\n",
       "<style scoped>\n",
       "    .dataframe tbody tr th:only-of-type {\n",
       "        vertical-align: middle;\n",
       "    }\n",
       "\n",
       "    .dataframe tbody tr th {\n",
       "        vertical-align: top;\n",
       "    }\n",
       "\n",
       "    .dataframe thead th {\n",
       "        text-align: right;\n",
       "    }\n",
       "</style>\n",
       "<table border=\"1\" class=\"dataframe\">\n",
       "  <thead>\n",
       "    <tr style=\"text-align: right;\">\n",
       "      <th></th>\n",
       "      <th>artifact_name</th>\n",
       "      <th>year</th>\n",
       "      <th>lat</th>\n",
       "      <th>lon</th>\n",
       "      <th>image_link</th>\n",
       "    </tr>\n",
       "  </thead>\n",
       "  <tbody>\n",
       "    <tr>\n",
       "      <th>0</th>\n",
       "      <td>Aphrodite, known as the \"Venus de Milo\"</td>\n",
       "      <td>1821.0</td>\n",
       "      <td>48.860611</td>\n",
       "      <td>2.337644</td>\n",
       "      <td>https://www.louvre.fr/sites/default/files/imag...</td>\n",
       "    </tr>\n",
       "    <tr>\n",
       "      <th>1</th>\n",
       "      <td>The \"Regent\" Diamond</td>\n",
       "      <td>1887.0</td>\n",
       "      <td>48.860611</td>\n",
       "      <td>2.337644</td>\n",
       "      <td>https://www.louvre.fr/sites/default/files/imag...</td>\n",
       "    </tr>\n",
       "    <tr>\n",
       "      <th>2</th>\n",
       "      <td>Horse Restrained by a Groom, called \"Horse of ...</td>\n",
       "      <td>1802.0</td>\n",
       "      <td>48.860611</td>\n",
       "      <td>2.337644</td>\n",
       "      <td>https://www.louvre.fr/sites/default/files/imag...</td>\n",
       "    </tr>\n",
       "    <tr>\n",
       "      <th>3</th>\n",
       "      <td>July 28. Liberty Leading the People (July 28, ...</td>\n",
       "      <td>1983.0</td>\n",
       "      <td>48.860611</td>\n",
       "      <td>2.337644</td>\n",
       "      <td>https://www.louvre.fr/sites/default/files/imag...</td>\n",
       "    </tr>\n",
       "    <tr>\n",
       "      <th>4</th>\n",
       "      <td>Diptych panel in five parts: the Emperor Trium...</td>\n",
       "      <td>1899.0</td>\n",
       "      <td>48.860611</td>\n",
       "      <td>2.337644</td>\n",
       "      <td>https://www.louvre.fr/sites/default/files/imag...</td>\n",
       "    </tr>\n",
       "  </tbody>\n",
       "</table>\n",
       "</div>"
      ],
      "text/plain": [
       "                                       artifact_name    year        lat  \\\n",
       "0            Aphrodite, known as the \"Venus de Milo\"  1821.0  48.860611   \n",
       "1                               The \"Regent\" Diamond  1887.0  48.860611   \n",
       "2  Horse Restrained by a Groom, called \"Horse of ...  1802.0  48.860611   \n",
       "3  July 28. Liberty Leading the People (July 28, ...  1983.0  48.860611   \n",
       "4  Diptych panel in five parts: the Emperor Trium...  1899.0  48.860611   \n",
       "\n",
       "        lon                                         image_link  \n",
       "0  2.337644  https://www.louvre.fr/sites/default/files/imag...  \n",
       "1  2.337644  https://www.louvre.fr/sites/default/files/imag...  \n",
       "2  2.337644  https://www.louvre.fr/sites/default/files/imag...  \n",
       "3  2.337644  https://www.louvre.fr/sites/default/files/imag...  \n",
       "4  2.337644  https://www.louvre.fr/sites/default/files/imag...  "
      ]
     },
     "execution_count": 13,
     "metadata": {},
     "output_type": "execute_result"
    }
   ],
   "source": [
    "flattened_df.head()"
   ]
  },
  {
   "cell_type": "code",
   "execution_count": 14,
   "metadata": {},
   "outputs": [],
   "source": [
    "SAVING_PATH = 'visualization/data/for_visual.csv'"
   ]
  },
  {
   "cell_type": "code",
   "execution_count": 15,
   "metadata": {},
   "outputs": [],
   "source": [
    "flattened_df.to_csv(SAVING_PATH, index=False)"
   ]
  },
  {
   "cell_type": "code",
   "execution_count": null,
   "metadata": {},
   "outputs": [],
   "source": []
  }
 ],
 "metadata": {
  "kernelspec": {
   "display_name": "Python 3",
   "language": "python",
   "name": "python3"
  },
  "language_info": {
   "codemirror_mode": {
    "name": "ipython",
    "version": 3
   },
   "file_extension": ".py",
   "mimetype": "text/x-python",
   "name": "python",
   "nbconvert_exporter": "python",
   "pygments_lexer": "ipython3",
   "version": "3.6.5"
  }
 },
 "nbformat": 4,
 "nbformat_minor": 2
}

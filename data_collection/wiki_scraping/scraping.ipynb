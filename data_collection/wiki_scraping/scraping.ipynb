{
 "cells": [
  {
   "cell_type": "code",
   "execution_count": 212,
   "metadata": {},
   "outputs": [],
   "source": [
    "import requests\n",
    "import pandas as pd\n",
    "S = requests.Session()\n",
    "\n",
    "URL = \"https://en.wikipedia.org/w/api.php\"\n",
    "\n",
    "COMMON_PARAMS = {\n",
    "    \"action\":\"query\",\n",
    "    \"format\":\"json\",\n",
    "    \"list\":\"categorymembers\",\n",
    "    \"cmlimit\": 500\n",
    "}\n",
    "\n",
    "PAGES_DICT = {\n",
    "}\n",
    "\n",
    "CATEGORIES_LIST = []"
   ]
  },
  {
   "cell_type": "code",
   "execution_count": 213,
   "metadata": {},
   "outputs": [],
   "source": [
    "def scrape_page_text(title):\n",
    "    PARAMS = {\n",
    "        \"action\":\"query\",\n",
    "        \"format\":\"json\",\n",
    "        'prop': 'extracts',\n",
    "        'explaintext': True,\n",
    "        'titles': title\n",
    "    }\n",
    "    R = S.get(url=URL, params=PARAMS)\n",
    "    article = R.json()\n",
    "    pages = article['query']['pages']\n",
    "    page_id = next(iter(pages))\n",
    "    text = pages[page_id]['extract']\n",
    "    return text"
   ]
  },
  {
   "cell_type": "code",
   "execution_count": 214,
   "metadata": {},
   "outputs": [
    {
     "data": {
      "text/plain": [
       "'The Ain Sakhri Lovers figurine is a sculpture that was found in one of the Ain Sakhri caves near Bethlehem. The sculpture is considered to be 11,000 years old and to be the oldest known representation of two people engaged in sexual intercourse.\\n\\n\\n== Discovery ==\\nThe sculpture was identified in 1933 by René Neuville, a French consul in Jerusalem and prehistorian, when looking through random finds obtained by the French Fathers at Bethlehem. He found the stone whilst visiting a small museum with Abbé Breuil. Neuville immediately identified it as important and was able to get an introduction to the Bedouin who had made the finds at Wadi Khareitoun. He was led to a location within the Ain Sakhri caves and it is from these caves that the sculpture gets its name. Excavations of the caves revealed that the cave had been used domestically thousands of years ago and the finds were Natufian. For this reason it is thought that the figurine was used domestically and had not been left there as part of a funeral.The person who made the sculpture came from the Natufians, an early Epipaleolithic culture whose members are thought to be the first humans to gather grass seeds that remained attached to their stems. This is an important step in agriculture as it eventually allowed farmers to choose which seeds to eat and which to keep to sow the following season. These people hunted gazelle and are the first known to domesticate dogs, sheep, and goats which also involves selective breeding. It has been speculated that the stability of having a managed food programme allowed the Natufians to create large communities of two to three hundred people and to create art.\\n\\n\\n== Appearance ==\\nThe sculpture was made by carving a single \"calcite cobble\" which was picked away with a stone point to identify the position of the couple. Although it lacks details, such as faces, it is considered to be a clever piece of sculpture. Artist Marc Quinn has noted that the figure looks different depending on the viewer\\'s perspective, and may resemble a couple, a penis, breasts, or a vagina depending on this perspective, or two testicles when viewed upside-down, from the bottom. Quinn compared it to a modern pornographic film where the action may include close-ups and long shots. It is clear that the figures in the couple are facing each other, but the gender of the figures can only be presumed.\\n\\n\\n== Importance and purchase ==\\nAfter the death of René Neuville in 1952, it was purchased by the British Museum at Sotheby\\'s in 1958 from M. Y. Neuville.The object formed the basis of an episode of A History of the World in 100 Objects, a BBC radio programme in January 2010 about the dawn of agriculture.\\n\\n\\n== See also ==\\nList of Stone Age art\\n\\n\\n== References ==\\n\\n\\n== Bibliography ==\\nB. Boyd and J. Cook, \\'A reconsideration of the \"Ain Sakhri\" figurine\\', Proceedings of the Prehistoric Society, 59 (1993), pp. 399–405\\n\\n\\n== External links =='"
      ]
     },
     "execution_count": 214,
     "metadata": {},
     "output_type": "execute_result"
    }
   ],
   "source": [
    "scrape_page_text(\"Ain Sakhri Lovers\")"
   ]
  },
  {
   "cell_type": "code",
   "execution_count": 215,
   "metadata": {},
   "outputs": [],
   "source": [
    "def scrape_page_wikidata(title):\n",
    "    try:\n",
    "        PARAMS = {\n",
    "            \"prop\": \"pageprops\",\n",
    "            \"ppprop\": \"wikibase_item\",\n",
    "            \"format\": \"json\",\n",
    "            \"action\": \"query\",\n",
    "            \"titles\": title\n",
    "        }\n",
    "\n",
    "        R = S.get(url=URL, params=PARAMS)\n",
    "        metadata = R.json()\n",
    "        metadata = metadata['query']['pages']\n",
    "        page_id = next(iter(metadata))\n",
    "        entity = metadata[page_id][\"pageprops\"][\"wikibase_item\"]\n",
    "\n",
    "        PARAMS = {\n",
    "            \"format\": \"json\",\n",
    "            \"query\": \n",
    "            '\\\n",
    "                SELECT ?wdLabel ?ps_Label ?wdpqLabel ?pq_Label {\\\n",
    "                  VALUES (?company) {(wd:' + entity + ')}\\\n",
    "                        ?company ?p ?statement .\\\n",
    "                        ?statement ?ps ?ps_ .\\\n",
    "                        ?wd wikibase:claim ?p.\\\n",
    "                        ?wd wikibase:statementProperty ?ps.\\\n",
    "                        OPTIONAL {\\\n",
    "                          ?statement ?pq ?pq_ .\\\n",
    "                          ?wdpq wikibase:qualifier ?pq .\\\n",
    "                        }\\\n",
    "                      SERVICE wikibase:label { bd:serviceParam wikibase:language \"en\" }\\\n",
    "                    }\\\n",
    "                ORDER BY ?wd ?statement ?ps_'\n",
    "        }\n",
    "        R = S.get(url=\"https://query.wikidata.org/sparql\", params=PARAMS)\n",
    "        wikidata_json = R.json()\n",
    "        results = {}\n",
    "        for obj in wikidata_json['results']['bindings']:\n",
    "            key = obj['wdLabel']['value']\n",
    "            val = obj['ps_Label']['value']\n",
    "            results[key] = val\n",
    "        return results\n",
    "    except:\n",
    "        return {}"
   ]
  },
  {
   "cell_type": "code",
   "execution_count": 216,
   "metadata": {},
   "outputs": [
    {
     "data": {
      "text/plain": [
       "{'country': 'Iraq',\n",
       " 'image': 'http://commons.wikimedia.org/wiki/Special:FilePath/Bassetki%20statue.jpg',\n",
       " 'material used': 'copper',\n",
       " 'location of discovery': 'Bassetki',\n",
       " 'instance of': 'cultural property',\n",
       " 'mass': '150',\n",
       " 'CDLI ID': 'P216558',\n",
       " 'BabelNet ID': '02706642n',\n",
       " 'location': 'National Museum of Iraq',\n",
       " 'inception': '-2350-01-01T00:00:00Z',\n",
       " 'Freebase ID': '/m/0h943gk'}"
      ]
     },
     "execution_count": 216,
     "metadata": {},
     "output_type": "execute_result"
    }
   ],
   "source": [
    "scrape_page_wikidata(\"Bassetki Statue\")"
   ]
  },
  {
   "cell_type": "code",
   "execution_count": 217,
   "metadata": {},
   "outputs": [],
   "source": [
    "def rec_scrape_pages(category_name, cmcontinue = False):\n",
    "    PARAMS = COMMON_PARAMS\n",
    "    PARAMS[\"cmtype\"] = \"page\"\n",
    "    PARAMS[\"cmtitle\"] = category_name\n",
    "    R = S.get(url=URL, params=PARAMS)\n",
    "    articles = R.json()\n",
    "    if articles.get('continue', False):\n",
    "        cmcontinue = articles['continue']['cmcontinue']\n",
    "    payload = articles['query']['categorymembers']\n",
    "    for page in payload:\n",
    "        title = page['title']\n",
    "        if PAGES_DICT.get(title, False):\n",
    "            continue\n",
    "        else:\n",
    "            try:\n",
    "                text = scrape_page_text(title)\n",
    "                wikidata = scrape_page_wikidata(title)\n",
    "                PAGES_DICT[title] = {\n",
    "                    \"category\": category_name,\n",
    "                    \"title\": title,\n",
    "                    \"text\": text,\n",
    "                    \"location\": wikidata.get('location', ''),\n",
    "                    \"inception\": wikidata.get('inception', ''),\n",
    "                    \"image\": wikidata.get('image', ''),\n",
    "                    \"discovery\": wikidata.get('location of discovery', ''),\n",
    "                    \"country\": wikidata.get('country', '')\n",
    "                }\n",
    "            except Exception as e:\n",
    "                print(\"An exception occurred at page \", title)\n",
    "                print(e)\n",
    "    if cmcontinue:\n",
    "        rec_scrape_pages(category_name, cmcontinue)\n",
    "    print(articles)"
   ]
  },
  {
   "cell_type": "code",
   "execution_count": 218,
   "metadata": {},
   "outputs": [
    {
     "name": "stdout",
     "output_type": "stream",
     "text": [
      "{'batchcomplete': '', 'query': {'categorymembers': [{'pageid': 43542390, 'ns': 0, 'title': 'List of hoards in Asia'}, {'pageid': 48773752, 'ns': 0, 'title': 'Magdala stone'}, {'pageid': 44716989, 'ns': 0, 'title': 'Prehistoric grave goods in the Philippines'}, {'pageid': 52197343, 'ns': 0, 'title': 'Tillya Tepe Buddhist coin'}]}}\n"
     ]
    }
   ],
   "source": [
    "rec_scrape_pages(\"Category:Archaeological_discoveries_in_Asia\")"
   ]
  },
  {
   "cell_type": "code",
   "execution_count": 223,
   "metadata": {},
   "outputs": [],
   "source": [
    "def rec_scrape_cat(category_name, cmcontinue = False):\n",
    "    PARAMS = COMMON_PARAMS\n",
    "    PARAMS[\"cmtitle\"] = category_name,\n",
    "    PARAMS[\"cmtype\"] = \"subcat\"\n",
    "    \n",
    "    R = S.get(url=URL, params=PARAMS)\n",
    "    subcategories = R.json()\n",
    "    if subcategories.get('continue', False):\n",
    "        cmcontinue = subcategories['continue']['cmcontinue']\n",
    "    payload = subcategories['query']['categorymembers']\n",
    "    for ind, subcategory in enumerate(payload):\n",
    "        print(\"Saving, categories processed\", ind)\n",
    "        df = pd.DataFrame.from_dict(PAGES_DICT, orient='index')\n",
    "        df.to_csv(\"scraped.csv\")\n",
    "        title = subcategory['title']\n",
    "        if title in CATEGORIES_LIST:\n",
    "            continue\n",
    "        else:\n",
    "            CATEGORIES_LIST.append(title)\n",
    "            try:\n",
    "                rec_scrape_pages(title)\n",
    "                rec_scrape_cat(title)\n",
    "            except:\n",
    "                  print(\"An exception occurred at category \", title)   \n",
    "    if cmcontinue:\n",
    "        rec_scrape_pages(category_name, cmcontinue)"
   ]
  },
  {
   "cell_type": "code",
   "execution_count": null,
   "metadata": {},
   "outputs": [
    {
     "name": "stdout",
     "output_type": "stream",
     "text": [
      "Saving, categories processed 0\n",
      "{'batchcomplete': '', 'query': {'categorymembers': [{'pageid': 584894, 'ns': 0, 'title': 'Artifact (archaeology)'}, {'pageid': 113276, 'ns': 0, 'title': 'Adze'}, {'pageid': 2429941, 'ns': 0, 'title': 'Andiron'}, {'pageid': 4001002, 'ns': 0, 'title': 'Ard (plough)'}, {'pageid': 51513, 'ns': 0, 'title': 'Arrow'}, {'pageid': 642882, 'ns': 0, 'title': 'Assemblage (archaeology)'}, {'pageid': 1923399, 'ns': 0, 'title': 'Astragalomancy'}, {'pageid': 21808488, 'ns': 0, 'title': 'Axe of Perun'}, {'pageid': 8486816, 'ns': 0, 'title': 'Bannerstone'}, {'pageid': 1326668, 'ns': 0, 'title': 'Bâton de commandement'}, {'pageid': 1925449, 'ns': 0, 'title': 'Beaker (archaeology)'}, {'pageid': 1776719, 'ns': 0, 'title': 'Bi (jade)'}, {'pageid': 677277, 'ns': 0, 'title': 'Blade (archaeology)'}, {'pageid': 6532888, 'ns': 0, 'title': 'Bog butter'}, {'pageid': 3443698, 'ns': 0, 'title': 'Bone tool'}, {'pageid': 1491240, 'ns': 0, 'title': 'Bout-coupé'}, {'pageid': 2073328, 'ns': 0, 'title': 'Briquetage'}, {'pageid': 2421056, 'ns': 0, 'title': 'Bronze Age sword'}, {'pageid': 4724742, 'ns': 0, 'title': 'Bronze mirror'}, {'pageid': 8153480, 'ns': 0, 'title': 'Bucchero'}, {'pageid': 1397766, 'ns': 0, 'title': 'Buddha footprint'}, {'pageid': 1902937, 'ns': 0, 'title': 'Bulla (amulet)'}, {'pageid': 617263, 'ns': 0, 'title': 'Burin (lithic flake)'}, {'pageid': 24514641, 'ns': 0, 'title': 'Calceology'}, {'pageid': 11244193, 'ns': 0, 'title': 'Carved stone balls'}, {'pageid': 749870, 'ns': 0, 'title': 'Celt (tool)'}, {'pageid': 34238866, 'ns': 0, 'title': 'Ceramic building material'}, {'pageid': 4875787, 'ns': 0, 'title': 'Chape'}, {'pageid': 45748, 'ns': 0, 'title': 'Chariot'}, {'pageid': 1930255, 'ns': 0, 'title': 'Chopper (archaeology)'}, {'pageid': 4096430, 'ns': 0, 'title': 'Chopper core'}, {'pageid': 1930293, 'ns': 0, 'title': 'Chopping tool'}, {'pageid': 2499103, 'ns': 0, 'title': 'Claw beaker'}, {'pageid': 44155942, 'ns': 0, 'title': 'Clay drum (archaeology)'}, {'pageid': 2052593, 'ns': 0, 'title': 'Clay nail'}, {'pageid': 306575, 'ns': 0, 'title': 'Clay tablet'}, {'pageid': 3741966, 'ns': 0, 'title': 'Cleaver (tool)'}, {'pageid': 7056912, 'ns': 0, 'title': 'Clootie well'}, {'pageid': 661510, 'ns': 0, 'title': 'Clovis point'}, {'pageid': 1776566, 'ns': 0, 'title': 'Cong (vessel)'}, {'pageid': 4310348, 'ns': 0, 'title': 'Cupstone'}, {'pageid': 2690551, 'ns': 0, 'title': 'Cylinder seal'}, {'pageid': 7090856, 'ns': 0, 'title': 'Datestone'}, {'pageid': 609444, 'ns': 0, 'title': 'Denticulate tool'}, {'pageid': 4784544, 'ns': 0, 'title': 'Dogū'}, {'pageid': 2784736, 'ns': 0, 'title': 'Drinking horn'}, {'pageid': 34215657, 'ns': 0, 'title': 'Eccentric flint'}, {'pageid': 2368008, 'ns': 0, 'title': 'Elf-arrow'}, {'pageid': 3968277, 'ns': 0, 'title': 'Eolith'}, {'pageid': 6234941, 'ns': 0, 'title': 'Fibula (brooch)'}, {'pageid': 3649788, 'ns': 0, 'title': 'Ficron'}, {'pageid': 143173, 'ns': 0, 'title': 'Fire-cracked rock'}, {'pageid': 4096304, 'ns': 0, 'title': 'Flake tool'}, {'pageid': 27879727, 'ns': 0, 'title': 'Flesh-hook'}, {'pageid': 48562711, 'ns': 0, 'title': 'Glirarium'}, {'pageid': 10841655, 'ns': 0, 'title': 'Gold lunula'}, {'pageid': 2406818, 'ns': 0, 'title': 'Golden hat'}, {'pageid': 31502109, 'ns': 0, 'title': 'Golondrina point'}, {'pageid': 723048, 'ns': 0, 'title': 'Grave goods'}, {'pageid': 15962283, 'ns': 0, 'title': 'Grave orb'}, {'pageid': 143833, 'ns': 0, 'title': 'Grinding slab'}, {'pageid': 650468, 'ns': 0, 'title': 'Grooved ware'}, {'pageid': 27968148, 'ns': 0, 'title': 'Guatimac'}, {'pageid': 140302, 'ns': 0, 'title': 'Hammerstone'}, {'pageid': 320336, 'ns': 0, 'title': 'Hand axe'}, {'pageid': 14688484, 'ns': 0, 'title': \"Hercules' Club (amulet)\"}, {'pageid': 1082799, 'ns': 0, 'title': 'Horned helmet'}, {'pageid': 36743319, 'ns': 0, 'title': 'Hornfels in Victorian archaeological sites'}, {'pageid': 2535627, 'ns': 0, 'title': 'Imbrex and tegula'}, {'pageid': 16320942, 'ns': 0, 'title': 'Impasto (pottery)'}, {'pageid': 10092636, 'ns': 0, 'title': 'Indian copper plate inscriptions'}, {'pageid': 3609410, 'ns': 0, 'title': 'Jiroft culture'}, {'pageid': 40010432, 'ns': 0, 'title': 'Kannada inscriptions'}, {'pageid': 30484405, 'ns': 0, 'title': 'Kimberley points'}, {'pageid': 926415, 'ns': 0, 'title': 'Larnax'}, {'pageid': 140992, 'ns': 0, 'title': 'Lithic core'}, {'pageid': 140901, 'ns': 0, 'title': 'Lithic flake'}, {'pageid': 140305, 'ns': 0, 'title': 'Lithic reduction'}, {'pageid': 755291, 'ns': 0, 'title': 'Lock ring'}, {'pageid': 6002527, 'ns': 0, 'title': 'Luristan bronze'}, {'pageid': 3213320, 'ns': 0, 'title': 'Lydion'}, {'pageid': 648545, 'ns': 0, 'title': 'Manuport'}, {'pageid': 2613743, 'ns': 0, 'title': 'Microblade technology'}, {'pageid': 1164794, 'ns': 0, 'title': 'Microburin'}, {'pageid': 26458311, 'ns': 0, 'title': 'Microburin technique'}, {'pageid': 221613, 'ns': 0, 'title': 'Mjölnir'}, {'pageid': 5857167, 'ns': 0, 'title': 'Moko drums'}, {'pageid': 34213099, 'ns': 0, 'title': 'Muisca raft'}, {'pageid': 191936, 'ns': 0, 'title': 'Oil lamp'}, {'pageid': 1165275, 'ns': 0, 'title': 'Ostracon'}, {'pageid': 20207047, 'ns': 0, 'title': 'Oxhide ingot'}, {'pageid': 11228570, 'ns': 0, 'title': 'Palstave'}, {'pageid': 7106109, 'ns': 0, 'title': 'Petrosomatoglyph'}, {'pageid': 11189631, 'ns': 0, 'title': 'Petrosphere'}, {'pageid': 4539992, 'ns': 0, 'title': 'Pim weight'}, {'pageid': 1801101, 'ns': 0, 'title': 'Plano point'}, {'pageid': 2182244, 'ns': 0, 'title': 'Prepared-core technique'}, {'pageid': 141264, 'ns': 0, 'title': 'Prismatic blade'}, {'pageid': 143830, 'ns': 0, 'title': 'Projectile point'}, {'pageid': 3321866, 'ns': 0, 'title': 'Psi and phi type figurine'}, {'pageid': 923872, 'ns': 0, 'title': 'Quern-stone'}, {'pageid': 661460, 'ns': 0, 'title': 'Racloir'}, {'pageid': 365439, 'ns': 0, 'title': 'Rhyton'}, {'pageid': 13548183, 'ns': 0, 'title': 'Roman brick'}, {'pageid': 1945303, 'ns': 0, 'title': 'Roman dodecahedron'}, {'pageid': 7092344, 'ns': 0, 'title': 'Scottish painted pebbles'}, {'pageid': 1898321, 'ns': 0, 'title': 'Scraper (archaeology)'}, {'pageid': 46757420, 'ns': 0, 'title': 'Shell tools in the Philippines'}, {'pageid': 143831, 'ns': 0, 'title': 'Sherd'}, {'pageid': 685768, 'ns': 0, 'title': 'Shoe-last celt'}, {'pageid': 3801417, 'ns': 0, 'title': 'Situla'}, {'pageid': 202388, 'ns': 0, 'title': 'Spear-thrower'}, {'pageid': 54065216, 'ns': 0, 'title': 'Split-twig figurine'}, {'pageid': 142839, 'ns': 0, 'title': 'Stone tool'}, {'pageid': 4048100, 'ns': 0, 'title': 'Stone wrist-guard'}, {'pageid': 55581576, 'ns': 0, 'title': 'Sword of Freyr'}, {'pageid': 40293196, 'ns': 0, 'title': 'Tachylite in Victorian archaeological sites'}, {'pageid': 3488625, 'ns': 0, 'title': 'Tamga'}, {'pageid': 3999220, 'ns': 0, 'title': 'Tamil copper-plate inscriptions'}, {'pageid': 991395, 'ns': 0, 'title': 'Timber circle'}, {'pageid': 29436532, 'ns': 0, 'title': 'Tissamaharama Tamil Brahmi inscription'}, {'pageid': 141234, 'ns': 0, 'title': 'Tool stone'}, {'pageid': 249405, 'ns': 0, 'title': 'Torc'}, {'pageid': 1115977, 'ns': 0, 'title': 'Transverse arrowhead'}, {'pageid': 571630, 'ns': 0, 'title': 'Venus figurines'}, {'pageid': 53601126, 'ns': 0, 'title': 'Venus figurines of Petersfels'}, {'pageid': 481398, 'ns': 0, 'title': 'Venus of Willendorf'}, {'pageid': 47262048, 'ns': 0, 'title': 'Votive offering'}, {'pageid': 12183009, 'ns': 0, 'title': 'Zierscheibe'}]}}\n",
      "Saving, categories processed 0\n",
      "{'batchcomplete': '', 'query': {'categorymembers': [{'pageid': 57140071, 'ns': 0, 'title': 'Ancient Egyptian pottery'}, {'pageid': 1185340, 'ns': 0, 'title': 'Asbestos-ceramic'}, {'pageid': 24091653, 'ns': 0, 'title': 'Ayla-Axum amphorae'}, {'pageid': 29402308, 'ns': 0, 'title': 'Bead-rim pottery'}, {'pageid': 35608259, 'ns': 0, 'title': 'Beveled rim bowl'}, {'pageid': 51873534, 'ns': 0, 'title': 'Bocchoris vase'}, {'pageid': 33915631, 'ns': 0, 'title': 'Chocolate-on-white ware'}, {'pageid': 47918302, 'ns': 0, 'title': 'Comb Ceramic'}, {'pageid': 31440184, 'ns': 0, 'title': 'Dark faced burnished ware'}, {'pageid': 18909475, 'ns': 0, 'title': 'Edomite pottery'}, {'pageid': 650468, 'ns': 0, 'title': 'Grooved ware'}, {'pageid': 47870665, 'ns': 0, 'title': 'Jeulmun pottery period'}, {'pageid': 14443970, 'ns': 0, 'title': 'Jōmon pottery'}, {'pageid': 37666432, 'ns': 0, 'title': 'Kassite art'}, {'pageid': 30913741, 'ns': 0, 'title': 'Khabur ware'}, {'pageid': 31704630, 'ns': 0, 'title': 'Kvevri'}, {'pageid': 33156415, 'ns': 0, 'title': 'La Almagra pottery'}, {'pageid': 12233812, 'ns': 0, 'title': 'Levantine pottery'}, {'pageid': 30865121, 'ns': 0, 'title': 'Linear Pottery culture'}, {'pageid': 826850, 'ns': 0, 'title': 'Maitum anthropomorphic pottery'}, {'pageid': 31347126, 'ns': 0, 'title': 'McClelland sherd'}, {'pageid': 18910307, 'ns': 0, 'title': 'Midianite pottery'}, {'pageid': 3274598, 'ns': 0, 'title': 'Minoan pottery'}, {'pageid': 3505400, 'ns': 0, 'title': 'Mumun pottery period'}, {'pageid': 56337282, 'ns': 0, 'title': 'Nakhchivan Tepe'}, {'pageid': 19126058, 'ns': 0, 'title': 'Negevite pottery'}, {'pageid': 36122462, 'ns': 0, 'title': 'Odai Yamamoto I site'}, {'pageid': 650536, 'ns': 0, 'title': 'Peterborough ware'}, {'pageid': 174814, 'ns': 0, 'title': 'Phaistos Disc'}, {'pageid': 54083930, 'ns': 0, 'title': 'Pitcher, with a ritual hunt scene'}, {'pageid': 38629085, 'ns': 0, 'title': 'Pottery of ancient Cyprus'}, {'pageid': 33785217, 'ns': 0, 'title': 'Puerto Marques'}, {'pageid': 33915751, 'ns': 0, 'title': 'Tell el-Yahudiyeh Ware'}, {'pageid': 571599, 'ns': 0, 'title': 'Venus of Dolní Věstonice'}, {'pageid': 31430984, 'ns': 0, 'title': 'White Ware'}, {'pageid': 41349438, 'ns': 0, 'title': 'William the Faience Hippopotamus'}, {'pageid': 40109836, 'ns': 0, 'title': 'Yunggimun pottery'}]}}\n",
      "Saving, categories processed 0\n"
     ]
    },
    {
     "name": "stdout",
     "output_type": "stream",
     "text": [
      "{'batchcomplete': '', 'query': {'categorymembers': [{'pageid': 1076007, 'ns': 0, 'title': 'Pottery of ancient Greece'}, {'pageid': 55218815, 'ns': 0, 'title': 'Ancient Greek funerary vases'}, {'pageid': 55140605, 'ns': 0, 'title': 'Arezzo 1465 vase'}, {'pageid': 53597975, 'ns': 0, 'title': 'Conservation and restoration of ancient Greek pottery'}, {'pageid': 6438977, 'ns': 0, 'title': 'Corpus vasorum antiquorum'}, {'pageid': 42212177, 'ns': 0, 'title': 'Cypriot Bichrome ware'}, {'pageid': 2881974, 'ns': 0, 'title': 'Demaratus of Corinth'}, {'pageid': 55209498, 'ns': 0, 'title': 'Drinking cup (kylix) depicting athletic combats by Onesimos'}, {'pageid': 55270051, 'ns': 0, 'title': 'Gigantomachy by the Suessula Painter'}, {'pageid': 51928965, 'ns': 10, 'title': 'Template:Greek vase painting'}, {'pageid': 8238007, 'ns': 0, 'title': 'Kalos inscription'}, {'pageid': 20156425, 'ns': 0, 'title': 'Kamares ware'}, {'pageid': 55149055, 'ns': 0, 'title': 'Kerameikos steles'}, {'pageid': 14754006, 'ns': 0, 'title': 'Minyan ware'}, {'pageid': 14946338, 'ns': 0, 'title': 'Mycenaean pottery'}, {'pageid': 16933614, 'ns': 0, 'title': 'Ninnion Tablet'}, {'pageid': 55142014, 'ns': 0, 'title': 'Odysseus in the Underworld krater'}, {'pageid': 191936, 'ns': 0, 'title': 'Oil lamp'}, {'pageid': 16807400, 'ns': 0, 'title': 'Philistine Bichrome ware'}, {'pageid': 8023588, 'ns': 0, 'title': 'Pinax'}, {'pageid': 1457406, 'ns': 0, 'title': 'Red-figure pottery'}, {'pageid': 27305155, 'ns': 0, 'title': 'Regina Vasorum'}, {'pageid': 33489714, 'ns': 0, 'title': 'Siana Cup'}, {'pageid': 17096722, 'ns': 0, 'title': 'Stirrup jar'}, {'pageid': 33503220, 'ns': 0, 'title': 'Sub-Mycenaean pottery'}, {'pageid': 33503411, 'ns': 0, 'title': 'Three-phase firing'}, {'pageid': 18673799, 'ns': 0, 'title': 'Unguentarium'}, {'pageid': 1241442, 'ns': 0, 'title': 'Urn'}, {'pageid': 6198252, 'ns': 0, 'title': 'Vasiliki ware'}, {'pageid': 2521050, 'ns': 0, 'title': 'Youra Potsherds'}]}}\n",
      "Saving, categories processed 0\n",
      "{'batchcomplete': '', 'query': {'categorymembers': [{'pageid': 51812, 'ns': 0, 'title': 'Amphora'}, {'pageid': 45294007, 'ns': 0, 'title': 'Amphora of Hermonax in Würzburg'}, {'pageid': 24091653, 'ns': 0, 'title': 'Ayla-Axum amphorae'}, {'pageid': 32659557, 'ns': 0, 'title': 'Belly Amphora by the Andokides Painter (Munich 2301)'}, {'pageid': 55467906, 'ns': 0, 'title': 'Dipylon Amphora'}, {'pageid': 55476212, 'ns': 0, 'title': 'Eleusis Amphora'}, {'pageid': 55599249, 'ns': 0, 'title': 'Elgin Amphora'}, {'pageid': 33455164, 'ns': 0, 'title': 'Horsehead Amphora'}, {'pageid': 41516176, 'ns': 0, 'title': 'Horses Amphora'}, {'pageid': 44258322, 'ns': 0, 'title': 'Judgement of Paris Amphora'}, {'pageid': 41519803, 'ns': 0, 'title': 'Melian pithamphora'}, {'pageid': 54847518, 'ns': 0, 'title': 'Mycenaean palace amphora with octopus (NAMA 6725)'}, {'pageid': 44471760, 'ns': 0, 'title': 'Neck Amphora by Exekias (Berlin F 1720)'}, {'pageid': 33489963, 'ns': 0, 'title': 'Nikosthenic amphora'}, {'pageid': 48514476, 'ns': 0, 'title': 'Nolan amphora'}, {'pageid': 42303956, 'ns': 0, 'title': 'Rider Amphora'}, {'pageid': 55305097, 'ns': 0, 'title': 'Suicide of Ajax Vase'}, {'pageid': 50401180, 'ns': 0, 'title': 'Two-handled amphora (Boston 63.1515)'}, {'pageid': 33467881, 'ns': 0, 'title': 'Tyrrhenian amphorae'}, {'pageid': 51970451, 'ns': 10, 'title': 'Template:Greek amphorae'}]}}\n",
      "Saving, categories processed 0\n",
      "{'batchcomplete': '', 'query': {'categorymembers': [{'pageid': 6432082, 'ns': 0, 'title': 'Panathenaic amphora'}, {'pageid': 45172880, 'ns': 0, 'title': 'Burgon vase'}, {'pageid': 55143893, 'ns': 0, 'title': 'Euphiletos Painter Panathenaic prize amphora'}, {'pageid': 55202661, 'ns': 0, 'title': 'Kleophrades Painter Panathenaic prize amphora'}]}}\n",
      "Saving, categories processed 1\n",
      "An exception occurred at category  Category:Ancient Greek pot shapes\n",
      "Saving, categories processed 2\n",
      "{'batchcomplete': '', 'query': {'categorymembers': [{'pageid': 6412839, 'ns': 0, 'title': 'The Affecter'}, {'pageid': 33453774, 'ns': 0, 'title': 'Amasis (potter)'}, {'pageid': 448782, 'ns': 0, 'title': 'Andokides (potter)'}, {'pageid': 6837736, 'ns': 0, 'title': 'Brygos'}, {'pageid': 33489325, 'ns': 0, 'title': 'Ergoteles (potter)'}, {'pageid': 8231820, 'ns': 0, 'title': 'Ergotimos'}, {'pageid': 2828199, 'ns': 0, 'title': 'Euphronios'}, {'pageid': 5658889, 'ns': 0, 'title': 'Euthymides'}, {'pageid': 1079384, 'ns': 0, 'title': 'Exekias'}, {'pageid': 15449723, 'ns': 0, 'title': 'Gryton'}, {'pageid': 33489463, 'ns': 0, 'title': 'Hermogenes (potter)'}, {'pageid': 33495851, 'ns': 0, 'title': 'Hypereides (potter)'}, {'pageid': 7355358, 'ns': 0, 'title': 'Kachrylion'}, {'pageid': 33488657, 'ns': 0, 'title': 'Little Masters (Greek vase painting)'}, {'pageid': 5113204, 'ns': 0, 'title': 'Nikosthenes'}, {'pageid': 15265094, 'ns': 0, 'title': 'Parmeniskos group'}, {'pageid': 6928212, 'ns': 0, 'title': 'Phintias (painter)'}, {'pageid': 33489002, 'ns': 0, 'title': 'Phrynos'}, {'pageid': 6435289, 'ns': 0, 'title': 'Pioneer Group'}, {'pageid': 33489165, 'ns': 0, 'title': 'Sokles'}, {'pageid': 33444646, 'ns': 0, 'title': 'Tleson'}]}}\n",
      "Saving, categories processed 0\n",
      "An exception occurred at category  Category:Ancient Greek vase painters\n",
      "Saving, categories processed 3\n",
      "{'batchcomplete': '', 'query': {'categorymembers': [{'pageid': 55375021, 'ns': 0, 'title': 'Athenian Band Cup by the Oakeshott Painter (MET 17.230.5)'}, {'pageid': 51947928, 'ns': 0, 'title': 'Attic vase painting'}, {'pageid': 33468207, 'ns': 0, 'title': 'Band cup'}, {'pageid': 33489739, 'ns': 0, 'title': 'Band skyphos'}, {'pageid': 33495321, 'ns': 0, 'title': 'Bilingual vase painting'}, {'pageid': 6478905, 'ns': 0, 'title': 'François Vase'}, {'pageid': 16933614, 'ns': 0, 'title': 'Ninnion Tablet'}, {'pageid': 17887923, 'ns': 0, 'title': 'Proto-Attic vase painting'}]}}\n",
      "Saving, categories processed 4\n",
      "An exception occurred at category  Category:Ancient Greek pottery figurines\n",
      "Saving, categories processed 5\n",
      "An exception occurred at category  Category:Scholars of ancient Greek pottery\n",
      "Saving, categories processed 6\n",
      "{'batchcomplete': '', 'query': {'categorymembers': [{'pageid': 14786456, 'ns': 0, 'title': 'Apulian vase painting'}, {'pageid': 33502550, 'ns': 0, 'title': 'Argive vase painting'}, {'pageid': 32659557, 'ns': 0, 'title': 'Belly Amphora by the Andokides Painter (Munich 2301)'}, {'pageid': 33495321, 'ns': 0, 'title': 'Bilingual vase painting'}, {'pageid': 1076046, 'ns': 0, 'title': 'Black-figure pottery'}, {'pageid': 33502827, 'ns': 0, 'title': 'Black-glazed Ware'}, {'pageid': 33496271, 'ns': 0, 'title': 'Boeotian vase painting'}, {'pageid': 55211059, 'ns': 0, 'title': 'Boxing Siana Cup'}, {'pageid': 33502305, 'ns': 0, 'title': 'Caeretan hydria'}, {'pageid': 33502983, 'ns': 0, 'title': 'Campanian vase painting'}, {'pageid': 33502867, 'ns': 0, 'title': 'Canosa vases'}, {'pageid': 33502845, 'ns': 0, 'title': 'Centuripe ware'}, {'pageid': 33502472, 'ns': 0, 'title': 'Chalkidian pottery'}, {'pageid': 33502580, 'ns': 0, 'title': 'Cycladic vase painting'}, {'pageid': 33503094, 'ns': 0, 'title': 'East Greek Bird Bowl'}, {'pageid': 33502138, 'ns': 0, 'title': 'East Greek vase painting'}, {'pageid': 33502432, 'ns': 0, 'title': 'Etruscan vase painting'}, {'pageid': 33502113, 'ns': 0, 'title': 'Euboean vase painting'}, {'pageid': 6477769, 'ns': 0, 'title': 'Geometric art'}, {'pageid': 33502886, 'ns': 0, 'title': 'Gnathia vases'}, {'pageid': 33502938, 'ns': 0, 'title': 'Hadra vase'}, {'pageid': 33502751, 'ns': 0, 'title': 'Ionic vase painting'}, {'pageid': 33496376, 'ns': 0, 'title': 'Kabiria Group'}, {'pageid': 6517064, 'ns': 0, 'title': 'Kerch style'}, {'pageid': 33502230, 'ns': 0, 'title': 'Klazomenian sarcophagi'}, {'pageid': 33503005, 'ns': 0, 'title': 'Klazomenian vase painting'}, {'pageid': 33495924, 'ns': 0, 'title': 'Laconian vase painting'}, {'pageid': 33455919, 'ns': 0, 'title': 'Little-Master cup'}, {'pageid': 33503044, 'ns': 0, 'title': 'Lucanian vase painting'}, {'pageid': 33490246, 'ns': 0, 'title': 'Mannerists (Greek vase painting)'}, {'pageid': 3274598, 'ns': 0, 'title': 'Minoan pottery'}, {'pageid': 14754006, 'ns': 0, 'title': 'Minyan ware'}, {'pageid': 14946338, 'ns': 0, 'title': 'Mycenaean pottery'}, {'pageid': 33502178, 'ns': 0, 'title': 'Northampton Group'}, {'pageid': 6516976, 'ns': 0, 'title': 'Orientalizing period'}, {'pageid': 33503193, 'ns': 0, 'title': 'Paestan vase painting'}, {'pageid': 33502355, 'ns': 0, 'title': 'Pontic Group'}, {'pageid': 6515442, 'ns': 0, 'title': 'Protogeometric style'}, {'pageid': 33502522, 'ns': 0, 'title': 'Pseudo-Chalkidian vase painting'}, {'pageid': 1457406, 'ns': 0, 'title': 'Red-figure pottery'}, {'pageid': 33502258, 'ns': 0, 'title': 'Rhodian vase painting'}, {'pageid': 33502712, 'ns': 0, 'title': 'Samian vase painting'}, {'pageid': 33502785, 'ns': 0, 'title': 'Sicilian vase painting'}, {'pageid': 6418672, 'ns': 0, 'title': \"Six's technique\"}, {'pageid': 9068787, 'ns': 0, 'title': 'South Italian ancient Greek pottery'}, {'pageid': 33502533, 'ns': 0, 'title': 'Thessalian vase painting'}, {'pageid': 33502813, 'ns': 0, 'title': 'West Slope Ware'}, {'pageid': 6474366, 'ns': 0, 'title': 'White ground technique'}, {'pageid': 7135969, 'ns': 0, 'title': 'Wild Goat Style'}]}}\n",
      "Saving, categories processed 7\n"
     ]
    },
    {
     "name": "stdout",
     "output_type": "stream",
     "text": [
      "{'batchcomplete': '', 'query': {'categorymembers': []}}\n",
      "Saving, categories processed 0\n",
      "Saving, categories processed 1\n",
      "{'batchcomplete': '', 'query': {'categorymembers': [{'pageid': 33454968, 'ns': 0, 'title': 'Amphiaraos Krater'}, {'pageid': 33496181, 'ns': 0, 'title': 'Arkesilas Cup'}, {'pageid': 14672667, 'ns': 0, 'title': 'Berlin Foundry Cup'}, {'pageid': 55139644, 'ns': 0, 'title': 'Bilingual kylix by the Andokides painter'}, {'pageid': 55961952, 'ns': 0, 'title': \"Boeotian Dancer's Group Kothon, Black Figure Tripod, 6th Century B.C.\"}, {'pageid': 55211059, 'ns': 0, 'title': 'Boxing Siana Cup'}, {'pageid': 41478771, 'ns': 0, 'title': 'Brygos cup of Würzburg'}, {'pageid': 55151929, 'ns': 0, 'title': 'Calyx-Krater by the artist called the Painter of the Berlin Hydria depicting an Amazonomachy'}, {'pageid': 17018854, 'ns': 0, 'title': 'Chigi vase'}, {'pageid': 49388959, 'ns': 0, 'title': 'Cylix of Apollo'}, {'pageid': 43345880, 'ns': 0, 'title': 'Dinos of the Gorgon Painter'}, {'pageid': 44275157, 'ns': 0, 'title': 'Dionysus Cup'}, {'pageid': 4041366, 'ns': 0, 'title': 'Dipylon Inscription'}, {'pageid': 55140757, 'ns': 0, 'title': 'Dipylon krater'}, {'pageid': 57932149, 'ns': 0, 'title': 'Eleusinian Mysteries Hydria'}, {'pageid': 49184340, 'ns': 0, 'title': 'Euphorbos plate'}, {'pageid': 3945590, 'ns': 0, 'title': 'Euphronios Krater'}, {'pageid': 16312894, 'ns': 0, 'title': 'Eurymedon vase'}, {'pageid': 33454924, 'ns': 0, 'title': 'Eurytios Krater'}, {'pageid': 6478905, 'ns': 0, 'title': 'François Vase'}, {'pageid': 52400043, 'ns': 0, 'title': 'Hercules and the lion of Nemea (Louvre Museum, L 31 MN B909)'}, {'pageid': 41516176, 'ns': 0, 'title': 'Horses Amphora'}, {'pageid': 55174136, 'ns': 0, 'title': 'Jar (pelike) with Odysseus and Elpenor'}, {'pageid': 50398479, 'ns': 0, 'title': 'Mixing bowl with the exposure of baby Aegisthos'}, {'pageid': 10942529, 'ns': 0, 'title': 'Mykonos vase'}, {'pageid': 4048623, 'ns': 0, 'title': \"Nestor's Cup\"}, {'pageid': 14475295, 'ns': 0, 'title': 'Oinochoe by the Shuvalov Painter (Berlin F2414)'}, {'pageid': 50378574, 'ns': 0, 'title': 'Pelike with actors preparing'}, {'pageid': 27305155, 'ns': 0, 'title': 'Regina Vasorum'}, {'pageid': 31149859, 'ns': 0, 'title': 'The Revelers Vase'}, {'pageid': 50048286, 'ns': 0, 'title': 'Spool-shaped pyxis (NAMA 5225)'}, {'pageid': 30188870, 'ns': 0, 'title': 'Warrior Vase'}]}}\n",
      "Saving, categories processed 0\n",
      "Saving, categories processed 2\n",
      "{'batchcomplete': '', 'query': {'categorymembers': [{'pageid': 55149872, 'ns': 0, 'title': 'Hoplite formation in art'}, {'pageid': 14469113, 'ns': 0, 'title': 'Name vase'}, {'pageid': 11931475, 'ns': 0, 'title': 'Phlyax play'}, {'pageid': 59654330, 'ns': 0, 'title': 'Scythian archers'}]}}\n",
      "Saving, categories processed 0\n",
      "Saving, categories processed 1\n",
      "Saving, categories processed 1\n"
     ]
    }
   ],
   "source": [
    "rec_scrape_cat(\"Category:Archaeological artifacts\")"
   ]
  },
  {
   "cell_type": "code",
   "execution_count": 206,
   "metadata": {},
   "outputs": [
    {
     "data": {
      "text/plain": [
       "{'List of hoards in Asia': {'category': 'Category:Archaeological_discoveries_in_Asia',\n",
       "  'title': 'List of hoards in Asia',\n",
       "  'text': \"The list of hoards in Asia comprises significant archaeological hoards of coins, jewellery, precious and scrap metal objects and other valuable items discovered in Asia. It includes both hoards that were buried with the intention of retrieval at a later date (personal hoards, founder's hoards, merchant's hoards, and hoards of loot), and also hoards of votive offerings which were not intended to be recovered at a later date, but excludes grave goods and single items found in isolation.\\n\\nBactrian Gold\\nChausa hoard\\nKfar Monash Hoard\\nWonoboyo hoard\\nZiwiye hoard\\n\\n\\n== See also ==\\nList of hoards in Britain\\nList of hoards in the Channel Islands\\nLists of hoards\",\n",
       "  'location': '',\n",
       "  'inception': '',\n",
       "  'image': '',\n",
       "  'discovery': '',\n",
       "  'country': ''},\n",
       " 'Magdala stone': {'category': 'Category:Archaeological_discoveries_in_Asia',\n",
       "  'title': 'Magdala stone',\n",
       "  'text': 'The Magdala stone is a carved stone block unearthed by archaeologists in a Galilean synagogue in Israel, dating to before the destruction of the Second Temple in Jerusalem in the year 70. \\nIt is notable for detailed carvings depicting the Second Temple, carvings made while that Temple still stood and therefore assumed to have been made by an artist who had seen the Temple before it was destroyed by the Roman military. Some archaeologists describe the carvings as enabling a new, scholarly understanding of the synagogue conceptualized as a sacred space even during the period while the Temple was still standing.  This new understanding would overturn a long-held scholarly consensus that during the period when the Temple still stood, synagogues were merely assembly and study halls, places where the Torah and other sacred books were read aloud and studied, but not sacred spaces in their own right.\\nThe stone is also notable for having the earliest known images of the Temple Menorah to be found in a synagogue.\\n\\n\\n== History ==\\nThe stone was uncovered during the 2009 excavation of the Migdal Synagogue.In 2017, the Stone was displayed in Rome in Menorah: Worship, History, Legend, an exhibition jointly sponsored by the Vatican and the Jewish Museum of Rome.\\n\\n\\n== Carvings ==\\nThe stone is approximately 0.6 m. (24 in.) long, circa 0.5 m. (20 in.) wide and stands 0.4 m. (18 in.) high.\\nThe facade of the stone, on the side that faces Jerusalem, features an arch supported by a pair of pillars. Within the arch a seven-branched menorah sits atop what appears to be a pedestal, flanked by a pair of two-handled jugs which may be sitting on some sort of stands. Dr. Avshalom-Gorni called the discovery \"an exciting and unique find.\" This may be the oldest depiction of a menorah decoration and is the first menorah to be discovered in a Jewish context that dates to the Second Temple period and the beginning of the Early Roman era, the period when the Temple was still standing. \"We can assume that the engraving that appears on the stone, which the Israel Antiquities Authority uncovered, was done by an artist who saw the seven-branched menorah with his own eyes in the Temple in Jerusalem\".However, Mordechai Aviam interprets the object beneath the menorah as an image of the Gold Altar (Inner Altar) that stood in front of the Menorah inside the ancient Temple.\\n\\nThe stone\\'s side panels are identical; each shows an arcade of four arches. Interpretations of the carvings vary. While some have interpreted the sides as showing three arches filled with sheaves of grain (probably wheat), and a fourth with a hanging object thought to be an oil lamp, others, including Rina Talgam and Mordechai Aviam see it as an architectural image.  According to Aviam it shows an arcade through which is seen a second arcade of arches which the viewer is meant to understand as the entrance arches of the Holy of Holies.\\n\\n\\n== Placement in the synagogue at Migdal ==\\nThe stone stood in the center of the Migdal Synagogue, and is tall enough to have been used as a reading desk or podium by someone in a seated position.  A similar size stone was found in an ancient synagogue dating from the Byzantine period in a dig at nearby Horvat Kur; it is also carved with images of the Temple.Rina Talgam, a professor specializing in the art of the ancient Near East at the Hebrew University of Jerusalem and the leading scholar of this stone, understands the Magdala Stone as a depiction of the Temple and the implements used in worship, including a depiction of the Holy of Holies by an artist who had actually seen the Temple and was familiar with the Holy of Holies. She understands the stone as intended to lend to this synagogue a sacred aura, making it, “like a lesser Temple”, for use in the Galilee, which was a long journey from Jerusalem under the conditions of that pedestrian era, when most people traveled by foot.Other scholars of the period, including Elchanan Reiner, professor of Jewish history at Tel Aviv University, share her view.\\n\\n\\n== Site ==\\nThe original stone has been removed for safekeeping; a replica is displayed in the ancient synagogue at Migdal, now an archaeological site open to the public under the auspices of the Catholic Church.\\n\\n\\n== References ==',\n",
       "  'location': '',\n",
       "  'inception': '',\n",
       "  'image': 'http://commons.wikimedia.org/wiki/Special:FilePath/Magdala%20Stone%20%285%29.jpg',\n",
       "  'discovery': '',\n",
       "  'country': ''},\n",
       " 'Prehistoric grave goods in the Philippines': {'category': 'Category:Archaeological_discoveries_in_Asia',\n",
       "  'title': 'Prehistoric grave goods in the Philippines',\n",
       "  'text': 'Grave goods are utilitarian and ornamental objects buried with the deceased. \"Pabaon\", as present day Filipinos know, is the tradition of including the priced possessions or items of the dead to its grave because of the belief that these things might be helpful to the deceased as it travels to the life after death. This has been a practice since the neolithic times.\\nGrave goods are symbol of social activities, and in a way reflects the urge of the people who buried the dead to show his or her social status. Grave goods provide substantial background on the technology, degree of complexity of the society, level of integration with other communities, social or group identities, individual identities, and concepts of wealth and power of the existing community.\\nThe types and prestige values of the grave goods differ among groups, because of cultural differences. In studying grave goods, it is important to know the period of existence and to substantiate its prestige value.\\n\\n\\n== Grave goods through time ==\\n\\n\\n=== Early Neolithic Age ===\\nThis period was centered on the population\\'s needs. Thus, utilitarian objects, such as adzes, were most common among grave goods. Ornamental objects were shell pendants, ear ornaments among others. During this period, death was conceived as the transformation of physical form into something inanimate. Goods buried along with the body were mostly composed of their personal belongings.\\n\\n\\n=== Late Neolithic Age ===\\nLocal trade can already be observed in this period. This created a diversity of material possessions of individuals, leading to a diversity of grave goods. Among these were jade and agate, and earthenware pottery. Other materials were shell and some foreign trade objects.\\n\\n\\n=== Chalcolithic (Metal Age) ===\\nDuring this period, inter-island trade was already prominent. Grave goods were jars, metal implements, alkali glass beads, imported porcelain and local imitations, tradeware, coins, metal accessories, gold, and shell. Sex differentiation was also evident during this period wherein it is one of the basic determinants of social stratification. This was a time when social roles started to have variations therefore allowed an individual to be identified in the society based on the goods included in its grave. Iron implements were most of the finds together with male bodies while glass beads were among women.\\n\\n\\n== Prestige value ==\\nThe prestige value of grave goods are dependent on four factors:\\n\\n\\n=== Sources ===\\nThe acquisition of the material is a factor on its prestige value. Materials that are harder to acquire, such as when the source is a remote area, the prestige value is higher.\\n\\n\\n=== Raw material ===\\nThe abundance or rarity of the source of the raw material relates to its prestige value. The rarer the material is, the higher its prestige value.\\n\\n\\n=== Time and energy in acquisition and manufacture ===\\nHere, grave goods are evaluated on whether they are traded and reworked, traded, or locally produced. Traded items take more time to acquire, especially if these have to be reprocessed once acquired. Therefore, these items have higher values than locally produced items which are abundant and easier to acquire.\\n\\n\\n=== Cultural function ===\\nThis categorizes grave goods as either utilitarian or non-utilitarian. Non-utilitarian or ornamental items have higher prestige value because these generally take more time to make, are harder to acquire and are not as abundant as utilitarian good which are seen and used in everyday living.\\n\\n\\n== Sites ==\\n\\n\\n=== Duyong cave, Palawan ===\\nA male adult was excavated in an open pit with stone and shell adzes. Ornamentations were shell disks with perforations near the ears and chest. Shells were of local material. Other materials were shell containers that are part of the areca nut chewing paraphernalia.\\nThis site was dated back to the early neolithic age, 4630 +/- 250 BP.\\n\\n\\n=== Manunggul cave, Palawan ===\\nThis is a jar burial site where jade beads, jade bracelets, stone beads, agate bracelets, shell bracelets, shell beads, and highly decorated jars.\\nThis site was dated back to the late neolithic age, 2660 +/- 80 BP and 2840 +/- 80 BP.\\n\\n\\n=== Tigkiw na saday, Sorsogon ===\\nThis is a primary burial inland site where eight burial jars were recovered, some with impressive design and some undecorated. Materials recovered were glass beads interred with females and metal implements interred with males.\\nThe site is of metal age, 200 BC – AD 200.\\n\\n\\n=== Maitum jar burials, South Cotabato ===\\nA lot of detailed anthropomorphic pottery in different types were found in this site. Materials found were shell bracelets, shell spoons, and metal implements such as daggers and bolos.\\nThis site is of metal age, dating 70- 370 AD and 5 BC to AD 225.\\n\\n\\n=== Panhutongan, Surigao del Norte ===\\nThis site consisted of sixteen dug-out wooden coffins in varying designs and woods used. Materials found were different varieties of metal implements such as bolos, metal spearheads and beads.\\nThis site is of early Iron Age, AD 140 +/- 340.\\n\\n\\n=== Balingsagay, Bolinao ===\\nThis site is a huge burial site where a total of 51 burials were found. Materials were same with the other sites, with the inclusion of a large amount of trade goods from china, especially porcelain. Local imitations of porcelain were also found.\\nThis site is of late 15th to early 14th century.\\n\\n\\n=== Puling bakaw, Calatagan ===\\nThe grave goods found along with the bodies could be interpreted as a form of respect to the family of the dead (Barretto 2002). The family\\'s grief was another probable explanation for high-valued goods.(Macdonald 2001) \\nThis site best exhibited the extensive trade with other south east Asian countries. From the 207 graves excavated, a large amount of South East Asian wares were found, along with materials existent in the other sites, but understandably with greater detail and variety. Extensive use of gold by all population was also exhibited.\\nThis site precedes the Spanish era.\\n\\n\\n== References ==\\nBarretto, Grace. Evaluating Status in Philippine Prehistory through Grave Goods. Archaeological Studies Program, University of the Philippines Diliman, March 2002. Print. 8 December 2015.\\nBarretto- Tesoro, Grace. Burial Goods in the Philippines: an Attempt to Quantify Prestige Values. South East Asian Studies. Vol. 41 No. 3. Archaeological Studies Program, University of the Philippines Diliman, December 2003. Web. 6 November 2014.\\nPeregrine, Peter and Ember, Melvin. Island Southeast Asia: Late Prehistoric. Encyclopedia of Prehistory. Vol. 3. Springer US. 2001. Web. 6 November 2014.\\nBarker, Graeme. Burial Rituals of Forager-Farmers in Borneo. Penn Museum Expedition. Vol. 47. No. 3. Penn Museum. Web. 6 November 2014.',\n",
       "  'location': '',\n",
       "  'inception': '',\n",
       "  'image': '',\n",
       "  'discovery': '',\n",
       "  'country': ''},\n",
       " 'Tillya Tepe Buddhist coin': {'category': 'Category:Archaeological_discoveries_in_Asia',\n",
       "  'title': 'Tillya Tepe Buddhist coin',\n",
       "  'text': 'The Tillya Tepe Buddhist coin is a gold coin that was discovered at the archaeological site of Tillya Tepe in modern Afghanistan.\\nThe gold coin from India was found in tomb IV (the male warrior). The archaeological site, as the coin, are dated to the beginning of the first century AD, that is late 1st century BC to early 1st century AD.\\n\\n\\n== Lion and triratna ==\\nOn the reverse, it depicts a lion with the Buddhist symbol of the triratna, with the Kharoshthi legend Sih[o] vigatabhay[o] \"The lion who dispelled fear\".\\n\\n\\n== Hermes iconography ==\\n\\nOn the obverse can be seen a man who is almost naked, except for an Hellenistic chlamys and a petasus hat (an iconography similar to that of Hermes/ Mercury). He is rolling a wheel along. The legend in Kharoshthi reads Dharmacakrapravata[ko] \"The one who turned the Wheel of the Law\".Hermes was considered in ancient Greece as a psychopomp, an intercessor between mortals and the divine, and conductor of souls into the afterlife. Besides similarities in metaphysical roles, the similarity between the names of they respective mothers, Maya for the Buddha and Maia for Hermes, have often been noted, as well as the stories of their miraculous births.Various identities have been suggested for the being depicted on the coins, from Shiva to Zeus, and most often, the Buddha himself in an early representation.\\n\\n\\n== Chronology ==\\n\\nSince the time of the Buddha, Buddhist representations had been aniconic. This raises the possibility that this coin is one of the earliest, if not the earliest, representation of the Buddha.Earlier connections between Greek deities and Buddhist symbolism appears on the coins of Indo-Greek kings such as Menander II (90–85 BC), in which Zeus, through Nike, can be seen handing a wreath of victory to a Wheel of the Law.The next earliest known representation of the Buddha is that of the Bimaran casket, dated circa 50 AD.\\n\\n\\n== References ==\\n\\n\\n== External links ==\\nAn obverse and reverse view of the coin',\n",
       "  'location': '',\n",
       "  'inception': '',\n",
       "  'image': '',\n",
       "  'discovery': '',\n",
       "  'country': ''}}"
      ]
     },
     "execution_count": 206,
     "metadata": {},
     "output_type": "execute_result"
    }
   ],
   "source": [
    "PAGES_DICT"
   ]
  }
 ],
 "metadata": {
  "kernelspec": {
   "display_name": "Python 3",
   "language": "python",
   "name": "python3"
  },
  "language_info": {
   "codemirror_mode": {
    "name": "ipython",
    "version": 3
   },
   "file_extension": ".py",
   "mimetype": "text/x-python",
   "name": "python",
   "nbconvert_exporter": "python",
   "pygments_lexer": "ipython3",
   "version": "3.6.3"
  }
 },
 "nbformat": 4,
 "nbformat_minor": 2
}

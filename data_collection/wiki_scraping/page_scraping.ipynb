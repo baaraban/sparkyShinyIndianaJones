{
 "cells": [
  {
   "cell_type": "code",
   "execution_count": 101,
   "metadata": {},
   "outputs": [],
   "source": [
    "import requests\n",
    "import pandas as pd\n",
    "from tqdm import tqdm\n",
    "S = requests.Session()\n",
    "\n",
    "URL = \"https://en.wikipedia.org/w/api.php\"\n",
    "\n",
    "COMMON_PARAMS = {\n",
    "    \"action\":\"query\",\n",
    "    \"format\":\"json\",\n",
    "    \"list\":\"categorymembers\",\n",
    "    \"cmlimit\": 500\n",
    "}\n",
    "\n",
    "PAGES_LIST = []\n",
    "\n",
    "PAGES_DICT = {\n",
    "}\n",
    "\n",
    "FIRST_RUN = True\n",
    "\n",
    "SKIP_UNTIL = False"
   ]
  },
  {
   "cell_type": "code",
   "execution_count": 113,
   "metadata": {},
   "outputs": [],
   "source": [
    "CATEGORIES_LIST = pd.read_csv(\"scraped_categories.csv\")['0'].tolist()\n",
    "CATEGORIES_LIST.append(\"Category:Archaeological artifacts\")"
   ]
  },
  {
   "cell_type": "code",
   "execution_count": 93,
   "metadata": {},
   "outputs": [],
   "source": [
    "def scrape_page_text(title):\n",
    "    PARAMS = {\n",
    "        \"action\":\"query\",\n",
    "        \"format\":\"json\",\n",
    "        'prop': 'extracts',\n",
    "        'explaintext': True,\n",
    "        'titles': title\n",
    "    }\n",
    "    R = S.get(url=URL, params=PARAMS)\n",
    "    article = R.json()\n",
    "    pages = article['query']['pages']\n",
    "    page_id = next(iter(pages))\n",
    "    text = pages[page_id]['extract']\n",
    "    return text"
   ]
  },
  {
   "cell_type": "code",
   "execution_count": 94,
   "metadata": {},
   "outputs": [
    {
     "data": {
      "text/plain": [
       "'The Ain Sakhri Lovers figurine is a sculpture that was found in one of the Ain Sakhri caves near Bethlehem. The sculpture is considered to be 11,000 years old and to be the oldest known representation of two people engaged in sexual intercourse.\\n\\n\\n== Discovery ==\\nThe sculpture was identified in 1933 by René Neuville, a French consul in Jerusalem and prehistorian, when looking through random finds obtained by the French Fathers at Bethlehem. He found the stone whilst visiting a small museum with Abbé Breuil. Neuville immediately identified it as important and was able to get an introduction to the Bedouin who had made the finds at Wadi Khareitoun. He was led to a location within the Ain Sakhri caves and it is from these caves that the sculpture gets its name. Excavations of the caves revealed that the cave had been used domestically thousands of years ago and the finds were Natufian. For this reason it is thought that the figurine was used domestically and had not been left there as part of a funeral.The person who made the sculpture came from the Natufians, an early Epipaleolithic culture whose members are thought to be the first humans to gather grass seeds that remained attached to their stems. This is an important step in agriculture as it eventually allowed farmers to choose which seeds to eat and which to keep to sow the following season. These people hunted gazelle and are the first known to domesticate dogs, sheep, and goats which also involves selective breeding. It has been speculated that the stability of having a managed food programme allowed the Natufians to create large communities of two to three hundred people and to create art.\\n\\n\\n== Appearance ==\\nThe sculpture was made by carving a single \"calcite cobble\" which was picked away with a stone point to identify the position of the couple. Although it lacks details, such as faces, it is considered to be a clever piece of sculpture. Artist Marc Quinn has noted that the figure looks different depending on the viewer\\'s perspective, and may resemble a couple, a penis, breasts, or a vagina depending on this perspective, or two testicles when viewed upside-down, from the bottom. Quinn compared it to a modern pornographic film where the action may include close-ups and long shots. It is clear that the figures in the couple are facing each other, but the gender of the figures can only be presumed.\\n\\n\\n== Importance and purchase ==\\nAfter the death of René Neuville in 1952, it was purchased by the British Museum at Sotheby\\'s in 1958 from M. Y. Neuville.The object formed the basis of an episode of A History of the World in 100 Objects, a BBC radio programme in January 2010 about the dawn of agriculture.\\n\\n\\n== See also ==\\nList of Stone Age art\\n\\n\\n== References ==\\n\\n\\n== Bibliography ==\\nB. Boyd and J. Cook, \\'A reconsideration of the \"Ain Sakhri\" figurine\\', Proceedings of the Prehistoric Society, 59 (1993), pp. 399–405\\n\\n\\n== External links =='"
      ]
     },
     "execution_count": 94,
     "metadata": {},
     "output_type": "execute_result"
    }
   ],
   "source": [
    "scrape_page_text(\"Ain Sakhri Lovers\")"
   ]
  },
  {
   "cell_type": "code",
   "execution_count": 95,
   "metadata": {},
   "outputs": [],
   "source": [
    "def scrape_page_wikidata(title):\n",
    "    PARAMS = {\n",
    "        \"prop\": \"pageprops\",\n",
    "        \"ppprop\": \"wikibase_item\",\n",
    "        \"format\": \"json\",\n",
    "        \"action\": \"query\",\n",
    "        \"titles\": title\n",
    "    }\n",
    "    R = S.get(url=URL, params=PARAMS)\n",
    "    metadata = R.json()\n",
    "    metadata = metadata['query']['pages']\n",
    "    page_id = next(iter(metadata))\n",
    "    entity = metadata[page_id][\"pageprops\"][\"wikibase_item\"]\n",
    "    return entity"
   ]
  },
  {
   "cell_type": "code",
   "execution_count": 96,
   "metadata": {
    "scrolled": true
   },
   "outputs": [
    {
     "data": {
      "text/plain": [
       "'Q137836'"
      ]
     },
     "execution_count": 96,
     "metadata": {},
     "output_type": "execute_result"
    }
   ],
   "source": [
    "scrape_page_wikidata(\"William the Faience Hippopotamus\")"
   ]
  },
  {
   "cell_type": "code",
   "execution_count": 97,
   "metadata": {},
   "outputs": [],
   "source": [
    "def rec_scrape_pages(category_name, cmcontinue = False):\n",
    "    PARAMS = COMMON_PARAMS\n",
    "    PARAMS[\"cmtype\"] = \"page\"\n",
    "    PARAMS[\"cmtitle\"] = category_name\n",
    "    R = S.get(url=URL, params=PARAMS)\n",
    "    articles = R.json()\n",
    "    if articles.get('continue', False):\n",
    "        cmcontinue = articles['continue']['cmcontinue']\n",
    "    payload = articles['query']['categorymembers']\n",
    "    for page in payload:\n",
    "        title = page['title']\n",
    "        if page in PAGES_LIST:\n",
    "            continue\n",
    "        else:\n",
    "            try:\n",
    "                text = scrape_page_text(title)\n",
    "                entity = scrape_page_wikidata(title)\n",
    "                PAGES_DICT[title] = {\n",
    "                    \"category\": category_name,\n",
    "                    \"title\": title,\n",
    "                    \"text\": text,\n",
    "                    \"entity\": entity\n",
    "                }\n",
    "            except Exception as e:\n",
    "                print(\"An exception occurred at page \", title)\n",
    "                print(e)\n",
    "    if cmcontinue:\n",
    "        rec_scrape_pages(category_name, cmcontinue)"
   ]
  },
  {
   "cell_type": "code",
   "execution_count": 110,
   "metadata": {},
   "outputs": [
    {
     "name": "stderr",
     "output_type": "stream",
     "text": [
      "0it [00:00, ?it/s]/Library/Frameworks/Python.framework/Versions/3.6/lib/python3.6/site-packages/ipykernel_launcher.py:18: FutureWarning: Sorting because non-concatenation axis is not aligned. A future version\n",
      "of pandas will change to not sort by default.\n",
      "\n",
      "To accept the future behavior, pass 'sort=False'.\n",
      "\n",
      "To retain the current behavior and silence the warning, pass 'sort=True'.\n",
      "\n",
      "1it [00:03,  3.38s/it]"
     ]
    },
    {
     "name": "stdout",
     "output_type": "stream",
     "text": [
      "An exception occurred at page  A brotherly quarrel\n",
      "'pageprops'\n",
      "An exception occurred at page  A Goddess Travels to Egypt\n",
      "'pageprops'\n",
      "An exception occurred at page  Alashiya-King, to Pharaoh: The Hand of (god)-Nergal\n",
      "'pageprops'\n",
      "An exception occurred at page  Assyria Joins the International Scene\n",
      "'pageprops'\n",
      "An exception occurred at page  Duty-Free\n",
      "'pageprops'\n",
      "An exception occurred at page  Love and Gold\n",
      "'pageprops'\n",
      "An exception occurred at page  The Missing Gold Statues Again\n",
      "'pageprops'\n",
      "An exception occurred at page  The Pharaoh's reproach Answered\n",
      "'pageprops'\n",
      "An exception occurred at page  Tushratta to Queen Mother Tiye, and missing gold statues\n",
      "'pageprops'\n"
     ]
    },
    {
     "name": "stderr",
     "output_type": "stream",
     "text": [
      "\r",
      "2it [00:10,  4.42s/it]"
     ]
    },
    {
     "name": "stdout",
     "output_type": "stream",
     "text": [
      "An exception occurred at page  Papyrus Oxyrhynchus 1596\n",
      "'pageprops'\n",
      "An exception occurred at page  Papyrus Oxyrhynchus 1597\n",
      "'pageprops'\n",
      "An exception occurred at page  Papyrus Oxyrhynchus 1598\n",
      "'pageprops'\n"
     ]
    },
    {
     "name": "stderr",
     "output_type": "stream",
     "text": [
      "\r",
      "3it [00:12,  3.63s/it]"
     ]
    },
    {
     "name": "stdout",
     "output_type": "stream",
     "text": [
      "An exception occurred at page  Papyrus Oxyrhynchus 2157\n",
      "'pageprops'\n"
     ]
    },
    {
     "name": "stderr",
     "output_type": "stream",
     "text": [
      "\r",
      "4it [00:13,  2.86s/it]"
     ]
    },
    {
     "name": "stdout",
     "output_type": "stream",
     "text": [
      "An exception occurred at page  Papyrus Oxyrhynchus 2383\n",
      "'pageprops'\n",
      "An exception occurred at page  Papyrus Oxyrhynchus 2384\n",
      "'pageprops'\n",
      "An exception occurred at page  Papyrus Oxyrhynchus 2385\n",
      "'pageprops'\n"
     ]
    },
    {
     "name": "stderr",
     "output_type": "stream",
     "text": [
      "\r",
      "5it [00:14,  2.49s/it]"
     ]
    },
    {
     "name": "stdout",
     "output_type": "stream",
     "text": [
      "An exception occurred at page  Papyrus Oxyrhynchus 2683\n",
      "'pageprops'\n",
      "An exception occurred at page  Papyrus Oxyrhynchus 2684\n",
      "'pageprops'\n"
     ]
    },
    {
     "name": "stderr",
     "output_type": "stream",
     "text": [
      "\r",
      "6it [00:16,  2.14s/it]"
     ]
    },
    {
     "name": "stdout",
     "output_type": "stream",
     "text": [
      "An exception occurred at page  Papyrus Oxyrhynchus 4401\n",
      "'pageprops'\n",
      "An exception occurred at page  Papyrus Oxyrhynchus 4402\n",
      "'pageprops'\n",
      "An exception occurred at page  Papyrus Oxyrhynchus 4403\n",
      "'pageprops'\n",
      "An exception occurred at page  Papyrus Oxyrhynchus 4404\n",
      "'pageprops'\n",
      "An exception occurred at page  Papyrus Oxyrhynchus 4405\n",
      "'pageprops'\n",
      "An exception occurred at page  Papyrus Oxyrhynchus 4406\n",
      "'pageprops'\n"
     ]
    },
    {
     "name": "stderr",
     "output_type": "stream",
     "text": [
      "\r",
      "7it [00:18,  2.28s/it]"
     ]
    },
    {
     "name": "stdout",
     "output_type": "stream",
     "text": [
      "An exception occurred at page  Papyrus Oxyrhynchus 4803\n",
      "'pageprops'\n",
      "An exception occurred at page  Papyrus Oxyrhynchus 4804\n",
      "'pageprops'\n",
      "An exception occurred at page  Papyrus Oxyrhynchus 4805\n",
      "'pageprops'\n",
      "An exception occurred at page  Papyrus Oxyrhynchus 4806\n",
      "'pageprops'\n"
     ]
    },
    {
     "name": "stderr",
     "output_type": "stream",
     "text": [
      "\r",
      "8it [00:20,  2.18s/it]"
     ]
    },
    {
     "name": "stdout",
     "output_type": "stream",
     "text": [
      "An exception occurred at page  Papyrus Oxyrhynchus 4844\n",
      "'pageprops'\n",
      "An exception occurred at page  Papyrus Oxyrhynchus 4845\n",
      "'pageprops'\n"
     ]
    },
    {
     "name": "stderr",
     "output_type": "stream",
     "text": [
      "\r",
      "9it [00:21,  1.92s/it]"
     ]
    },
    {
     "name": "stdout",
     "output_type": "stream",
     "text": [
      "An exception occurred at page  Papyrus Oxyrhynchus 4934\n",
      "'pageprops'\n"
     ]
    },
    {
     "name": "stderr",
     "output_type": "stream",
     "text": [
      "\r",
      "10it [00:22,  1.64s/it]"
     ]
    },
    {
     "name": "stdout",
     "output_type": "stream",
     "text": [
      "An exception occurred at page  Papyrus Oxyrhynchus 4968\n",
      "'pageprops'\n"
     ]
    },
    {
     "name": "stderr",
     "output_type": "stream",
     "text": [
      "15it [00:29,  1.15s/it]"
     ]
    },
    {
     "name": "stdout",
     "output_type": "stream",
     "text": [
      "An exception occurred at page  Danish Runic Inscription 357\n",
      "'pageprops'\n",
      "An exception occurred at page  Danish Runic Inscription 358\n",
      "'pageprops'\n",
      "An exception occurred at page  Danish Runic Inscription 359\n",
      "'pageprops'\n",
      "An exception occurred at page  Danish Runic Inscription 360\n",
      "'pageprops'\n"
     ]
    },
    {
     "name": "stderr",
     "output_type": "stream",
     "text": [
      "18it [00:34,  1.30s/it]"
     ]
    },
    {
     "name": "stdout",
     "output_type": "stream",
     "text": [
      "An exception occurred at page  Stone crosses in Kerala\n",
      "'pageprops'\n"
     ]
    },
    {
     "name": "stderr",
     "output_type": "stream",
     "text": [
      "23it [00:39,  1.00s/it]"
     ]
    },
    {
     "name": "stdout",
     "output_type": "stream",
     "text": [
      "An exception occurred at page  Sighthill stone circle\n",
      "'pageprops'\n"
     ]
    },
    {
     "name": "stderr",
     "output_type": "stream",
     "text": [
      "39it [00:52,  1.53it/s]"
     ]
    },
    {
     "name": "stdout",
     "output_type": "stream",
     "text": [
      "An exception occurred at page  Artemision deposit\n",
      "'pageprops'\n"
     ]
    },
    {
     "name": "stderr",
     "output_type": "stream",
     "text": [
      "\r",
      "40it [00:58,  2.19s/it]"
     ]
    },
    {
     "name": "stdout",
     "output_type": "stream",
     "text": [
      "An exception occurred at page  Artemision deposit\n",
      "'pageprops'\n"
     ]
    },
    {
     "name": "stderr",
     "output_type": "stream",
     "text": [
      "\r",
      "41it [01:04,  3.40s/it]"
     ]
    },
    {
     "name": "stdout",
     "output_type": "stream",
     "text": [
      "An exception occurred at page  Ribchester Hoard\n",
      "'pageprops'\n"
     ]
    },
    {
     "name": "stderr",
     "output_type": "stream",
     "text": [
      "44it [02:12, 19.80s/it]\n"
     ]
    }
   ],
   "source": [
    "for idx, category in tqdm(enumerate(CATEGORIES_LIST)):\n",
    "    global FIRST_RUN\n",
    "    global PAGES_DICT\n",
    "    global PAGES_LIST\n",
    "    global SKIP_UNTIL\n",
    "    if category == SKIP_UNTIL:\n",
    "        SKIP_UNTIL = False\n",
    "    if SKIP_UNTIL:\n",
    "        continue\n",
    "    rec_scrape_pages(category)\n",
    "    PAGES_LIST.extend(PAGES_DICT.keys())\n",
    "    if FIRST_RUN:\n",
    "        df = pd.DataFrame.from_dict(PAGES_DICT, orient=\"index\").reset_index(drop=True)\n",
    "        FIRST_RUN = False\n",
    "    else:\n",
    "        old = pd.read_csv(\"wiki_text.csv\")\n",
    "        new = pd.DataFrame.from_dict(PAGES_DICT, orient=\"index\").reset_index(drop=True)\n",
    "        df = pd.concat([old, new])\n",
    "    if idx%10 == 0:\n",
    "        df = df[df.columns.drop(list(df.filter(regex='Unnamed: 0')))]\n",
    "        df.to_csv(\"wiki_text.csv\")\n",
    "        PAGES_DICT = {}"
   ]
  },
  {
   "cell_type": "code",
   "execution_count": 114,
   "metadata": {},
   "outputs": [
    {
     "data": {
      "text/plain": [
       "['Category:Ancient Greek vases',\n",
       " 'Category:Oxyrhynchus papyri vol. XIII',\n",
       " 'Category:Oxyrhynchus papyri vol. XVIII',\n",
       " 'Category:Oxyrhynchus papyri vol. XXIV',\n",
       " 'Category:Oxyrhynchus papyri vol. XXXIV',\n",
       " 'Category:Oxyrhynchus papyri vol. LXIV',\n",
       " 'Category:Oxyrhynchus papyri vol. LXXI',\n",
       " 'Category:Oxyrhynchus papyri vol. LXXII',\n",
       " 'Category:Oxyrhynchus papyri vol. LXXIII',\n",
       " 'Category:Oxyrhynchus papyri vol. LXXIV',\n",
       " 'Category:High crosses by country',\n",
       " 'Category:High crosses in Ireland',\n",
       " 'Category:Lombard sculpture',\n",
       " 'Category:Hill figures in the United Kingdom',\n",
       " 'Category:Crosses in art',\n",
       " 'Category:Stone crosses in Asia',\n",
       " 'Category:Monumental crosses by country',\n",
       " 'Category:Prehistoric art in Portugal',\n",
       " 'Category:Rock art by continent',\n",
       " 'Category:Great Basin rock art',\n",
       " 'Category:Stone circles in Scotland',\n",
       " 'Category:Obelisks by country',\n",
       " 'Category:Obelisks in Italy',\n",
       " 'Category:Obelisks in the United Kingdom',\n",
       " 'Category:Archaeological artifacts by century',\n",
       " 'Category:Archaeological discoveries by continent',\n",
       " 'Category:Archaeological discoveries in South America',\n",
       " 'Category:Metal detecting finds in the United Kingdom',\n",
       " 'Category:Treasure troves by continent',\n",
       " 'Category:Treasure troves of North America',\n",
       " 'Category:Treasure troves of Europe',\n",
       " 'Category:Treasure troves in Ireland',\n",
       " 'Category:Treasure troves by country',\n",
       " 'Category:Treasure troves by period',\n",
       " 'Category:Treasure troves of the Bronze Age']"
      ]
     },
     "execution_count": 114,
     "metadata": {},
     "output_type": "execute_result"
    }
   ],
   "source": [
    "cl = []\n",
    "for category in CATEGORIES_LIST:\n",
    "    if not category in categories:\n",
    "        cl.append(category)\n",
    "cl"
   ]
  },
  {
   "cell_type": "code",
   "execution_count": 109,
   "metadata": {},
   "outputs": [],
   "source": [
    "CATEGORIES_LIST = cl"
   ]
  },
  {
   "cell_type": "code",
   "execution_count": 90,
   "metadata": {},
   "outputs": [],
   "source": [
    "scraped.to_csv(\"wiki_text.csv\")"
   ]
  }
 ],
 "metadata": {
  "kernelspec": {
   "display_name": "Python 3",
   "language": "python",
   "name": "python3"
  },
  "language_info": {
   "codemirror_mode": {
    "name": "ipython",
    "version": 3
   },
   "file_extension": ".py",
   "mimetype": "text/x-python",
   "name": "python",
   "nbconvert_exporter": "python",
   "pygments_lexer": "ipython3",
   "version": "3.6.3"
  }
 },
 "nbformat": 4,
 "nbformat_minor": 2
}

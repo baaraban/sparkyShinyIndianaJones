{
 "cells": [
  {
   "cell_type": "code",
   "execution_count": 1,
   "metadata": {},
   "outputs": [],
   "source": [
    "from bs4 import BeautifulSoup\n",
    "import urllib.request\n",
    "import pandas as pd\n",
    "import itertools"
   ]
  },
  {
   "cell_type": "code",
   "execution_count": 2,
   "metadata": {},
   "outputs": [],
   "source": [
    "BASE_URL = 'https://www.louvre.fr'"
   ]
  },
  {
   "cell_type": "code",
   "execution_count": 3,
   "metadata": {},
   "outputs": [],
   "source": [
    "current_appendix = '/en/selections'"
   ]
  },
  {
   "cell_type": "code",
   "execution_count": 4,
   "metadata": {},
   "outputs": [],
   "source": [
    "form_url = lambda appendix: f'{BASE_URL}{appendix}'"
   ]
  },
  {
   "cell_type": "code",
   "execution_count": 5,
   "metadata": {},
   "outputs": [],
   "source": [
    "def get_next_appendix(page):\n",
    "    arrow = page.find('a', attrs={'class':'next-page'})\n",
    "    if arrow is None:\n",
    "        return arrow\n",
    "    return arrow['href']"
   ]
  },
  {
   "cell_type": "code",
   "execution_count": 6,
   "metadata": {},
   "outputs": [],
   "source": [
    "def parse_selected_works(page):\n",
    "    uls = page.findAll('ul', attrs={'class':'list-items-1'})\n",
    "    lis = [x.findAll('li') for x in uls]\n",
    "    lis = list(itertools.chain(*lis))\n",
    "    return {x.find('h2').text : x.find('a')['href'] for x in lis}"
   ]
  },
  {
   "cell_type": "code",
   "execution_count": 7,
   "metadata": {},
   "outputs": [],
   "source": [
    "def scrape_collections(current_appendix):\n",
    "    works_collections = {}\n",
    "\n",
    "    while current_appendix is not None:\n",
    "        url = form_url(current_appendix)\n",
    "        page = urllib.request.urlopen(url)\n",
    "        page_soup = BeautifulSoup(page, 'html.parser')\n",
    "        works_collections = {**works_collections, **parse_selected_works(page_soup)}\n",
    "        \n",
    "        current_appendix = get_next_appendix(page_soup)\n",
    "    \n",
    "    return works_collections"
   ]
  },
  {
   "cell_type": "code",
   "execution_count": 8,
   "metadata": {},
   "outputs": [],
   "source": [
    "collections = scrape_collections(current_appendix)"
   ]
  },
  {
   "cell_type": "code",
   "execution_count": 9,
   "metadata": {},
   "outputs": [],
   "source": [
    "def parse_artifacts(page):\n",
    "    links = page_soup.findAll('a', attrs={'class':'roll-4'})\n",
    "    result = {}\n",
    "    for l in links:\n",
    "        image_link = form_url(l.find('img')['src'])\n",
    "        item_link = l['href']\n",
    "        name = l.find('img')['alt']\n",
    "        result[name] = [item_link, image_link]\n",
    "    return result"
   ]
  },
  {
   "cell_type": "code",
   "execution_count": 10,
   "metadata": {},
   "outputs": [
    {
     "name": "stdout",
     "output_type": "stream",
     "text": [
      "https://www.louvre.fr/en/selections/masterpieces\n",
      "https://www.louvre.fr/en/selections/masterpieces?page=1\n",
      "https://www.louvre.fr/en/selections/masterpieces?page=2\n",
      "https://www.louvre.fr/en/selections/french-revolution\n",
      "https://www.louvre.fr/en/selections/napoleon-1769-1821\n",
      "https://www.louvre.fr/en/selections/napoleon-1769-1821?page=1\n",
      "https://www.louvre.fr/en/selections/louis-xiv-1638-1715\n",
      "https://www.louvre.fr/en/selections/major-events-history\n",
      "https://www.louvre.fr/en/selections/major-events-history?page=1\n",
      "https://www.louvre.fr/en/selections/travel\n",
      "https://www.louvre.fr/en/selections/travel?page=1\n",
      "https://www.louvre.fr/en/selections/art-portraiture\n",
      "https://www.louvre.fr/en/selections/art-portraiture?page=1\n",
      "https://www.louvre.fr/en/selections/landscapes\n",
      "https://www.louvre.fr/en/selections/landscapes?page=1\n",
      "https://www.louvre.fr/en/selections/jewelry\n",
      "https://www.louvre.fr/en/selections/jewelry?page=1\n",
      "https://www.louvre.fr/en/selections/music\n",
      "https://www.louvre.fr/en/selections/music?page=1\n",
      "https://www.louvre.fr/en/selections/animals\n",
      "https://www.louvre.fr/en/selections/animals?page=1\n",
      "https://www.louvre.fr/en/selections/time\n",
      "https://www.louvre.fr/en/selections/time?page=1\n",
      "https://www.louvre.fr/en/selections/heroes\n",
      "https://www.louvre.fr/en/selections/children\n",
      "https://www.louvre.fr/en/selections/children?page=1\n",
      "https://www.louvre.fr/en/selections/saints\n",
      "https://www.louvre.fr/en/selections/saints?page=1\n",
      "https://www.louvre.fr/en/selections/let-there-be-light\n",
      "https://www.louvre.fr/en/selections/let-there-be-light?page=1\n",
      "https://www.louvre.fr/en/selections/mirror-mirror-wall\n",
      "https://www.louvre.fr/en/selections/mirror-mirror-wall?page=1\n",
      "https://www.louvre.fr/en/selections/seaside%E2%80%A6\n",
      "https://www.louvre.fr/en/selections/hunting-and-fishing\n",
      "https://www.louvre.fr/en/selections/hunting-and-fishing?page=1\n",
      "https://www.louvre.fr/en/selections/writing\n",
      "https://www.louvre.fr/en/selections/writing?page=1\n",
      "https://www.louvre.fr/en/selections/beauty\n",
      "https://www.louvre.fr/en/selections/beauty?page=1\n",
      "https://www.louvre.fr/en/selections/city-defenses\n",
      "https://www.louvre.fr/en/selections/city-defenses?page=1\n",
      "https://www.louvre.fr/en/selections/remarkable-enigmas\n",
      "https://www.louvre.fr/en/selections/remarkable-enigmas?page=1\n",
      "https://www.louvre.fr/en/selections/remarkable-enigmas?page=2\n",
      "https://www.louvre.fr/en/selections/gastronomy\n",
      "https://www.louvre.fr/en/selections/gastronomy?page=1\n",
      "https://www.louvre.fr/en/selections/smiles\n",
      "https://www.louvre.fr/en/selections/smiles?page=1\n",
      "https://www.louvre.fr/en/selections/leisure-celebration-charivari-0\n",
      "https://www.louvre.fr/en/selections/leisure-celebration-charivari-0?page=1\n",
      "https://www.louvre.fr/en/selections/game%E2%80%99s\n",
      "https://www.louvre.fr/en/selections/game%E2%80%99s?page=1\n",
      "https://www.louvre.fr/en/selections/blue-0\n",
      "https://www.louvre.fr/en/selections/blue-0?page=1\n",
      "https://www.louvre.fr/en/selections/kings-queens-and-emperors\n",
      "https://www.louvre.fr/en/selections/kings-queens-and-emperors?page=1\n",
      "https://www.louvre.fr/en/selections/kings-queens-and-emperors?page=2\n",
      "https://www.louvre.fr/en/selections/kings-queens-and-emperors?page=3\n"
     ]
    }
   ],
   "source": [
    "for key, item in collections.items():\n",
    "    current_appendix = str(item)\n",
    "    collections[key] = []\n",
    "    while current_appendix is not None:\n",
    "        url = form_url(current_appendix)\n",
    "        print(url)\n",
    "        page = urllib.request.urlopen(url)\n",
    "        page_soup = BeautifulSoup(page, 'html.parser')\n",
    "        \n",
    "        collections[key].append(parse_artifacts(page_soup))\n",
    "        \n",
    "\n",
    "        current_appendix = get_next_appendix(page_soup)"
   ]
  },
  {
   "cell_type": "code",
   "execution_count": 11,
   "metadata": {},
   "outputs": [],
   "source": [
    "item_cols = ['collection', 'artifact_name', \n",
    "             'artifact_link', 'image_link', \n",
    "             'text', 'creation_info',\n",
    "             'physical_characteristics', 'acquired_by', 'category']\n",
    "dataframe = pd.DataFrame(columns=item_cols)"
   ]
  },
  {
   "cell_type": "code",
   "execution_count": 12,
   "metadata": {},
   "outputs": [],
   "source": [
    "def scrape_artifact_page(appendix):\n",
    "    url = form_url(appendix)\n",
    "    page = urllib.request.urlopen(url)\n",
    "    soup = BeautifulSoup(page, 'html.parser')\n",
    "    \n",
    "    result = {}\n",
    "    \n",
    "    text = soup.find('div', attrs={'class':'col-desc'}).text\n",
    "    result['text'] = text\n",
    "    \n",
    "    category = soup.find('p', attrs={'class':'department'}).text\n",
    "    result['category'] = category\n",
    "    \n",
    "    infos = soup.find('div', attrs={'class':'box-cartel'}).findAll('li')\n",
    "    result['artifact_link'] = url\n",
    "    result['creation_info'] = infos[0].text\n",
    "    result['physical_characteristics'] = infos[1].text\n",
    "    result['acquired_by'] = infos[2].text\n",
    "    \n",
    "    return result"
   ]
  },
  {
   "cell_type": "code",
   "execution_count": 13,
   "metadata": {},
   "outputs": [
    {
     "name": "stdout",
     "output_type": "stream",
     "text": [
      "Scraping Masterpieces collection\n",
      "Scraping The French Revolution collection\n",
      "Scraping Napoleon (1769-1821) collection\n",
      "Scraping Louis XIV (1638-1715) collection\n",
      "Scraping Major Events in History collection\n",
      "Scraping Travel... collection\n",
      "Scraping The Art of Portraiture collection\n",
      "Scraping Landscapes collection\n",
      "Scraping Jewelry collection\n",
      "Scraping Music collection\n",
      "Scraping Animals collection\n",
      "Scraping Time collection\n",
      "Scraping Heroes collection\n",
      "Scraping Children collection\n",
      "Scraping Saints collection\n",
      "Scraping Let There be Light! collection\n",
      "Scraping Mirror, Mirror on the Wall! collection\n",
      "Scraping At the Seaside… collection\n",
      "Scraping Hunting and Fishing collection\n",
      "Scraping Writing collection\n",
      "Scraping Beauty collection\n",
      "Scraping City Defenses collection\n",
      "Scraping Remarkable Enigmas collection\n",
      "Scraping Gastronomy collection\n",
      "Scraping Smiles collection\n",
      "Scraping Leisure & Celebration collection\n",
      "Scraping Game’s On! collection\n",
      "Scraping Blue collection\n",
      "Scraping Kings, Queens and Emperors collection\n"
     ]
    }
   ],
   "source": [
    "for collection, items in collections.items():\n",
    "    print(f\"Scraping {collection} collection\")\n",
    "    for item in items:\n",
    "        for name, links in item.items():\n",
    "            row = {}\n",
    "            row['collection'] = collection\n",
    "            row['artifact_name'] = name\n",
    "            row['image_link'] = links[1]\n",
    "            artifact_info = scrape_artifact_page(links[0])\n",
    "            dataframe = dataframe.append({**artifact_info, **row}, ignore_index=True)"
   ]
  },
  {
   "cell_type": "code",
   "execution_count": 14,
   "metadata": {},
   "outputs": [],
   "source": [
    "SAVING_PATH = 'raw_data/louvre_artifacts.csv'"
   ]
  },
  {
   "cell_type": "code",
   "execution_count": 15,
   "metadata": {},
   "outputs": [
    {
     "data": {
      "text/html": [
       "<div>\n",
       "<style scoped>\n",
       "    .dataframe tbody tr th:only-of-type {\n",
       "        vertical-align: middle;\n",
       "    }\n",
       "\n",
       "    .dataframe tbody tr th {\n",
       "        vertical-align: top;\n",
       "    }\n",
       "\n",
       "    .dataframe thead th {\n",
       "        text-align: right;\n",
       "    }\n",
       "</style>\n",
       "<table border=\"1\" class=\"dataframe\">\n",
       "  <thead>\n",
       "    <tr style=\"text-align: right;\">\n",
       "      <th></th>\n",
       "      <th>collection</th>\n",
       "      <th>artifact_name</th>\n",
       "      <th>artifact_link</th>\n",
       "      <th>image_link</th>\n",
       "      <th>text</th>\n",
       "      <th>creation_info</th>\n",
       "      <th>physical_characteristics</th>\n",
       "      <th>acquired_by</th>\n",
       "      <th>category</th>\n",
       "    </tr>\n",
       "  </thead>\n",
       "  <tbody>\n",
       "    <tr>\n",
       "      <th>0</th>\n",
       "      <td>Masterpieces</td>\n",
       "      <td>Aphrodite, known as the \"Venus de Milo\"</td>\n",
       "      <td>https://www.louvre.fr/en/oeuvre-notices/aphrod...</td>\n",
       "      <td>https://www.louvre.frhttps://www.louvre.fr/sit...</td>\n",
       "      <td>\\nThis graceful statue of a goddess has intrig...</td>\n",
       "      <td>\\n\\n\\nAphrodite, known as the \"Venus de Milo\"\\...</td>\n",
       "      <td>\\n\\nH. 2.02 m\\n</td>\n",
       "      <td>\\n\\n          Gift of the marquis de Rivière t...</td>\n",
       "      <td>\\nGreek, Etruscan, and Roman Antiquities\\nHell...</td>\n",
       "    </tr>\n",
       "    <tr>\n",
       "      <th>1</th>\n",
       "      <td>Masterpieces</td>\n",
       "      <td>The \"Regent\" Diamond</td>\n",
       "      <td>https://www.louvre.fr/en/oeuvre-notices/diamon...</td>\n",
       "      <td>https://www.louvre.frhttps://www.louvre.fr/sit...</td>\n",
       "      <td>\\n\\nDiscovered in 1698 in Golconda, India, thi...</td>\n",
       "      <td>\\n\\n\\nThe \"Regent\" Diamond\\n\\n\\n\\n</td>\n",
       "      <td>\\n140.64 metric carats\\n\\n</td>\n",
       "      <td>\\n\\n          Former Crown Diamonds collection...</td>\n",
       "      <td>\\nDecorative Arts\\n18th century: rococo</td>\n",
       "    </tr>\n",
       "    <tr>\n",
       "      <th>2</th>\n",
       "      <td>Masterpieces</td>\n",
       "      <td>Frise des archers</td>\n",
       "      <td>https://www.louvre.fr/en/oeuvre-notices/frieze...</td>\n",
       "      <td>https://www.louvre.frhttps://www.louvre.fr/sit...</td>\n",
       "      <td>\\nThis decorative frieze of polychrome glazed ...</td>\n",
       "      <td>\\n\\n\\nFrise des archers\\nEpoque achéménideRègn...</td>\n",
       "      <td>\\nBriques siliceuses à glaçure\\nH. 4.75 m; W. ...</td>\n",
       "      <td>\\n\\n          Mission Dieulafoy, 1885 - 1886\\t...</td>\n",
       "      <td>\\nNear Eastern Antiquities\\nIran</td>\n",
       "    </tr>\n",
       "    <tr>\n",
       "      <th>3</th>\n",
       "      <td>Masterpieces</td>\n",
       "      <td>Horse Restrained by a Groom, called \"Horse of ...</td>\n",
       "      <td>https://www.louvre.fr/en/oeuvre-notices/horses...</td>\n",
       "      <td>https://www.louvre.frhttps://www.louvre.fr/sit...</td>\n",
       "      <td>\\nThese two large marble sculptures representi...</td>\n",
       "      <td>\\nGuillaume COUSTOU \\n\\t\\t   (Lyon, 1677 - Par...</td>\n",
       "      <td>\\nCarrara marble\\nH. 3.40 m; W. 2.84 m; D. 1.2...</td>\n",
       "      <td>\\n\\n\\n\\nM.R. 1802\\n</td>\n",
       "      <td>\\nSculptures\\nFrance, 17th and 18th centuries ...</td>\n",
       "    </tr>\n",
       "    <tr>\n",
       "      <th>4</th>\n",
       "      <td>Masterpieces</td>\n",
       "      <td>July 28. Liberty Leading the People (July 28, ...</td>\n",
       "      <td>https://www.louvre.fr/en/oeuvre-notices/july-2...</td>\n",
       "      <td>https://www.louvre.frhttps://www.louvre.fr/sit...</td>\n",
       "      <td>\\nThe Paris uprising of July 27, 28, and 29, 1...</td>\n",
       "      <td>\\nEugène DELACROIX \\n\\t\\t   (Charenton-Saint-M...</td>\n",
       "      <td>\\n\\nH. 2.60 m; W. 3.25 m\\n</td>\n",
       "      <td>\\n\\n          Acquired in 1983\\t\\t\\t\\t\\t,     ...</td>\n",
       "      <td>\\nPaintings\\nFrench painting</td>\n",
       "    </tr>\n",
       "  </tbody>\n",
       "</table>\n",
       "</div>"
      ],
      "text/plain": [
       "     collection                                      artifact_name  \\\n",
       "0  Masterpieces            Aphrodite, known as the \"Venus de Milo\"   \n",
       "1  Masterpieces                               The \"Regent\" Diamond   \n",
       "2  Masterpieces                                  Frise des archers   \n",
       "3  Masterpieces  Horse Restrained by a Groom, called \"Horse of ...   \n",
       "4  Masterpieces  July 28. Liberty Leading the People (July 28, ...   \n",
       "\n",
       "                                       artifact_link  \\\n",
       "0  https://www.louvre.fr/en/oeuvre-notices/aphrod...   \n",
       "1  https://www.louvre.fr/en/oeuvre-notices/diamon...   \n",
       "2  https://www.louvre.fr/en/oeuvre-notices/frieze...   \n",
       "3  https://www.louvre.fr/en/oeuvre-notices/horses...   \n",
       "4  https://www.louvre.fr/en/oeuvre-notices/july-2...   \n",
       "\n",
       "                                          image_link  \\\n",
       "0  https://www.louvre.frhttps://www.louvre.fr/sit...   \n",
       "1  https://www.louvre.frhttps://www.louvre.fr/sit...   \n",
       "2  https://www.louvre.frhttps://www.louvre.fr/sit...   \n",
       "3  https://www.louvre.frhttps://www.louvre.fr/sit...   \n",
       "4  https://www.louvre.frhttps://www.louvre.fr/sit...   \n",
       "\n",
       "                                                text  \\\n",
       "0  \\nThis graceful statue of a goddess has intrig...   \n",
       "1  \\n\\nDiscovered in 1698 in Golconda, India, thi...   \n",
       "2  \\nThis decorative frieze of polychrome glazed ...   \n",
       "3  \\nThese two large marble sculptures representi...   \n",
       "4  \\nThe Paris uprising of July 27, 28, and 29, 1...   \n",
       "\n",
       "                                       creation_info  \\\n",
       "0  \\n\\n\\nAphrodite, known as the \"Venus de Milo\"\\...   \n",
       "1                 \\n\\n\\nThe \"Regent\" Diamond\\n\\n\\n\\n   \n",
       "2  \\n\\n\\nFrise des archers\\nEpoque achéménideRègn...   \n",
       "3  \\nGuillaume COUSTOU \\n\\t\\t   (Lyon, 1677 - Par...   \n",
       "4  \\nEugène DELACROIX \\n\\t\\t   (Charenton-Saint-M...   \n",
       "\n",
       "                            physical_characteristics  \\\n",
       "0                                    \\n\\nH. 2.02 m\\n   \n",
       "1                         \\n140.64 metric carats\\n\\n   \n",
       "2  \\nBriques siliceuses à glaçure\\nH. 4.75 m; W. ...   \n",
       "3  \\nCarrara marble\\nH. 3.40 m; W. 2.84 m; D. 1.2...   \n",
       "4                         \\n\\nH. 2.60 m; W. 3.25 m\\n   \n",
       "\n",
       "                                         acquired_by  \\\n",
       "0  \\n\\n          Gift of the marquis de Rivière t...   \n",
       "1  \\n\\n          Former Crown Diamonds collection...   \n",
       "2  \\n\\n          Mission Dieulafoy, 1885 - 1886\\t...   \n",
       "3                                \\n\\n\\n\\nM.R. 1802\\n   \n",
       "4  \\n\\n          Acquired in 1983\\t\\t\\t\\t\\t,     ...   \n",
       "\n",
       "                                            category  \n",
       "0  \\nGreek, Etruscan, and Roman Antiquities\\nHell...  \n",
       "1  \\nDecorative Arts\\n18th century: rococo            \n",
       "2         \\nNear Eastern Antiquities\\nIran            \n",
       "3  \\nSculptures\\nFrance, 17th and 18th centuries ...  \n",
       "4             \\nPaintings\\nFrench painting            "
      ]
     },
     "execution_count": 15,
     "metadata": {},
     "output_type": "execute_result"
    }
   ],
   "source": [
    "dataframe.head()"
   ]
  },
  {
   "cell_type": "code",
   "execution_count": 16,
   "metadata": {},
   "outputs": [],
   "source": [
    "dataframe.to_csv(SAVING_PATH)"
   ]
  },
  {
   "cell_type": "code",
   "execution_count": 17,
   "metadata": {},
   "outputs": [
    {
     "data": {
      "text/plain": [
       "450"
      ]
     },
     "execution_count": 17,
     "metadata": {},
     "output_type": "execute_result"
    }
   ],
   "source": [
    "len(dataframe)"
   ]
  },
  {
   "cell_type": "code",
   "execution_count": null,
   "metadata": {},
   "outputs": [],
   "source": []
  }
 ],
 "metadata": {
  "kernelspec": {
   "display_name": "Python 3",
   "language": "python",
   "name": "python3"
  },
  "language_info": {
   "codemirror_mode": {
    "name": "ipython",
    "version": 3
   },
   "file_extension": ".py",
   "mimetype": "text/x-python",
   "name": "python",
   "nbconvert_exporter": "python",
   "pygments_lexer": "ipython3",
   "version": "3.6.5"
  }
 },
 "nbformat": 4,
 "nbformat_minor": 2
}

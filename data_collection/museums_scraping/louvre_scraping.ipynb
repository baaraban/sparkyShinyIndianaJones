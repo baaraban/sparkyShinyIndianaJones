{
 "cells": [
  {
   "cell_type": "code",
   "execution_count": 64,
   "metadata": {},
   "outputs": [],
   "source": [
    "from bs4 import BeautifulSoup\n",
    "import urllib.request\n",
    "import pandas as pd\n",
    "import itertools"
   ]
  },
  {
   "cell_type": "code",
   "execution_count": 65,
   "metadata": {},
   "outputs": [],
   "source": [
    "BASE_URL = 'https://www.louvre.fr'"
   ]
  },
  {
   "cell_type": "code",
   "execution_count": 66,
   "metadata": {},
   "outputs": [],
   "source": [
    "current_appendix = '/en/selections'"
   ]
  },
  {
   "cell_type": "code",
   "execution_count": 67,
   "metadata": {},
   "outputs": [],
   "source": [
    "def get_next_appendix(page):\n",
    "    arrow = page_soup.find('a', attrs={'class':'next-page'})\n",
    "    if arrow is None:\n",
    "        return arrow\n",
    "    return arrow['href']"
   ]
  },
  {
   "cell_type": "code",
   "execution_count": 68,
   "metadata": {},
   "outputs": [],
   "source": [
    "def parse_selected_works(page):\n",
    "    uls = page.findAll('ul', attrs={'class':'list-items-1'})\n",
    "    lis = [x.findAll('li') for x in uls]\n",
    "    lis = list(itertools.chain(*lis))\n",
    "    return {x.find('h2').text : x.find('a')['href'] for x in lis}"
   ]
  },
  {
   "cell_type": "code",
   "execution_count": 70,
   "metadata": {},
   "outputs": [],
   "source": [
    "works_collections = {}\n",
    "\n",
    "while current_appendix is not None:\n",
    "    url = f\"{BASE_URL}{current_appendix}\"\n",
    "    page = urllib.request.urlopen(url)\n",
    "    page_soup = BeautifulSoup(page, 'html.parser')\n",
    "    \n",
    "    works_collections = {**works_collections, **parse_selected_works(page_soup)}\n",
    "    \n",
    "    current_appendix = get_next_appendix(page)"
   ]
  },
  {
   "cell_type": "code",
   "execution_count": 71,
   "metadata": {},
   "outputs": [
    {
     "name": "stdout",
     "output_type": "stream",
     "text": [
      "{'Music': '/en/selections/music', 'Animals': '/en/selections/animals', 'Time': '/en/selections/time', 'Heroes': '/en/selections/heroes', 'Children': '/en/selections/children', 'Saints': '/en/selections/saints', 'Let There be Light!': '/en/selections/let-there-be-light', 'Mirror, Mirror on the Wall!': '/en/selections/mirror-mirror-wall', 'At the Seaside…': '/en/selections/seaside%E2%80%A6', 'Hunting and Fishing': '/en/selections/hunting-and-fishing', 'Writing': '/en/selections/writing', 'Beauty': '/en/selections/beauty', 'City Defenses': '/en/selections/city-defenses', 'Remarkable Enigmas': '/en/selections/remarkable-enigmas', 'Gastronomy': '/en/selections/gastronomy', 'Smiles': '/en/selections/smiles', 'Leisure & Celebration': '/en/selections/leisure-celebration-charivari-0', 'Game’s On!': '/en/selections/game%E2%80%99s', 'Blue': '/en/selections/blue-0', 'Kings, Queens and Emperors': '/en/selections/kings-queens-and-emperors'}\n"
     ]
    }
   ],
   "source": [
    "print(works_collections)"
   ]
  },
  {
   "cell_type": "code",
   "execution_count": null,
   "metadata": {},
   "outputs": [],
   "source": []
  }
 ],
 "metadata": {
  "kernelspec": {
   "display_name": "Python 3",
   "language": "python",
   "name": "python3"
  },
  "language_info": {
   "codemirror_mode": {
    "name": "ipython",
    "version": 3
   },
   "file_extension": ".py",
   "mimetype": "text/x-python",
   "name": "python",
   "nbconvert_exporter": "python",
   "pygments_lexer": "ipython3",
   "version": "3.6.5"
  }
 },
 "nbformat": 4,
 "nbformat_minor": 2
}

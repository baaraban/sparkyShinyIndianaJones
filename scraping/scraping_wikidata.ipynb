{
 "cells": [
  {
   "cell_type": "code",
   "execution_count": 13,
   "metadata": {},
   "outputs": [],
   "source": [
    "import pandas as pd\n",
    "import tqdm as tqdm\n",
    "import requests\n",
    "\n",
    "S = requests.Session()"
   ]
  },
  {
   "cell_type": "code",
   "execution_count": 7,
   "metadata": {},
   "outputs": [
    {
     "data": {
      "text/html": [
       "<div>\n",
       "<style scoped>\n",
       "    .dataframe tbody tr th:only-of-type {\n",
       "        vertical-align: middle;\n",
       "    }\n",
       "\n",
       "    .dataframe tbody tr th {\n",
       "        vertical-align: top;\n",
       "    }\n",
       "\n",
       "    .dataframe thead th {\n",
       "        text-align: right;\n",
       "    }\n",
       "</style>\n",
       "<table border=\"1\" class=\"dataframe\">\n",
       "  <thead>\n",
       "    <tr style=\"text-align: right;\">\n",
       "      <th></th>\n",
       "      <th>category</th>\n",
       "      <th>entity</th>\n",
       "      <th>text</th>\n",
       "      <th>title</th>\n",
       "      <th>location</th>\n",
       "      <th>inception</th>\n",
       "      <th>image</th>\n",
       "      <th>discovery</th>\n",
       "      <th>country</th>\n",
       "    </tr>\n",
       "  </thead>\n",
       "  <tbody>\n",
       "    <tr>\n",
       "      <th>0</th>\n",
       "      <td>Category:Archaeological artefact types</td>\n",
       "      <td>Q2517447</td>\n",
       "      <td>An adze (; alternative spelling: adz) is a cut...</td>\n",
       "      <td>Adze</td>\n",
       "      <td></td>\n",
       "      <td></td>\n",
       "      <td></td>\n",
       "      <td></td>\n",
       "      <td></td>\n",
       "    </tr>\n",
       "    <tr>\n",
       "      <th>1</th>\n",
       "      <td>Category:Archaeological artefact types</td>\n",
       "      <td>Q262026</td>\n",
       "      <td>An andiron or firedog, fire-dog or fire dog is...</td>\n",
       "      <td>Andiron</td>\n",
       "      <td></td>\n",
       "      <td></td>\n",
       "      <td></td>\n",
       "      <td></td>\n",
       "      <td></td>\n",
       "    </tr>\n",
       "    <tr>\n",
       "      <th>2</th>\n",
       "      <td>Category:Archaeological artefact types</td>\n",
       "      <td>Q1196338</td>\n",
       "      <td>The ard, ard plough, or scratch plough is a si...</td>\n",
       "      <td>Ard (plough)</td>\n",
       "      <td></td>\n",
       "      <td></td>\n",
       "      <td></td>\n",
       "      <td></td>\n",
       "      <td></td>\n",
       "    </tr>\n",
       "    <tr>\n",
       "      <th>3</th>\n",
       "      <td>Category:Archaeological artefact types</td>\n",
       "      <td>Q45922</td>\n",
       "      <td>An arrow is a fin-stabilized projectile that i...</td>\n",
       "      <td>Arrow</td>\n",
       "      <td></td>\n",
       "      <td></td>\n",
       "      <td></td>\n",
       "      <td></td>\n",
       "      <td></td>\n",
       "    </tr>\n",
       "    <tr>\n",
       "      <th>4</th>\n",
       "      <td>Category:Archaeological artefact types</td>\n",
       "      <td>Q220659</td>\n",
       "      <td>An artifact, or artefact (see American and Bri...</td>\n",
       "      <td>Artifact (archaeology)</td>\n",
       "      <td></td>\n",
       "      <td></td>\n",
       "      <td></td>\n",
       "      <td></td>\n",
       "      <td></td>\n",
       "    </tr>\n",
       "  </tbody>\n",
       "</table>\n",
       "</div>"
      ],
      "text/plain": [
       "                                 category    entity  \\\n",
       "0  Category:Archaeological artefact types  Q2517447   \n",
       "1  Category:Archaeological artefact types   Q262026   \n",
       "2  Category:Archaeological artefact types  Q1196338   \n",
       "3  Category:Archaeological artefact types    Q45922   \n",
       "4  Category:Archaeological artefact types   Q220659   \n",
       "\n",
       "                                                text                   title  \\\n",
       "0  An adze (; alternative spelling: adz) is a cut...                    Adze   \n",
       "1  An andiron or firedog, fire-dog or fire dog is...                 Andiron   \n",
       "2  The ard, ard plough, or scratch plough is a si...            Ard (plough)   \n",
       "3  An arrow is a fin-stabilized projectile that i...                   Arrow   \n",
       "4  An artifact, or artefact (see American and Bri...  Artifact (archaeology)   \n",
       "\n",
       "  location inception image discovery country  \n",
       "0                                             \n",
       "1                                             \n",
       "2                                             \n",
       "3                                             \n",
       "4                                             "
      ]
     },
     "execution_count": 7,
     "metadata": {},
     "output_type": "execute_result"
    }
   ],
   "source": [
    "data = pd.read_csv(\"scraped.csv\")\n",
    "\n",
    "del data['Unnamed: 0']\n",
    "\n",
    "data['location'] = ''\n",
    "data['inception'] = ''\n",
    "data['image'] = ''\n",
    "data['discovery'] = ''\n",
    "data['country'] = ''\n",
    "\n",
    "data.head()"
   ]
  },
  {
   "cell_type": "code",
   "execution_count": 28,
   "metadata": {},
   "outputs": [],
   "source": [
    "def scrape_page_wikidata(entity):\n",
    "    PARAMS = {\n",
    "        \"format\": \"json\",\n",
    "        \"query\":\n",
    "        '\\\n",
    "            SELECT ?wdLabel ?ps_Label ?wdpqLabel ?pq_Label {\\\n",
    "              VALUES (?company) {(wd:' + entity + ')}\\\n",
    "                    ?company ?p ?statement .\\\n",
    "                    ?statement ?ps ?ps_ .\\\n",
    "                    ?wd wikibase:claim ?p.\\\n",
    "                    ?wd wikibase:statementProperty ?ps.\\\n",
    "                    OPTIONAL {\\\n",
    "                      ?statement ?pq ?pq_ .\\\n",
    "                      ?wdpq wikibase:qualifier ?pq .\\\n",
    "                    }\\\n",
    "                  SERVICE wikibase:label { bd:serviceParam wikibase:language \"en\" }\\\n",
    "                }\\\n",
    "            ORDER BY ?wd ?statement ?ps_'\n",
    "    }\n",
    "    R = S.get(url=\"https://query.wikidata.org/sparql\", params=PARAMS)\n",
    "    try:\n",
    "        wikidata_json = R.json()\n",
    "        results = {}\n",
    "        print(wikidata_json)\n",
    "        for obj in wikidata_json['results']['bindings']:\n",
    "            key = obj['wdLabel']['value']\n",
    "            val = obj['ps_Label']['value']\n",
    "            results[key] = val\n",
    "        return results\n",
    "    except Exception as e:\n",
    "        print(\"An exception occurred at page \", entity)\n",
    "        print(R.text)\n",
    "        print(e)\n",
    "        return {}"
   ]
  },
  {
   "cell_type": "code",
   "execution_count": 29,
   "metadata": {},
   "outputs": [
    {
     "name": "stdout",
     "output_type": "stream",
     "text": [
      "An exception occurred at page  Q262026\n",
      "<html>\n",
      "<head>\n",
      "<meta http-equiv=\"Content-Type\" content=\"text/html;charset=utf-8\"/>\n",
      "<title>Error 403 You have been banned until 2019-07-12T08:31:34.311Z, please respect throttling and retry-after headers.</title>\n",
      "</head>\n",
      "<body><h2>HTTP ERROR 403</h2>\n",
      "<p>Problem accessing /bigdata/namespace/wdq/sparql. Reason:\n",
      "<pre>    You have been banned until 2019-07-12T08:31:34.311Z, please respect throttling and retry-after headers.</pre></p><hr><a href=\"http://eclipse.org/jetty\">Powered by Jetty:// 9.4.12.v20180830</a><hr/>\n",
      "\n",
      "</body>\n",
      "</html>\n",
      "\n",
      "Expecting value: line 1 column 1 (char 0)\n"
     ]
    },
    {
     "data": {
      "text/plain": [
       "{}"
      ]
     },
     "execution_count": 29,
     "metadata": {},
     "output_type": "execute_result"
    }
   ],
   "source": [
    "scrape_page_wikidata(data.iloc[1]['entity'])    "
   ]
  },
  {
   "cell_type": "code",
   "execution_count": 19,
   "metadata": {},
   "outputs": [
    {
     "data": {
      "text/plain": [
       "'Q262026'"
      ]
     },
     "execution_count": 19,
     "metadata": {},
     "output_type": "execute_result"
    }
   ],
   "source": [
    "data.iloc[1]['entity']"
   ]
  },
  {
   "cell_type": "code",
   "execution_count": null,
   "metadata": {},
   "outputs": [],
   "source": []
  }
 ],
 "metadata": {
  "kernelspec": {
   "display_name": "Python 3",
   "language": "python",
   "name": "python3"
  },
  "language_info": {
   "codemirror_mode": {
    "name": "ipython",
    "version": 3
   },
   "file_extension": ".py",
   "mimetype": "text/x-python",
   "name": "python",
   "nbconvert_exporter": "python",
   "pygments_lexer": "ipython3",
   "version": "3.6.3"
  }
 },
 "nbformat": 4,
 "nbformat_minor": 2
}

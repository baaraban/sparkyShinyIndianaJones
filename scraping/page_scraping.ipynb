{
 "cells": [
  {
   "cell_type": "code",
   "execution_count": 101,
   "metadata": {},
   "outputs": [],
   "source": [
    "import requests\n",
    "import pandas as pd\n",
    "from tqdm import tqdm\n",
    "S = requests.Session()\n",
    "\n",
    "URL = \"https://en.wikipedia.org/w/api.php\"\n",
    "\n",
    "COMMON_PARAMS = {\n",
    "    \"action\":\"query\",\n",
    "    \"format\":\"json\",\n",
    "    \"list\":\"categorymembers\",\n",
    "    \"cmlimit\": 500\n",
    "}\n",
    "\n",
    "PAGES_LIST = []\n",
    "\n",
    "PAGES_DICT = {\n",
    "}\n",
    "\n",
    "FIRST_RUN = True\n",
    "\n",
    "SKIP_UNTIL = False"
   ]
  },
  {
   "cell_type": "code",
   "execution_count": 113,
   "metadata": {},
   "outputs": [],
   "source": [
    "CATEGORIES_LIST = pd.read_csv(\"scraped_categories.csv\")['0'].tolist()\n",
    "CATEGORIES_LIST.append(\"Category:Archaeological artifacts\")"
   ]
  },
  {
   "cell_type": "code",
   "execution_count": 93,
   "metadata": {},
   "outputs": [],
   "source": [
    "def scrape_page_text(title):\n",
    "    PARAMS = {\n",
    "        \"action\":\"query\",\n",
    "        \"format\":\"json\",\n",
    "        'prop': 'extracts',\n",
    "        'explaintext': True,\n",
    "        'titles': title\n",
    "    }\n",
    "    R = S.get(url=URL, params=PARAMS)\n",
    "    article = R.json()\n",
    "    pages = article['query']['pages']\n",
    "    page_id = next(iter(pages))\n",
    "    text = pages[page_id]['extract']\n",
    "    return text"
   ]
  },
  {
   "cell_type": "code",
   "execution_count": 94,
   "metadata": {},
   "outputs": [
    {
     "data": {
      "text/plain": [
       "'The Ain Sakhri Lovers figurine is a sculpture that was found in one of the Ain Sakhri caves near Bethlehem. The sculpture is considered to be 11,000 years old and to be the oldest known representation of two people engaged in sexual intercourse.\\n\\n\\n== Discovery ==\\nThe sculpture was identified in 1933 by René Neuville, a French consul in Jerusalem and prehistorian, when looking through random finds obtained by the French Fathers at Bethlehem. He found the stone whilst visiting a small museum with Abbé Breuil. Neuville immediately identified it as important and was able to get an introduction to the Bedouin who had made the finds at Wadi Khareitoun. He was led to a location within the Ain Sakhri caves and it is from these caves that the sculpture gets its name. Excavations of the caves revealed that the cave had been used domestically thousands of years ago and the finds were Natufian. For this reason it is thought that the figurine was used domestically and had not been left there as part of a funeral.The person who made the sculpture came from the Natufians, an early Epipaleolithic culture whose members are thought to be the first humans to gather grass seeds that remained attached to their stems. This is an important step in agriculture as it eventually allowed farmers to choose which seeds to eat and which to keep to sow the following season. These people hunted gazelle and are the first known to domesticate dogs, sheep, and goats which also involves selective breeding. It has been speculated that the stability of having a managed food programme allowed the Natufians to create large communities of two to three hundred people and to create art.\\n\\n\\n== Appearance ==\\nThe sculpture was made by carving a single \"calcite cobble\" which was picked away with a stone point to identify the position of the couple. Although it lacks details, such as faces, it is considered to be a clever piece of sculpture. Artist Marc Quinn has noted that the figure looks different depending on the viewer\\'s perspective, and may resemble a couple, a penis, breasts, or a vagina depending on this perspective, or two testicles when viewed upside-down, from the bottom. Quinn compared it to a modern pornographic film where the action may include close-ups and long shots. It is clear that the figures in the couple are facing each other, but the gender of the figures can only be presumed.\\n\\n\\n== Importance and purchase ==\\nAfter the death of René Neuville in 1952, it was purchased by the British Museum at Sotheby\\'s in 1958 from M. Y. Neuville.The object formed the basis of an episode of A History of the World in 100 Objects, a BBC radio programme in January 2010 about the dawn of agriculture.\\n\\n\\n== See also ==\\nList of Stone Age art\\n\\n\\n== References ==\\n\\n\\n== Bibliography ==\\nB. Boyd and J. Cook, \\'A reconsideration of the \"Ain Sakhri\" figurine\\', Proceedings of the Prehistoric Society, 59 (1993), pp. 399–405\\n\\n\\n== External links =='"
      ]
     },
     "execution_count": 94,
     "metadata": {},
     "output_type": "execute_result"
    }
   ],
   "source": [
    "scrape_page_text(\"Ain Sakhri Lovers\")"
   ]
  },
  {
   "cell_type": "code",
   "execution_count": 95,
   "metadata": {},
   "outputs": [],
   "source": [
    "def scrape_page_wikidata(title):\n",
    "    PARAMS = {\n",
    "        \"prop\": \"pageprops\",\n",
    "        \"ppprop\": \"wikibase_item\",\n",
    "        \"format\": \"json\",\n",
    "        \"action\": \"query\",\n",
    "        \"titles\": title\n",
    "    }\n",
    "    R = S.get(url=URL, params=PARAMS)\n",
    "    metadata = R.json()\n",
    "    metadata = metadata['query']['pages']\n",
    "    page_id = next(iter(metadata))\n",
    "    entity = metadata[page_id][\"pageprops\"][\"wikibase_item\"]\n",
    "    return entity"
   ]
  },
  {
   "cell_type": "code",
   "execution_count": 96,
   "metadata": {
    "scrolled": true
   },
   "outputs": [
    {
     "data": {
      "text/plain": [
       "'Q137836'"
      ]
     },
     "execution_count": 96,
     "metadata": {},
     "output_type": "execute_result"
    }
   ],
   "source": [
    "scrape_page_wikidata(\"William the Faience Hippopotamus\")"
   ]
  },
  {
   "cell_type": "code",
   "execution_count": 97,
   "metadata": {},
   "outputs": [],
   "source": [
    "def rec_scrape_pages(category_name, cmcontinue = False):\n",
    "    PARAMS = COMMON_PARAMS\n",
    "    PARAMS[\"cmtype\"] = \"page\"\n",
    "    PARAMS[\"cmtitle\"] = category_name\n",
    "    R = S.get(url=URL, params=PARAMS)\n",
    "    articles = R.json()\n",
    "    if articles.get('continue', False):\n",
    "        cmcontinue = articles['continue']['cmcontinue']\n",
    "    payload = articles['query']['categorymembers']\n",
    "    for page in payload:\n",
    "        title = page['title']\n",
    "        if page in PAGES_LIST:\n",
    "            continue\n",
    "        else:\n",
    "            try:\n",
    "                text = scrape_page_text(title)\n",
    "                entity = scrape_page_wikidata(title)\n",
    "                PAGES_DICT[title] = {\n",
    "                    \"category\": category_name,\n",
    "                    \"title\": title,\n",
    "                    \"text\": text,\n",
    "                    \"entity\": entity\n",
    "                }\n",
    "            except Exception as e:\n",
    "                print(\"An exception occurred at page \", title)\n",
    "                print(e)\n",
    "    if cmcontinue:\n",
    "        rec_scrape_pages(category_name, cmcontinue)"
   ]
  },
  {
   "cell_type": "code",
   "execution_count": 110,
   "metadata": {},
   "outputs": [
    {
     "name": "stderr",
     "output_type": "stream",
     "text": [
      "0it [00:00, ?it/s]/Library/Frameworks/Python.framework/Versions/3.6/lib/python3.6/site-packages/ipykernel_launcher.py:18: FutureWarning: Sorting because non-concatenation axis is not aligned. A future version\n",
      "of pandas will change to not sort by default.\n",
      "\n",
      "To accept the future behavior, pass 'sort=False'.\n",
      "\n",
      "To retain the current behavior and silence the warning, pass 'sort=True'.\n",
      "\n",
      "1it [00:03,  3.38s/it]"
     ]
    },
    {
     "name": "stdout",
     "output_type": "stream",
     "text": [
      "An exception occurred at page  A brotherly quarrel\n",
      "'pageprops'\n",
      "An exception occurred at page  A Goddess Travels to Egypt\n",
      "'pageprops'\n",
      "An exception occurred at page  Alashiya-King, to Pharaoh: The Hand of (god)-Nergal\n",
      "'pageprops'\n",
      "An exception occurred at page  Assyria Joins the International Scene\n",
      "'pageprops'\n",
      "An exception occurred at page  Duty-Free\n",
      "'pageprops'\n",
      "An exception occurred at page  Love and Gold\n",
      "'pageprops'\n",
      "An exception occurred at page  The Missing Gold Statues Again\n",
      "'pageprops'\n",
      "An exception occurred at page  The Pharaoh's reproach Answered\n",
      "'pageprops'\n",
      "An exception occurred at page  Tushratta to Queen Mother Tiye, and missing gold statues\n",
      "'pageprops'\n"
     ]
    },
    {
     "name": "stderr",
     "output_type": "stream",
     "text": [
      "\r",
      "2it [00:10,  4.42s/it]"
     ]
    },
    {
     "name": "stdout",
     "output_type": "stream",
     "text": [
      "An exception occurred at page  Papyrus Oxyrhynchus 1596\n",
      "'pageprops'\n",
      "An exception occurred at page  Papyrus Oxyrhynchus 1597\n",
      "'pageprops'\n",
      "An exception occurred at page  Papyrus Oxyrhynchus 1598\n",
      "'pageprops'\n"
     ]
    },
    {
     "name": "stderr",
     "output_type": "stream",
     "text": [
      "\r",
      "3it [00:12,  3.63s/it]"
     ]
    },
    {
     "name": "stdout",
     "output_type": "stream",
     "text": [
      "An exception occurred at page  Papyrus Oxyrhynchus 2157\n",
      "'pageprops'\n"
     ]
    },
    {
     "name": "stderr",
     "output_type": "stream",
     "text": [
      "\r",
      "4it [00:13,  2.86s/it]"
     ]
    },
    {
     "name": "stdout",
     "output_type": "stream",
     "text": [
      "An exception occurred at page  Papyrus Oxyrhynchus 2383\n",
      "'pageprops'\n",
      "An exception occurred at page  Papyrus Oxyrhynchus 2384\n",
      "'pageprops'\n",
      "An exception occurred at page  Papyrus Oxyrhynchus 2385\n",
      "'pageprops'\n"
     ]
    },
    {
     "name": "stderr",
     "output_type": "stream",
     "text": [
      "\r",
      "5it [00:14,  2.49s/it]"
     ]
    },
    {
     "name": "stdout",
     "output_type": "stream",
     "text": [
      "An exception occurred at page  Papyrus Oxyrhynchus 2683\n",
      "'pageprops'\n",
      "An exception occurred at page  Papyrus Oxyrhynchus 2684\n",
      "'pageprops'\n"
     ]
    },
    {
     "name": "stderr",
     "output_type": "stream",
     "text": [
      "\r",
      "6it [00:16,  2.14s/it]"
     ]
    },
    {
     "name": "stdout",
     "output_type": "stream",
     "text": [
      "An exception occurred at page  Papyrus Oxyrhynchus 4401\n",
      "'pageprops'\n",
      "An exception occurred at page  Papyrus Oxyrhynchus 4402\n",
      "'pageprops'\n",
      "An exception occurred at page  Papyrus Oxyrhynchus 4403\n",
      "'pageprops'\n",
      "An exception occurred at page  Papyrus Oxyrhynchus 4404\n",
      "'pageprops'\n",
      "An exception occurred at page  Papyrus Oxyrhynchus 4405\n",
      "'pageprops'\n",
      "An exception occurred at page  Papyrus Oxyrhynchus 4406\n",
      "'pageprops'\n"
     ]
    },
    {
     "name": "stderr",
     "output_type": "stream",
     "text": [
      "\r",
      "7it [00:18,  2.28s/it]"
     ]
    },
    {
     "name": "stdout",
     "output_type": "stream",
     "text": [
      "An exception occurred at page  Papyrus Oxyrhynchus 4803\n",
      "'pageprops'\n",
      "An exception occurred at page  Papyrus Oxyrhynchus 4804\n",
      "'pageprops'\n",
      "An exception occurred at page  Papyrus Oxyrhynchus 4805\n",
      "'pageprops'\n",
      "An exception occurred at page  Papyrus Oxyrhynchus 4806\n",
      "'pageprops'\n"
     ]
    },
    {
     "name": "stderr",
     "output_type": "stream",
     "text": [
      "\r",
      "8it [00:20,  2.18s/it]"
     ]
    },
    {
     "name": "stdout",
     "output_type": "stream",
     "text": [
      "An exception occurred at page  Papyrus Oxyrhynchus 4844\n",
      "'pageprops'\n",
      "An exception occurred at page  Papyrus Oxyrhynchus 4845\n",
      "'pageprops'\n"
     ]
    },
    {
     "name": "stderr",
     "output_type": "stream",
     "text": [
      "\r",
      "9it [00:21,  1.92s/it]"
     ]
    },
    {
     "name": "stdout",
     "output_type": "stream",
     "text": [
      "An exception occurred at page  Papyrus Oxyrhynchus 4934\n",
      "'pageprops'\n"
     ]
    },
    {
     "name": "stderr",
     "output_type": "stream",
     "text": [
      "\r",
      "10it [00:22,  1.64s/it]"
     ]
    },
    {
     "name": "stdout",
     "output_type": "stream",
     "text": [
      "An exception occurred at page  Papyrus Oxyrhynchus 4968\n",
      "'pageprops'\n"
     ]
    },
    {
     "name": "stderr",
     "output_type": "stream",
     "text": [
      "15it [00:29,  1.15s/it]"
     ]
    },
    {
     "name": "stdout",
     "output_type": "stream",
     "text": [
      "An exception occurred at page  Danish Runic Inscription 357\n",
      "'pageprops'\n",
      "An exception occurred at page  Danish Runic Inscription 358\n",
      "'pageprops'\n",
      "An exception occurred at page  Danish Runic Inscription 359\n",
      "'pageprops'\n",
      "An exception occurred at page  Danish Runic Inscription 360\n",
      "'pageprops'\n"
     ]
    },
    {
     "name": "stderr",
     "output_type": "stream",
     "text": [
      "18it [00:34,  1.30s/it]"
     ]
    },
    {
     "name": "stdout",
     "output_type": "stream",
     "text": [
      "An exception occurred at page  Stone crosses in Kerala\n",
      "'pageprops'\n"
     ]
    },
    {
     "name": "stderr",
     "output_type": "stream",
     "text": [
      "23it [00:39,  1.00s/it]"
     ]
    },
    {
     "name": "stdout",
     "output_type": "stream",
     "text": [
      "An exception occurred at page  Sighthill stone circle\n",
      "'pageprops'\n"
     ]
    },
    {
     "name": "stderr",
     "output_type": "stream",
     "text": [
      "39it [00:52,  1.53it/s]"
     ]
    },
    {
     "name": "stdout",
     "output_type": "stream",
     "text": [
      "An exception occurred at page  Artemision deposit\n",
      "'pageprops'\n"
     ]
    },
    {
     "name": "stderr",
     "output_type": "stream",
     "text": [
      "\r",
      "40it [00:58,  2.19s/it]"
     ]
    },
    {
     "name": "stdout",
     "output_type": "stream",
     "text": [
      "An exception occurred at page  Artemision deposit\n",
      "'pageprops'\n"
     ]
    },
    {
     "name": "stderr",
     "output_type": "stream",
     "text": [
      "\r",
      "41it [01:04,  3.40s/it]"
     ]
    },
    {
     "name": "stdout",
     "output_type": "stream",
     "text": [
      "An exception occurred at page  Ribchester Hoard\n",
      "'pageprops'\n"
     ]
    },
    {
     "name": "stderr",
     "output_type": "stream",
     "text": [
      "44it [02:12, 19.80s/it]\n"
     ]
    }
   ],
   "source": [
    "for idx, category in tqdm(enumerate(CATEGORIES_LIST)):\n",
    "    global FIRST_RUN\n",
    "    global PAGES_DICT\n",
    "    global PAGES_LIST\n",
    "    global SKIP_UNTIL\n",
    "    if category == SKIP_UNTIL:\n",
    "        SKIP_UNTIL = False\n",
    "    if SKIP_UNTIL:\n",
    "        continue\n",
    "    rec_scrape_pages(category)\n",
    "    PAGES_LIST.extend(PAGES_DICT.keys())\n",
    "    if FIRST_RUN:\n",
    "        df = pd.DataFrame.from_dict(PAGES_DICT, orient=\"index\").reset_index(drop=True)\n",
    "        FIRST_RUN = False\n",
    "    else:\n",
    "        old = pd.read_csv(\"scraped.csv\")\n",
    "        new = pd.DataFrame.from_dict(PAGES_DICT, orient=\"index\").reset_index(drop=True)\n",
    "        df = pd.concat([old, new])\n",
    "    if idx%10 == 0:\n",
    "        df = df[df.columns.drop(list(df.filter(regex='Unnamed: 0')))]\n",
    "        df.to_csv(\"scraped.csv\")\n",
    "        PAGES_DICT = {}"
   ]
  },
  {
   "cell_type": "code",
   "execution_count": 111,
   "metadata": {},
   "outputs": [
    {
     "name": "stderr",
     "output_type": "stream",
     "text": [
      "/Library/Frameworks/Python.framework/Versions/3.6/lib/python3.6/site-packages/ipykernel_launcher.py:3: FutureWarning: Sorting because non-concatenation axis is not aligned. A future version\n",
      "of pandas will change to not sort by default.\n",
      "\n",
      "To accept the future behavior, pass 'sort=False'.\n",
      "\n",
      "To retain the current behavior and silence the warning, pass 'sort=True'.\n",
      "\n",
      "  This is separate from the ipykernel package so we can avoid doing imports until\n"
     ]
    }
   ],
   "source": [
    "old = pd.read_csv(\"scraped.csv\")\n",
    "new = pd.DataFrame.from_dict(PAGES_DICT, orient=\"index\").reset_index(drop=True)\n",
    "df = pd.concat([old, new])\n",
    "\n",
    "df = df[df.columns.drop(list(df.filter(regex='Unnamed: 0')))]\n",
    "df.to_csv(\"scraped.csv\")\n",
    "PAGES_DICT = {}"
   ]
  },
  {
   "cell_type": "code",
   "execution_count": 112,
   "metadata": {},
   "outputs": [
    {
     "data": {
      "text/plain": [
       "array(['Category:Archaeological artefact types',\n",
       "       'Category:Ancient Greek vase painters',\n",
       "       'Category:Scholars of ancient Greek pottery',\n",
       "       'Category:Ancient Greek pot shapes',\n",
       "       'Category:Ancient Greek potters', 'Category:Amphorae',\n",
       "       'Category:Ancient pottery', 'Category:Ancient Greek pottery',\n",
       "       'Category:Attic pottery', 'Category:Panathenaic amphorae',\n",
       "       'Category:Ancient Greek pottery figurines',\n",
       "       'Category:Ancient Roman pottery',\n",
       "       'Category:Individual ancient Greek vases',\n",
       "       'Category:Etruscan ceramics',\n",
       "       'Category:Ancient Greek vase-painting styles',\n",
       "       'Category:Romano-British pottery',\n",
       "       'Category:Linear Pottery culture', 'Category:Illyrian pottery',\n",
       "       'Category:Ancient Greek vase painting',\n",
       "       'Category:Minoan vase painting',\n",
       "       'Category:Ancient Egyptian palettes', 'Category:Clay tablets',\n",
       "       'Category:Amarna letters',\n",
       "       'Category:Vassal city-state & miscellaneous Amarna letters',\n",
       "       'Category:Assyria (Ashur-uballit I) Amarna letters',\n",
       "       'Category:Mitanni (King Tushratta) Amarna letters',\n",
       "       'Category:Alashiya (Cypress) Amarna letters',\n",
       "       'Category:Pre-Columbian pottery',\n",
       "       'Category:Archaeological palettes',\n",
       "       'Category:City-state Amarna letters to Pharaoh (cities Irqata & Tunip)',\n",
       "       'Category:Abimilku letters (island Tyre/Ṣurru)',\n",
       "       'Category:Aziru (from Amurru kingdom) Amarna letters sub-corpus',\n",
       "       'Category:Endaruta of Achshaph (Akšapa) Amarna letters',\n",
       "       'Category:Labaya of Shechem (Šakmu) Amarna letters',\n",
       "       'Category:Milkilu of Gezer Amarna letters',\n",
       "       'Category:Jerusalem letters',\n",
       "       'Category:Yapahu of Gazru Amarna letters',\n",
       "       'Category:Rib-Hadda letters',\n",
       "       'Category:Ayyab of Ashtartu letter to Pharaoh (EA 364)',\n",
       "       'Category:Cuneiform signs, Amarna letters',\n",
       "       'Category:Amarna letters writers',\n",
       "       'Category:Amarna letters locations',\n",
       "       'Category:Amarna letters officials',\n",
       "       'Category:Egyptian artefact types', 'Category:Epic of Gilgamesh',\n",
       "       'Category:Enûma Eliš', 'Category:Amarna greeting letters',\n",
       "       'Category:Yidya of Ašqaluna (Ashkelon) Amarna letters',\n",
       "       'Category:Curse tablets', 'Category:Ancient Egyptian mummies',\n",
       "       'Category:Mummy films', 'Category:Mummies', 'Category:Bog bodies',\n",
       "       'Category:Mummies in fiction', 'Category:Fictional mummies',\n",
       "       'Category:Guanche mummies', 'Category:The Mummy (franchise)',\n",
       "       'Category:Assyrian stelas', 'Category:Decorative maceheads',\n",
       "       'Category:Egyptian papyri',\n",
       "       'Category:Egyptian papyri containing images',\n",
       "       'Category:Amherst papyri', 'Category:Ostracon',\n",
       "       'Category:Tarim mummies', 'Category:Oxyrhynchus papyri',\n",
       "       'Category:Oxyrhynchus papyri vol. I',\n",
       "       'Category:Oxyrhynchus papyri vol. II',\n",
       "       'Category:Oxyrhynchus papyri vol. III',\n",
       "       'Category:The Scorpion King films',\n",
       "       'Category:Oxyrhynchus papyri vol. IV',\n",
       "       'Category:Oxyrhynchus papyri vol. IX',\n",
       "       'Category:Oxyrhynchus papyri vol. VII',\n",
       "       'Category:Oxyrhynchus papyri vol. X',\n",
       "       'Category:Oxyrhynchus papyri vol. XII',\n",
       "       'Category:Oxyrhynchus papyri vol. VI',\n",
       "       'Category:Oxyrhynchus papyri vol. V',\n",
       "       'Category:Oxyrhynchus papyri vol. VIII',\n",
       "       'Category:Oxyrhynchus papyri vol. XI',\n",
       "       'Category:Oxyrhynchus papyri vol. XXII',\n",
       "       'Category:Oxyrhynchus papyri vol. XV',\n",
       "       'Category:Oxyrhynchus papyri vol. XLI',\n",
       "       'Category:Oxyrhynchus papyri vol. XLII',\n",
       "       'Category:Oxyrhynchus papyri vol. L',\n",
       "       'Category:Oxyrhynchus papyri vol. LVIII',\n",
       "       'Category:Historical people who were forensically reconstructed',\n",
       "       'Category:Human remains (archaeological)',\n",
       "       'Category:Ancient Egyptian stelas',\n",
       "       'Category:Oxyrhynchus papyri vol. LXV',\n",
       "       'Category:Oxyrhynchus papyri vol. LXVI',\n",
       "       'Category:Oxyrhynchus papyri vol. LXXVII',\n",
       "       'Category:Neanderthal fossils',\n",
       "       'Category:Oldest human remains in the Americas',\n",
       "       'Category:Homo sapiens fossils',\n",
       "       'Category:Homo heidelbergensis fossils', 'Category:Homo fossils',\n",
       "       'Category:Upper Paleolithic Homo sapiens fossils',\n",
       "       'Category:Mesolithic Homo sapiens fossils',\n",
       "       'Category:Homo erectus fossils', 'Category:Homo ergaster fossils',\n",
       "       'Category:Homo habilis fossils', 'Category:Pompeii (ancient city)',\n",
       "       'Category:Pompeii in popular culture',\n",
       "       'Category:Cultural depictions of Poppaea Sabina',\n",
       "       'Category:Hardstone carving', 'Category:Lithics',\n",
       "       'Category:People from Pompeii (ancient city)',\n",
       "       'Category:Villas of Pompeii', 'Category:Poppaea Sabina',\n",
       "       'Category:Films based on The Last Days of Pompeii',\n",
       "       'Category:Temples of Pompeii', 'Category:Lost Fabergé eggs',\n",
       "       'Category:Imperial Fabergé eggs', 'Category:Fabergé workmasters',\n",
       "       'Category:Engraved gem artists', 'Category:Diamond cutting',\n",
       "       'Category:Kelch Fabergé eggs', 'Category:Gemstone cutting',\n",
       "       'Category:Crystal skull', 'Category:Fabergé eggs',\n",
       "       'Category:Australian Aboriginal art', 'Category:Prehistoric art',\n",
       "       'Category:Art of the Upper Paleolithic',\n",
       "       'Category:Individual hardstone carvings',\n",
       "       'Category:Venus of Willendorf', 'Category:Projectile points',\n",
       "       'Category:Jade', 'Category:Roman Empire cameos',\n",
       "       'Category:Rock art of the Iberian Mediterranean Basin',\n",
       "       'Category:Venus figurines', 'Category:Rock art in Australia',\n",
       "       'Category:Australian Aboriginal artists',\n",
       "       'Category:Aegean art of the Bronze Age',\n",
       "       'Category:Prehistoric objects in the British Museum',\n",
       "       'Category:Minoan frescos', 'Category:Minoan art',\n",
       "       'Category:Bronze Age art', 'Category:Bronze Age gold hats',\n",
       "       'Category:Mycenaean art', 'Category:Cycladic art',\n",
       "       'Category:Celtic art',\n",
       "       'Category:Caves containing pictograms in India',\n",
       "       'Category:Caves containing pictograms', 'Category:Torcs',\n",
       "       'Category:Caves containing pictograms in Spain',\n",
       "       'Category:Caves containing pictograms in France',\n",
       "       'Category:Cave paintings',\n",
       "       'Category:Treasure troves of Bronze Age Britain',\n",
       "       'Category:Shang dynasty bronzeware',\n",
       "       'Category:Works about cave paintings',\n",
       "       'Category:High crosses in the Republic of Ireland',\n",
       "       'Category:Insular art', 'Category:High crosses',\n",
       "       'Category:Hiberno-Saxon manuscripts',\n",
       "       'Category:High crosses in England', 'Category:Celtic brooches',\n",
       "       'Category:Celtic crosses', 'Category:Bede manuscripts',\n",
       "       'Category:Pictish stones', 'Category:Pictish stones in Angus',\n",
       "       'Category:Iron Age art of Europe',\n",
       "       'Category:High crosses in Northern Ireland',\n",
       "       'Category:Pictish stones in Highland (council area)',\n",
       "       'Category:Pictish stones in Aberdeenshire',\n",
       "       'Category:Symbols on Pictish stones',\n",
       "       'Category:High crosses in Scotland',\n",
       "       'Category:Pictish inscriptions', 'Category:Pictish art',\n",
       "       'Category:Anglo-Saxon art',\n",
       "       'Category:Churches with elements of Anglo-Saxon work',\n",
       "       'Category:Standing Anglo-Saxon churches',\n",
       "       'Category:Standing Anglo-Saxon buildings',\n",
       "       'Category:Anglo-Saxon architecture', 'Category:Germanic art',\n",
       "       'Category:Later Anglo-Saxon illuminated manuscripts',\n",
       "       'Category:Castles in England built before 1066',\n",
       "       'Category:Anglo-Saxon artists', 'Category:Bracteates',\n",
       "       'Category:Carolingian architecture',\n",
       "       'Category:Carolingian illuminated manuscripts',\n",
       "       'Category:Abbey library of Saint Gall',\n",
       "       'Category:Abbey of Saint Gall',\n",
       "       'Category:Manuscripts of the Abbey library of Saint Gall',\n",
       "       'Category:Carolingian art', 'Category:Carolingian psalters',\n",
       "       'Category:Monks at Saint Gall', 'Category:Abbots of Saint Gall',\n",
       "       'Category:Lombard art', 'Category:Merovingian architecture',\n",
       "       'Category:Picture stones', 'Category:Ostrogothic art',\n",
       "       'Category:Rune- and picture stones on Gotland',\n",
       "       'Category:Viking Age art', 'Category:Lombard architecture',\n",
       "       'Category:Lombard books', 'Category:Merovingian art',\n",
       "       'Category:Lombard sculptures', 'Category:Runestones in Denmark',\n",
       "       'Category:Runestones', \"Category:Haþuwulf's runestones\",\n",
       "       'Category:Runestones in Norway',\n",
       "       'Category:Runestones on the Faroe Islands',\n",
       "       'Category:Runestones in Sweden', 'Category:Runestones in Germany',\n",
       "       'Category:Runestones by country', 'Category:Runestones in Finland',\n",
       "       'Category:Runestones in Småland',\n",
       "       'Category:Runestones in Östergötland',\n",
       "       'Category:Runestones in Scania', 'Category:Runestones in Jämtland',\n",
       "       'Category:Runestones in Gästrikland',\n",
       "       'Category:Runestones in Hälsingland',\n",
       "       'Category:Runestones in Bohuslän', 'Category:Runestones in Öland',\n",
       "       'Category:Runestones in Närke', 'Category:Runestones in Medelpad',\n",
       "       'Category:North American runestone hoaxes',\n",
       "       'Category:Runestones in Uppland', 'Category:Runemasters',\n",
       "       'Category:Runestones in Västergötland',\n",
       "       'Category:Runestones, Estrid',\n",
       "       'Category:Danish Runic Inscriptions',\n",
       "       'Category:Runestones in Södermanland',\n",
       "       'Category:Runestones, Gerlög and Inga',\n",
       "       'Category:Runestones in Västmanland',\n",
       "       'Category:Runestones in Värmland', 'Category:Geoglyphs',\n",
       "       'Category:Hill figures',\n",
       "       'Category:Runestones in memory of Viking warriors',\n",
       "       'Category:Rock art in France',\n",
       "       'Category:Visigothic buildings and structures',\n",
       "       'Category:Prehistoric art in France',\n",
       "       'Category:Illyrian archeological sites and structures in Bosnia and Herzegovina',\n",
       "       'Category:Illyrian art',\n",
       "       'Category:Runestones raised in memory of women',\n",
       "       'Category:Visigothic art', 'Category:Prehistoric art in Germany',\n",
       "       'Category:Hittite art', 'Category:White horses in England',\n",
       "       'Category:Iron Age Greek art', 'Category:Iron Age art',\n",
       "       'Category:Hill figures in Canada',\n",
       "       'Category:Hill figures in England',\n",
       "       'Category:Hill figures in the United States',\n",
       "       'Category:Hill figures in Scotland', 'Category:Cross symbols',\n",
       "       'Category:Petroglyphs', 'Category:Christian crosses',\n",
       "       'Category:Crosses by culture', 'Category:Flags with crosses',\n",
       "       'Category:Red Ensigns', 'Category:Blue Ensigns',\n",
       "       'Category:Saltire flags', 'Category:Nordic Cross flags',\n",
       "       'Category:Altar crosses', 'Category:Crosses by function',\n",
       "       'Category:Crux gemmata', 'Category:Stone crosses',\n",
       "       'Category:Crucifixes', 'Category:Forked crosses',\n",
       "       'Category:Stone crosses in the United Kingdom',\n",
       "       'Category:Crosses by form',\n",
       "       'Category:Stone crosses in Continental Europe',\n",
       "       'Category:Crucifixion of Jesus in art',\n",
       "       'Category:Stations of the Cross', 'Category:Stigmatics',\n",
       "       'Category:Calvaries in Brittany',\n",
       "       'Category:Denial of the crucifixion of Jesus',\n",
       "       'Category:Crucifixion of Jesus', 'Category:Calvary',\n",
       "       'Category:Entombment of Christ in art', 'Category:Crucifixion',\n",
       "       'Category:Entombment of Christ',\n",
       "       'Category:Twenty-six Martyrs of Japan',\n",
       "       'Category:People executed by crucifixion',\n",
       "       'Category:Memorial crosses', 'Category:Market crosses in England',\n",
       "       'Category:Monumental crosses in England',\n",
       "       'Category:Monumental crosses in Scotland',\n",
       "       'Category:Monumental crosses in the United Kingdom',\n",
       "       'Category:Monumental crosses',\n",
       "       'Category:Monumental crosses in Canada',\n",
       "       'Category:Reliquary crosses',\n",
       "       'Category:Coats of arms with crosses',\n",
       "       'Category:Monumental crosses in the United States',\n",
       "       'Category:Individual crosses and crucifixes',\n",
       "       'Category:Coats of arms with saltires', 'Category:Pendant crosses',\n",
       "       'Category:Processional crosses', 'Category:Crossroads mythology',\n",
       "       'Category:Rood crosses', 'Category:Wayside crosses',\n",
       "       'Category:Crux (constellation)', 'Category:Petroglyphs in Mexico',\n",
       "       'Category:Crosses in heraldry', 'Category:Southern Cross flags',\n",
       "       'Category:Petroglyphs in Canada', 'Category:Swastika',\n",
       "       'Category:Petroglyphs in Puerto Rico',\n",
       "       'Category:Petroglyphs in the United States',\n",
       "       'Category:Petroglyphs in North America',\n",
       "       'Category:Petroglyphs in Alaska',\n",
       "       'Category:Petroglyphs in California',\n",
       "       'Category:Petroglyphs in Minnesota',\n",
       "       'Category:Hohokam rock art sites',\n",
       "       'Category:Petroglyphs in Massachusetts',\n",
       "       'Category:Petroglyphs in Missouri',\n",
       "       'Category:Petroglyphs in Arizona',\n",
       "       'Category:Petroglyphs in Kentucky',\n",
       "       'Category:Petroglyphs in Illinois',\n",
       "       'Category:Petroglyphs in Michigan',\n",
       "       'Category:Petroglyphs in Georgia (U.S. state)',\n",
       "       'Category:Petroglyphs in Oregon', 'Category:Petroglyphs in Ohio',\n",
       "       'Category:Petroglyphs in Utah',\n",
       "       'Category:Petroglyphs in Pennsylvania',\n",
       "       'Category:Petroglyphs in Nevada',\n",
       "       'Category:Petroglyphs in New Mexico',\n",
       "       'Category:Petroglyphs in Montana',\n",
       "       'Category:Petroglyphs in Tennessee',\n",
       "       'Category:Petroglyphs in North Carolina',\n",
       "       'Category:Petroglyphs in North Dakota',\n",
       "       'Category:Petroglyphs in Wyoming',\n",
       "       'Category:Petroglyphs in Vermont',\n",
       "       'Category:Petroglyphs in South America',\n",
       "       'Category:Petroglyphs in Washington (state)',\n",
       "       'Category:Rock art in Portugal',\n",
       "       'Category:Petroglyphs in West Virginia',\n",
       "       'Category:Petroglyphs in Norway',\n",
       "       'Category:Petroglyphs in the U.S. Virgin Islands',\n",
       "       'Category:Petroglyphs in Wisconsin', 'Category:Saharan rock art',\n",
       "       'Category:Buddhist caves', 'Category:Rock art',\n",
       "       'Category:Rock art in Africa', 'Category:Ancient Near East steles',\n",
       "       'Category:Chinese Buddhist grottoes',\n",
       "       'Category:Buddhist grottoes in Gansu', 'Category:Rock art in Asia',\n",
       "       'Category:Kudurru boundary stones',\n",
       "       'Category:Rock art in North America',\n",
       "       'Category:Rock art in Europe', 'Category:Rock reliefs in India',\n",
       "       'Category:Rock art in India', 'Category:Rock art in China',\n",
       "       'Category:Rock art in Spain',\n",
       "       'Category:Ancient Pueblo peoples rock art',\n",
       "       'Category:Rock reliefs in China',\n",
       "       'Category:Rock art in Bosnia and Herzegovina',\n",
       "       'Category:Rock reliefs in Egypt', 'Category:Rock reliefs in Iran',\n",
       "       'Category:Rock reliefs in Turkey',\n",
       "       'Category:Rock art in South America',\n",
       "       'Category:Behistun Inscription',\n",
       "       'Category:Rock art of the Chumash people',\n",
       "       'Category:Rock art of Oceania', 'Category:Rock reliefs',\n",
       "       'Category:Naqsh-e Rustam', 'Category:Mesoamerican stelae',\n",
       "       'Category:Stone circles in Ireland',\n",
       "       'Category:Stone circles in Asia',\n",
       "       'Category:Stone circles in Northern Ireland',\n",
       "       'Category:Stone circles in England',\n",
       "       'Category:Stone circles in Cornwall', 'Category:Stone circles',\n",
       "       'Category:Stone circles in Australia',\n",
       "       'Category:Stone circles in Europe',\n",
       "       'Category:Stone circles in India',\n",
       "       'Category:Stone circles in the United Kingdom',\n",
       "       'Category:Stone circles in Derbyshire',\n",
       "       'Category:Stone circles in Aberdeenshire',\n",
       "       'Category:Stone circles in Cumbria',\n",
       "       'Category:Stone circles in Devon',\n",
       "       'Category:Stone circles in Angus',\n",
       "       'Category:Stone circles in Oxfordshire',\n",
       "       'Category:Stone circles in Dorset',\n",
       "       'Category:Stone circles in Shropshire',\n",
       "       'Category:Lists of stone circles in Scotland',\n",
       "       'Category:Stone circles in North Ayrshire',\n",
       "       'Category:Stone circles in Na h-Eileanan Siar',\n",
       "       'Category:Stone circles in Perth and Kinross',\n",
       "       'Category:Stone circles in Dumfries and Galloway',\n",
       "       'Category:Stone circles in Shetland',\n",
       "       'Category:Stone circles in Stirling (council area)',\n",
       "       'Category:Stone circles in Moray',\n",
       "       'Category:Stone circles in the Scottish Borders',\n",
       "       'Category:Stone circles in Orkney',\n",
       "       'Category:Stone circles in Argyll and Bute',\n",
       "       'Category:Sculpture of the Ancient Near East',\n",
       "       'Category:Prehistoric sculpture',\n",
       "       'Category:2nd-millennium BC steles', 'Category:Steles',\n",
       "       'Category:3rd-millennium BC steles',\n",
       "       'Category:Stone circles in Wales',\n",
       "       'Category:Prehistoric art in Turkey',\n",
       "       'Category:25th-century BC steles',\n",
       "       'Category:Prehistoric art in Switzerland',\n",
       "       'Category:9th-century BC steles', 'Category:3rd-century BC steles',\n",
       "       'Category:15th-century BC steles',\n",
       "       'Category:4th-century BC steles',\n",
       "       'Category:1st-millennium BC steles',\n",
       "       'Category:8th-century BC steles',\n",
       "       'Category:13th-century BC steles',\n",
       "       'Category:7th-century BC steles',\n",
       "       'Category:12th-century BC steles',\n",
       "       'Category:16th-century BC steles', 'Category:Funerary steles',\n",
       "       'Category:Obelisks', 'Category:2nd-century BC steles',\n",
       "       'Category:Coats of arms with steles', 'Category:Axumite steles',\n",
       "       'Category:Chinese steles', 'Category:Axumite obelisks',\n",
       "       'Category:Steles in Turkey', 'Category:Korean steles',\n",
       "       'Category:Obelisks in Denmark',\n",
       "       'Category:Obelisks in the Republic of Ireland',\n",
       "       'Category:Obelisks in Australia', 'Category:Obelisks in Canada',\n",
       "       'Category:Obelisks in France', 'Category:Obelisks in Sydney',\n",
       "       'Category:Obelisks in China', 'Category:Obelisks in Argentina',\n",
       "       'Category:Obelisks in Germany', 'Category:Obelisks in Ethiopia',\n",
       "       'Category:Obelisks in Russia', 'Category:Obelisks in Florence',\n",
       "       'Category:Obelisks in Singapore',\n",
       "       'Category:Obelisks in the Netherlands',\n",
       "       'Category:Obelisks in Rome', 'Category:Obelisks in Norway',\n",
       "       'Category:Obelisks in Romania', 'Category:Obelisks in Pakistan',\n",
       "       'Category:Obelisks in Portugal', 'Category:Obelisks in England',\n",
       "       'Category:Obelisks in the United States',\n",
       "       'Category:Ancient Egyptian obelisks', 'Category:Ancient obelisks',\n",
       "       'Category:Obelisks in Scotland', 'Category:Obelisks in Spain',\n",
       "       'Category:Obelisks in Turkey', 'Category:Lists of obelisks',\n",
       "       'Category:Obelisks in Istanbul',\n",
       "       'Category:4th-century BC artefacts', 'Category:Votive offering',\n",
       "       'Category:Votive churches', 'Category:4th-century artefacts',\n",
       "       'Category:1st-century artifacts', 'Category:Victory steles',\n",
       "       'Category:7th-century artifacts', 'Category:3rd-century artifacts',\n",
       "       'Category:2nd-century artifacts', 'Category:9th-century artifacts',\n",
       "       'Category:Archaeological discoveries in Ethiopia',\n",
       "       'Category:14th-century artefacts',\n",
       "       'Category:Archaeological discoveries in Egypt',\n",
       "       'Category:10th-century artifacts',\n",
       "       'Category:Archaeological discoveries in South Africa',\n",
       "       'Category:Archaeological discoveries in Africa',\n",
       "       'Category:Archaeological discoveries in Tanzania',\n",
       "       'Category:11th-century artifacts',\n",
       "       'Category:Archaeological artifacts of China',\n",
       "       'Category:Archaeological discoveries in Iran',\n",
       "       'Category:Native American potters',\n",
       "       'Category:American Indian relics',\n",
       "       'Category:Bamboo and wooden slips',\n",
       "       'Category:Archaeological discoveries in Iraq',\n",
       "       'Category:Zhou dynasty bronzeware', 'Category:Pueblo ceramics',\n",
       "       'Category:Native American pottery',\n",
       "       'Category:Archaeological discoveries in Asia',\n",
       "       'Category:Archaeological discoveries in Turkey',\n",
       "       'Category:Treasure troves of Turkey',\n",
       "       'Category:Archaeological discoveries in Syria',\n",
       "       'Category:Archaeological discoveries in Ugarit',\n",
       "       'Category:Archaeological discoveries in Israel',\n",
       "       'Category:Archaeological discoveries in Europe',\n",
       "       'Category:Archaeological discoveries in Austria',\n",
       "       'Category:Archaeological discoveries in Mari, Syria',\n",
       "       'Category:Archaeological discoveries in Jordan',\n",
       "       'Category:Archaeological discoveries in Russia',\n",
       "       'Category:Archaeological discoveries in Germany',\n",
       "       'Category:Archaeological discoveries in Greece',\n",
       "       'Category:Archaeological discoveries in France',\n",
       "       'Category:Archaeological discoveries in Finland',\n",
       "       'Category:Archaeological discoveries in Denmark',\n",
       "       'Category:Archaeological discoveries in Croatia',\n",
       "       'Category:Treasure troves of Germany',\n",
       "       'Category:Archaeological discoveries in Cyprus',\n",
       "       'Category:Archaeological discoveries in Bulgaria',\n",
       "       'Category:Archaeological discoveries in the Czech Republic',\n",
       "       'Category:Archaeological discoveries in Italy',\n",
       "       'Category:Etruscan sculptures',\n",
       "       'Category:Minoan archaeological artifacts',\n",
       "       'Category:Archaeological discoveries in Portugal',\n",
       "       'Category:Treasure troves of Italy',\n",
       "       'Category:Archaeological discoveries in the Netherlands',\n",
       "       'Category:Collections of the Villa Giulia',\n",
       "       'Category:Archaeological discoveries in Malta',\n",
       "       'Category:Etruscan artefacts',\n",
       "       'Category:Etruscan sculptures of the Louvre',\n",
       "       'Category:Archaeological artefacts from the River Thames',\n",
       "       'Category:Archaeological discoveries in Ukraine',\n",
       "       'Category:Archaeological discoveries in Sweden',\n",
       "       'Category:Archaeological discoveries in Spain',\n",
       "       'Category:Archaeological discoveries in the United Kingdom',\n",
       "       'Category:Treasure troves of Spain',\n",
       "       'Category:Archaeological discoveries in Slovenia',\n",
       "       'Category:Treasure troves in the United Kingdom',\n",
       "       'Category:Archaeological discoveries in Switzerland',\n",
       "       'Category:Archaeological discoveries in Slovakia',\n",
       "       'Category:Aztec artifacts',\n",
       "       'Category:Treasure troves of Roman Britain',\n",
       "       'Category:Treasure troves in England',\n",
       "       'Category:Treasure troves in Northern Ireland',\n",
       "       'Category:Mesoamerican artifacts',\n",
       "       'Category:Treasure troves in Scotland',\n",
       "       'Category:Lists of hoards in Britain',\n",
       "       'Category:Archaeological discoveries in Peru',\n",
       "       'Category:Treasure troves in Wales',\n",
       "       'Category:Archaeological artefact groups',\n",
       "       'Category:Earliest known manuscripts by language',\n",
       "       'Category:Archaeological theft',\n",
       "       'Category:Germanic archaeological artifacts',\n",
       "       'Category:Runic inscriptions', 'Category:Germanic weapons',\n",
       "       'Category:Viking swords',\n",
       "       'Category:Indo-European archaeological artifacts',\n",
       "       'Category:Celtic archaeological artifacts',\n",
       "       'Category:Nazi-looted art', 'Category:Rovas script',\n",
       "       'Category:Alu (runic)', 'Category:Elder Futhark inscriptions',\n",
       "       'Category:Stave churches in Norway',\n",
       "       'Category:Viking ship burials', 'Category:Viking ships',\n",
       "       'Category:Stave churches in Sweden', 'Category:Stave churches',\n",
       "       'Category:Replica of stave churches',\n",
       "       'Category:Replica of stave churches in Sweden',\n",
       "       'Category:Message artifacts',\n",
       "       'Category:Iranian archaeological artifacts',\n",
       "       'Category:Viking treasure troves',\n",
       "       'Category:Thracian archaeological artifacts',\n",
       "       'Category:Contents of the Voyager Golden Record',\n",
       "       'Category:Viking ship replicas', 'Category:Dacian weapons',\n",
       "       'Category:Metal detecting finds in the Channel Islands',\n",
       "       'Category:Metal detecting finds',\n",
       "       'Category:Italic archaeological artifacts',\n",
       "       'Category:Pre-Columbian trans-oceanic contact',\n",
       "       'Category:Out-of-place artifacts',\n",
       "       'Category:Norse colonization of North America',\n",
       "       'Category:Pre-1606 contact with Australia',\n",
       "       'Category:Metal detecting finds in England',\n",
       "       'Category:Metal detecting finds in Scotland',\n",
       "       'Category:Metal detecting finds in Ireland',\n",
       "       'Category:Metal detecting finds in United States',\n",
       "       'Category:Metal detecting finds in Wales',\n",
       "       'Category:Former populated places in Greenland',\n",
       "       'Category:Treasure troves',\n",
       "       'Category:Treasure troves of the United States',\n",
       "       'Category:Ruins in Greenland', 'Category:Ghost towns in Greenland',\n",
       "       'Category:Treasure troves of Asia', 'Category:Vinland',\n",
       "       'Category:Viking Age in Canada',\n",
       "       'Category:Treasure troves of India',\n",
       "       'Category:Treasure troves of Medieval Europe',\n",
       "       'Category:Treasure troves in Bulgaria',\n",
       "       'Category:Treasure troves of South Korea',\n",
       "       'Category:Treasure troves of Belgium',\n",
       "       'Category:Treasure troves in Jersey',\n",
       "       'Category:Treasure troves in Ukraine',\n",
       "       'Category:Treasure troves of Belarus',\n",
       "       'Category:Treasure troves of Azerbaijan',\n",
       "       'Category:Treasure troves in the Republic of Ireland',\n",
       "       'Category:Treasure troves of France',\n",
       "       'Category:Treasure troves in Denmark',\n",
       "       'Category:Treasure troves in Romania',\n",
       "       'Category:Treasure troves in Hungary',\n",
       "       'Category:Treasure troves of Poland',\n",
       "       'Category:Treasure troves in Russia',\n",
       "       'Category:Treasure troves in Slovakia',\n",
       "       'Category:Archaeological artifacts',\n",
       "       'Category:Treasure troves of classical antiquity',\n",
       "       'Category:Treasure troves of Late Antiquity',\n",
       "       'Category:Hoards of jewellery',\n",
       "       'Category:Treasure troves of the Iron Age',\n",
       "       'Category:Kingdoms (Great Kings), countries, & regions Amarna letters',\n",
       "       'Category:Fabergé eggs of the Royal Collection of the United Kingdom',\n",
       "       'Category:Runestones in Blekinge',\n",
       "       'Category:24th-century BC steles'], dtype=object)"
      ]
     },
     "execution_count": 112,
     "metadata": {},
     "output_type": "execute_result"
    }
   ],
   "source": [
    "scraped = pd.read_csv(\"scraped.csv\")\n",
    "categories = scraped['category'].unique()\n",
    "categories"
   ]
  },
  {
   "cell_type": "code",
   "execution_count": 114,
   "metadata": {},
   "outputs": [
    {
     "data": {
      "text/plain": [
       "['Category:Ancient Greek vases',\n",
       " 'Category:Oxyrhynchus papyri vol. XIII',\n",
       " 'Category:Oxyrhynchus papyri vol. XVIII',\n",
       " 'Category:Oxyrhynchus papyri vol. XXIV',\n",
       " 'Category:Oxyrhynchus papyri vol. XXXIV',\n",
       " 'Category:Oxyrhynchus papyri vol. LXIV',\n",
       " 'Category:Oxyrhynchus papyri vol. LXXI',\n",
       " 'Category:Oxyrhynchus papyri vol. LXXII',\n",
       " 'Category:Oxyrhynchus papyri vol. LXXIII',\n",
       " 'Category:Oxyrhynchus papyri vol. LXXIV',\n",
       " 'Category:High crosses by country',\n",
       " 'Category:High crosses in Ireland',\n",
       " 'Category:Lombard sculpture',\n",
       " 'Category:Hill figures in the United Kingdom',\n",
       " 'Category:Crosses in art',\n",
       " 'Category:Stone crosses in Asia',\n",
       " 'Category:Monumental crosses by country',\n",
       " 'Category:Prehistoric art in Portugal',\n",
       " 'Category:Rock art by continent',\n",
       " 'Category:Great Basin rock art',\n",
       " 'Category:Stone circles in Scotland',\n",
       " 'Category:Obelisks by country',\n",
       " 'Category:Obelisks in Italy',\n",
       " 'Category:Obelisks in the United Kingdom',\n",
       " 'Category:Archaeological artifacts by century',\n",
       " 'Category:Archaeological discoveries by continent',\n",
       " 'Category:Archaeological discoveries in South America',\n",
       " 'Category:Metal detecting finds in the United Kingdom',\n",
       " 'Category:Treasure troves by continent',\n",
       " 'Category:Treasure troves of North America',\n",
       " 'Category:Treasure troves of Europe',\n",
       " 'Category:Treasure troves in Ireland',\n",
       " 'Category:Treasure troves by country',\n",
       " 'Category:Treasure troves by period',\n",
       " 'Category:Treasure troves of the Bronze Age']"
      ]
     },
     "execution_count": 114,
     "metadata": {},
     "output_type": "execute_result"
    }
   ],
   "source": [
    "cl = []\n",
    "for category in CATEGORIES_LIST:\n",
    "    if not category in categories:\n",
    "        cl.append(category)\n",
    "cl"
   ]
  },
  {
   "cell_type": "code",
   "execution_count": 109,
   "metadata": {},
   "outputs": [],
   "source": [
    "CATEGORIES_LIST = cl"
   ]
  },
  {
   "cell_type": "code",
   "execution_count": 90,
   "metadata": {},
   "outputs": [],
   "source": [
    "scraped.to_csv(\"scraped.csv\")"
   ]
  },
  {
   "cell_type": "code",
   "execution_count": 85,
   "metadata": {},
   "outputs": [],
   "source": [
    "scraped = []"
   ]
  },
  {
   "cell_type": "code",
   "execution_count": null,
   "metadata": {},
   "outputs": [],
   "source": []
  }
 ],
 "metadata": {
  "kernelspec": {
   "display_name": "Python 3",
   "language": "python",
   "name": "python3"
  },
  "language_info": {
   "codemirror_mode": {
    "name": "ipython",
    "version": 3
   },
   "file_extension": ".py",
   "mimetype": "text/x-python",
   "name": "python",
   "nbconvert_exporter": "python",
   "pygments_lexer": "ipython3",
   "version": "3.6.3"
  }
 },
 "nbformat": 4,
 "nbformat_minor": 2
}

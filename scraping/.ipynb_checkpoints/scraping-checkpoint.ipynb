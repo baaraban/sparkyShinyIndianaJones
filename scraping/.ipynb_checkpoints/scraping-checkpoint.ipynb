{
 "cells": [
  {
   "cell_type": "code",
   "execution_count": 212,
   "metadata": {},
   "outputs": [],
   "source": [
    "import requests\n",
    "import pandas as pd\n",
    "S = requests.Session()\n",
    "\n",
    "URL = \"https://en.wikipedia.org/w/api.php\"\n",
    "\n",
    "COMMON_PARAMS = {\n",
    "    \"action\":\"query\",\n",
    "    \"format\":\"json\",\n",
    "    \"list\":\"categorymembers\",\n",
    "    \"cmlimit\": 500\n",
    "}\n",
    "\n",
    "PAGES_DICT = {\n",
    "}\n",
    "\n",
    "CATEGORIES_LIST = []"
   ]
  },
  {
   "cell_type": "code",
   "execution_count": 213,
   "metadata": {},
   "outputs": [],
   "source": [
    "def scrape_page_text(title):\n",
    "    PARAMS = {\n",
    "        \"action\":\"query\",\n",
    "        \"format\":\"json\",\n",
    "        'prop': 'extracts',\n",
    "        'explaintext': True,\n",
    "        'titles': title\n",
    "    }\n",
    "    R = S.get(url=URL, params=PARAMS)\n",
    "    article = R.json()\n",
    "    pages = article['query']['pages']\n",
    "    page_id = next(iter(pages))\n",
    "    text = pages[page_id]['extract']\n",
    "    return text"
   ]
  },
  {
   "cell_type": "code",
   "execution_count": 214,
   "metadata": {},
   "outputs": [
    {
     "data": {
      "text/plain": [
       "'The Ain Sakhri Lovers figurine is a sculpture that was found in one of the Ain Sakhri caves near Bethlehem. The sculpture is considered to be 11,000 years old and to be the oldest known representation of two people engaged in sexual intercourse.\\n\\n\\n== Discovery ==\\nThe sculpture was identified in 1933 by René Neuville, a French consul in Jerusalem and prehistorian, when looking through random finds obtained by the French Fathers at Bethlehem. He found the stone whilst visiting a small museum with Abbé Breuil. Neuville immediately identified it as important and was able to get an introduction to the Bedouin who had made the finds at Wadi Khareitoun. He was led to a location within the Ain Sakhri caves and it is from these caves that the sculpture gets its name. Excavations of the caves revealed that the cave had been used domestically thousands of years ago and the finds were Natufian. For this reason it is thought that the figurine was used domestically and had not been left there as part of a funeral.The person who made the sculpture came from the Natufians, an early Epipaleolithic culture whose members are thought to be the first humans to gather grass seeds that remained attached to their stems. This is an important step in agriculture as it eventually allowed farmers to choose which seeds to eat and which to keep to sow the following season. These people hunted gazelle and are the first known to domesticate dogs, sheep, and goats which also involves selective breeding. It has been speculated that the stability of having a managed food programme allowed the Natufians to create large communities of two to three hundred people and to create art.\\n\\n\\n== Appearance ==\\nThe sculpture was made by carving a single \"calcite cobble\" which was picked away with a stone point to identify the position of the couple. Although it lacks details, such as faces, it is considered to be a clever piece of sculpture. Artist Marc Quinn has noted that the figure looks different depending on the viewer\\'s perspective, and may resemble a couple, a penis, breasts, or a vagina depending on this perspective, or two testicles when viewed upside-down, from the bottom. Quinn compared it to a modern pornographic film where the action may include close-ups and long shots. It is clear that the figures in the couple are facing each other, but the gender of the figures can only be presumed.\\n\\n\\n== Importance and purchase ==\\nAfter the death of René Neuville in 1952, it was purchased by the British Museum at Sotheby\\'s in 1958 from M. Y. Neuville.The object formed the basis of an episode of A History of the World in 100 Objects, a BBC radio programme in January 2010 about the dawn of agriculture.\\n\\n\\n== See also ==\\nList of Stone Age art\\n\\n\\n== References ==\\n\\n\\n== Bibliography ==\\nB. Boyd and J. Cook, \\'A reconsideration of the \"Ain Sakhri\" figurine\\', Proceedings of the Prehistoric Society, 59 (1993), pp. 399–405\\n\\n\\n== External links =='"
      ]
     },
     "execution_count": 214,
     "metadata": {},
     "output_type": "execute_result"
    }
   ],
   "source": [
    "scrape_page_text(\"Ain Sakhri Lovers\")"
   ]
  },
  {
   "cell_type": "code",
   "execution_count": 215,
   "metadata": {},
   "outputs": [],
   "source": [
    "def scrape_page_wikidata(title):\n",
    "    try:\n",
    "        PARAMS = {\n",
    "            \"prop\": \"pageprops\",\n",
    "            \"ppprop\": \"wikibase_item\",\n",
    "            \"format\": \"json\",\n",
    "            \"action\": \"query\",\n",
    "            \"titles\": title\n",
    "        }\n",
    "\n",
    "        R = S.get(url=URL, params=PARAMS)\n",
    "        metadata = R.json()\n",
    "        metadata = metadata['query']['pages']\n",
    "        page_id = next(iter(metadata))\n",
    "        entity = metadata[page_id][\"pageprops\"][\"wikibase_item\"]\n",
    "\n",
    "        PARAMS = {\n",
    "            \"format\": \"json\",\n",
    "            \"query\": \n",
    "            '\\\n",
    "                SELECT ?wdLabel ?ps_Label ?wdpqLabel ?pq_Label {\\\n",
    "                  VALUES (?company) {(wd:' + entity + ')}\\\n",
    "                        ?company ?p ?statement .\\\n",
    "                        ?statement ?ps ?ps_ .\\\n",
    "                        ?wd wikibase:claim ?p.\\\n",
    "                        ?wd wikibase:statementProperty ?ps.\\\n",
    "                        OPTIONAL {\\\n",
    "                          ?statement ?pq ?pq_ .\\\n",
    "                          ?wdpq wikibase:qualifier ?pq .\\\n",
    "                        }\\\n",
    "                      SERVICE wikibase:label { bd:serviceParam wikibase:language \"en\" }\\\n",
    "                    }\\\n",
    "                ORDER BY ?wd ?statement ?ps_'\n",
    "        }\n",
    "        R = S.get(url=\"https://query.wikidata.org/sparql\", params=PARAMS)\n",
    "        wikidata_json = R.json()\n",
    "        results = {}\n",
    "        for obj in wikidata_json['results']['bindings']:\n",
    "            key = obj['wdLabel']['value']\n",
    "            val = obj['ps_Label']['value']\n",
    "            results[key] = val\n",
    "        return results\n",
    "    except:\n",
    "        return {}"
   ]
  },
  {
   "cell_type": "code",
   "execution_count": 216,
   "metadata": {},
   "outputs": [
    {
     "data": {
      "text/plain": [
       "{'country': 'Iraq',\n",
       " 'image': 'http://commons.wikimedia.org/wiki/Special:FilePath/Bassetki%20statue.jpg',\n",
       " 'material used': 'copper',\n",
       " 'location of discovery': 'Bassetki',\n",
       " 'instance of': 'cultural property',\n",
       " 'mass': '150',\n",
       " 'CDLI ID': 'P216558',\n",
       " 'BabelNet ID': '02706642n',\n",
       " 'location': 'National Museum of Iraq',\n",
       " 'inception': '-2350-01-01T00:00:00Z',\n",
       " 'Freebase ID': '/m/0h943gk'}"
      ]
     },
     "execution_count": 216,
     "metadata": {},
     "output_type": "execute_result"
    }
   ],
   "source": [
    "scrape_page_wikidata(\"Bassetki Statue\")"
   ]
  },
  {
   "cell_type": "code",
   "execution_count": 217,
   "metadata": {},
   "outputs": [],
   "source": [
    "def rec_scrape_pages(category_name, cmcontinue = False):\n",
    "    PARAMS = COMMON_PARAMS\n",
    "    PARAMS[\"cmtype\"] = \"page\"\n",
    "    PARAMS[\"cmtitle\"] = category_name\n",
    "    R = S.get(url=URL, params=PARAMS)\n",
    "    articles = R.json()\n",
    "    if articles.get('continue', False):\n",
    "        cmcontinue = articles['continue']['cmcontinue']\n",
    "    payload = articles['query']['categorymembers']\n",
    "    for page in payload:\n",
    "        title = page['title']\n",
    "        if PAGES_DICT.get(title, False):\n",
    "            continue\n",
    "        else:\n",
    "            try:\n",
    "                text = scrape_page_text(title)\n",
    "                wikidata = scrape_page_wikidata(title)\n",
    "                PAGES_DICT[title] = {\n",
    "                    \"category\": category_name,\n",
    "                    \"title\": title,\n",
    "                    \"text\": text,\n",
    "                    \"location\": wikidata.get('location', ''),\n",
    "                    \"inception\": wikidata.get('inception', ''),\n",
    "                    \"image\": wikidata.get('image', ''),\n",
    "                    \"discovery\": wikidata.get('location of discovery', ''),\n",
    "                    \"country\": wikidata.get('country', '')\n",
    "                }\n",
    "            except Exception as e:\n",
    "                print(\"An exception occurred at page \", title)\n",
    "                print(e)\n",
    "    if cmcontinue:\n",
    "        rec_scrape_pages(category_name, cmcontinue)\n",
    "    print(articles)"
   ]
  },
  {
   "cell_type": "code",
   "execution_count": 218,
   "metadata": {},
   "outputs": [
    {
     "name": "stdout",
     "output_type": "stream",
     "text": [
      "{'batchcomplete': '', 'query': {'categorymembers': [{'pageid': 43542390, 'ns': 0, 'title': 'List of hoards in Asia'}, {'pageid': 48773752, 'ns': 0, 'title': 'Magdala stone'}, {'pageid': 44716989, 'ns': 0, 'title': 'Prehistoric grave goods in the Philippines'}, {'pageid': 52197343, 'ns': 0, 'title': 'Tillya Tepe Buddhist coin'}]}}\n"
     ]
    }
   ],
   "source": [
    "rec_scrape_pages(\"Category:Archaeological_discoveries_in_Asia\")"
   ]
  },
  {
   "cell_type": "code",
   "execution_count": 221,
   "metadata": {},
   "outputs": [],
   "source": [
    "def rec_scrape_cat(category_name, cmcontinue = False):\n",
    "    PARAMS = COMMON_PARAMS\n",
    "    PARAMS[\"cmtitle\"] = category_name,\n",
    "    PARAMS[\"cmtype\"] = \"subcat\"\n",
    "    \n",
    "    R = S.get(url=URL, params=PARAMS)\n",
    "    subcategories = R.json()\n",
    "    if subcategories.get('continue', False):\n",
    "        cmcontinue = subcategories['continue']['cmcontinue']\n",
    "    payload = subcategories['query']['categorymembers']\n",
    "    for ind, subcategory in enumerate(payload):\n",
    "        print(\"Saving, categories processed\", ind)\n",
    "        df = pd.DataFrame.from_dict(PAGES_DICT, orient='index')\n",
    "        df.to_csv(\"scraped.csv\")\n",
    "        title = subcategory['title']\n",
    "        if title in CATEGORIES_LIST:\n",
    "            continue\n",
    "        else:\n",
    "            CATEGORIES_LIST.append(title)\n",
    "            try:\n",
    "                rec_scrape_pages(title)\n",
    "                rec_scrape_cat(title)\n",
    "            except:\n",
    "                  print(\"An exception occurred at category \", title)   \n",
    "    if cmcontinue:\n",
    "        rec_scrape_pages(category_name, cmcontinue)"
   ]
  },
  {
   "cell_type": "code",
   "execution_count": 222,
   "metadata": {},
   "outputs": [
    {
     "name": "stdout",
     "output_type": "stream",
     "text": [
      "%d% Categories processed, saving intermediate results\n"
     ]
    },
    {
     "ename": "NameError",
     "evalue": "name 'title' is not defined",
     "output_type": "error",
     "traceback": [
      "\u001b[0;31m---------------------------------------------------------------------------\u001b[0m",
      "\u001b[0;31mNameError\u001b[0m                                 Traceback (most recent call last)",
      "\u001b[0;32m<ipython-input-222-7a6337da593e>\u001b[0m in \u001b[0;36m<module>\u001b[0;34m()\u001b[0m\n\u001b[0;32m----> 1\u001b[0;31m \u001b[0mrec_scrape_cat\u001b[0m\u001b[0;34m(\u001b[0m\u001b[0;34m\"Category:Archaeological artifacts\"\u001b[0m\u001b[0;34m)\u001b[0m\u001b[0;34m\u001b[0m\u001b[0m\n\u001b[0m",
      "\u001b[0;32m<ipython-input-221-8f5723f9e807>\u001b[0m in \u001b[0;36mrec_scrape_cat\u001b[0;34m(category_name, cmcontinue)\u001b[0m\n\u001b[1;32m     13\u001b[0m         \u001b[0mdf\u001b[0m \u001b[0;34m=\u001b[0m \u001b[0mpd\u001b[0m\u001b[0;34m.\u001b[0m\u001b[0mDataFrame\u001b[0m\u001b[0;34m.\u001b[0m\u001b[0mfrom_dict\u001b[0m\u001b[0;34m(\u001b[0m\u001b[0mPAGES_DICT\u001b[0m\u001b[0;34m,\u001b[0m \u001b[0morient\u001b[0m\u001b[0;34m=\u001b[0m\u001b[0;34m'index'\u001b[0m\u001b[0;34m)\u001b[0m\u001b[0;34m\u001b[0m\u001b[0m\n\u001b[1;32m     14\u001b[0m         \u001b[0mdf\u001b[0m\u001b[0;34m.\u001b[0m\u001b[0mto_csv\u001b[0m\u001b[0;34m(\u001b[0m\u001b[0;34m\"scraped.csv\"\u001b[0m\u001b[0;34m)\u001b[0m\u001b[0;34m\u001b[0m\u001b[0m\n\u001b[0;32m---> 15\u001b[0;31m         \u001b[0;32mif\u001b[0m \u001b[0mtitle\u001b[0m \u001b[0;32min\u001b[0m \u001b[0mCATEGORIES_LIST\u001b[0m\u001b[0;34m:\u001b[0m\u001b[0;34m\u001b[0m\u001b[0m\n\u001b[0m\u001b[1;32m     16\u001b[0m             \u001b[0;32mcontinue\u001b[0m\u001b[0;34m\u001b[0m\u001b[0m\n\u001b[1;32m     17\u001b[0m         \u001b[0;32melse\u001b[0m\u001b[0;34m:\u001b[0m\u001b[0;34m\u001b[0m\u001b[0m\n",
      "\u001b[0;31mNameError\u001b[0m: name 'title' is not defined"
     ]
    }
   ],
   "source": [
    "rec_scrape_cat(\"Category:Archaeological artifacts\")"
   ]
  },
  {
   "cell_type": "code",
   "execution_count": 206,
   "metadata": {},
   "outputs": [
    {
     "data": {
      "text/plain": [
       "{'List of hoards in Asia': {'category': 'Category:Archaeological_discoveries_in_Asia',\n",
       "  'title': 'List of hoards in Asia',\n",
       "  'text': \"The list of hoards in Asia comprises significant archaeological hoards of coins, jewellery, precious and scrap metal objects and other valuable items discovered in Asia. It includes both hoards that were buried with the intention of retrieval at a later date (personal hoards, founder's hoards, merchant's hoards, and hoards of loot), and also hoards of votive offerings which were not intended to be recovered at a later date, but excludes grave goods and single items found in isolation.\\n\\nBactrian Gold\\nChausa hoard\\nKfar Monash Hoard\\nWonoboyo hoard\\nZiwiye hoard\\n\\n\\n== See also ==\\nList of hoards in Britain\\nList of hoards in the Channel Islands\\nLists of hoards\",\n",
       "  'location': '',\n",
       "  'inception': '',\n",
       "  'image': '',\n",
       "  'discovery': '',\n",
       "  'country': ''},\n",
       " 'Magdala stone': {'category': 'Category:Archaeological_discoveries_in_Asia',\n",
       "  'title': 'Magdala stone',\n",
       "  'text': 'The Magdala stone is a carved stone block unearthed by archaeologists in a Galilean synagogue in Israel, dating to before the destruction of the Second Temple in Jerusalem in the year 70. \\nIt is notable for detailed carvings depicting the Second Temple, carvings made while that Temple still stood and therefore assumed to have been made by an artist who had seen the Temple before it was destroyed by the Roman military. Some archaeologists describe the carvings as enabling a new, scholarly understanding of the synagogue conceptualized as a sacred space even during the period while the Temple was still standing.  This new understanding would overturn a long-held scholarly consensus that during the period when the Temple still stood, synagogues were merely assembly and study halls, places where the Torah and other sacred books were read aloud and studied, but not sacred spaces in their own right.\\nThe stone is also notable for having the earliest known images of the Temple Menorah to be found in a synagogue.\\n\\n\\n== History ==\\nThe stone was uncovered during the 2009 excavation of the Migdal Synagogue.In 2017, the Stone was displayed in Rome in Menorah: Worship, History, Legend, an exhibition jointly sponsored by the Vatican and the Jewish Museum of Rome.\\n\\n\\n== Carvings ==\\nThe stone is approximately 0.6 m. (24 in.) long, circa 0.5 m. (20 in.) wide and stands 0.4 m. (18 in.) high.\\nThe facade of the stone, on the side that faces Jerusalem, features an arch supported by a pair of pillars. Within the arch a seven-branched menorah sits atop what appears to be a pedestal, flanked by a pair of two-handled jugs which may be sitting on some sort of stands. Dr. Avshalom-Gorni called the discovery \"an exciting and unique find.\" This may be the oldest depiction of a menorah decoration and is the first menorah to be discovered in a Jewish context that dates to the Second Temple period and the beginning of the Early Roman era, the period when the Temple was still standing. \"We can assume that the engraving that appears on the stone, which the Israel Antiquities Authority uncovered, was done by an artist who saw the seven-branched menorah with his own eyes in the Temple in Jerusalem\".However, Mordechai Aviam interprets the object beneath the menorah as an image of the Gold Altar (Inner Altar) that stood in front of the Menorah inside the ancient Temple.\\n\\nThe stone\\'s side panels are identical; each shows an arcade of four arches. Interpretations of the carvings vary. While some have interpreted the sides as showing three arches filled with sheaves of grain (probably wheat), and a fourth with a hanging object thought to be an oil lamp, others, including Rina Talgam and Mordechai Aviam see it as an architectural image.  According to Aviam it shows an arcade through which is seen a second arcade of arches which the viewer is meant to understand as the entrance arches of the Holy of Holies.\\n\\n\\n== Placement in the synagogue at Migdal ==\\nThe stone stood in the center of the Migdal Synagogue, and is tall enough to have been used as a reading desk or podium by someone in a seated position.  A similar size stone was found in an ancient synagogue dating from the Byzantine period in a dig at nearby Horvat Kur; it is also carved with images of the Temple.Rina Talgam, a professor specializing in the art of the ancient Near East at the Hebrew University of Jerusalem and the leading scholar of this stone, understands the Magdala Stone as a depiction of the Temple and the implements used in worship, including a depiction of the Holy of Holies by an artist who had actually seen the Temple and was familiar with the Holy of Holies. She understands the stone as intended to lend to this synagogue a sacred aura, making it, “like a lesser Temple”, for use in the Galilee, which was a long journey from Jerusalem under the conditions of that pedestrian era, when most people traveled by foot.Other scholars of the period, including Elchanan Reiner, professor of Jewish history at Tel Aviv University, share her view.\\n\\n\\n== Site ==\\nThe original stone has been removed for safekeeping; a replica is displayed in the ancient synagogue at Migdal, now an archaeological site open to the public under the auspices of the Catholic Church.\\n\\n\\n== References ==',\n",
       "  'location': '',\n",
       "  'inception': '',\n",
       "  'image': 'http://commons.wikimedia.org/wiki/Special:FilePath/Magdala%20Stone%20%285%29.jpg',\n",
       "  'discovery': '',\n",
       "  'country': ''},\n",
       " 'Prehistoric grave goods in the Philippines': {'category': 'Category:Archaeological_discoveries_in_Asia',\n",
       "  'title': 'Prehistoric grave goods in the Philippines',\n",
       "  'text': 'Grave goods are utilitarian and ornamental objects buried with the deceased. \"Pabaon\", as present day Filipinos know, is the tradition of including the priced possessions or items of the dead to its grave because of the belief that these things might be helpful to the deceased as it travels to the life after death. This has been a practice since the neolithic times.\\nGrave goods are symbol of social activities, and in a way reflects the urge of the people who buried the dead to show his or her social status. Grave goods provide substantial background on the technology, degree of complexity of the society, level of integration with other communities, social or group identities, individual identities, and concepts of wealth and power of the existing community.\\nThe types and prestige values of the grave goods differ among groups, because of cultural differences. In studying grave goods, it is important to know the period of existence and to substantiate its prestige value.\\n\\n\\n== Grave goods through time ==\\n\\n\\n=== Early Neolithic Age ===\\nThis period was centered on the population\\'s needs. Thus, utilitarian objects, such as adzes, were most common among grave goods. Ornamental objects were shell pendants, ear ornaments among others. During this period, death was conceived as the transformation of physical form into something inanimate. Goods buried along with the body were mostly composed of their personal belongings.\\n\\n\\n=== Late Neolithic Age ===\\nLocal trade can already be observed in this period. This created a diversity of material possessions of individuals, leading to a diversity of grave goods. Among these were jade and agate, and earthenware pottery. Other materials were shell and some foreign trade objects.\\n\\n\\n=== Chalcolithic (Metal Age) ===\\nDuring this period, inter-island trade was already prominent. Grave goods were jars, metal implements, alkali glass beads, imported porcelain and local imitations, tradeware, coins, metal accessories, gold, and shell. Sex differentiation was also evident during this period wherein it is one of the basic determinants of social stratification. This was a time when social roles started to have variations therefore allowed an individual to be identified in the society based on the goods included in its grave. Iron implements were most of the finds together with male bodies while glass beads were among women.\\n\\n\\n== Prestige value ==\\nThe prestige value of grave goods are dependent on four factors:\\n\\n\\n=== Sources ===\\nThe acquisition of the material is a factor on its prestige value. Materials that are harder to acquire, such as when the source is a remote area, the prestige value is higher.\\n\\n\\n=== Raw material ===\\nThe abundance or rarity of the source of the raw material relates to its prestige value. The rarer the material is, the higher its prestige value.\\n\\n\\n=== Time and energy in acquisition and manufacture ===\\nHere, grave goods are evaluated on whether they are traded and reworked, traded, or locally produced. Traded items take more time to acquire, especially if these have to be reprocessed once acquired. Therefore, these items have higher values than locally produced items which are abundant and easier to acquire.\\n\\n\\n=== Cultural function ===\\nThis categorizes grave goods as either utilitarian or non-utilitarian. Non-utilitarian or ornamental items have higher prestige value because these generally take more time to make, are harder to acquire and are not as abundant as utilitarian good which are seen and used in everyday living.\\n\\n\\n== Sites ==\\n\\n\\n=== Duyong cave, Palawan ===\\nA male adult was excavated in an open pit with stone and shell adzes. Ornamentations were shell disks with perforations near the ears and chest. Shells were of local material. Other materials were shell containers that are part of the areca nut chewing paraphernalia.\\nThis site was dated back to the early neolithic age, 4630 +/- 250 BP.\\n\\n\\n=== Manunggul cave, Palawan ===\\nThis is a jar burial site where jade beads, jade bracelets, stone beads, agate bracelets, shell bracelets, shell beads, and highly decorated jars.\\nThis site was dated back to the late neolithic age, 2660 +/- 80 BP and 2840 +/- 80 BP.\\n\\n\\n=== Tigkiw na saday, Sorsogon ===\\nThis is a primary burial inland site where eight burial jars were recovered, some with impressive design and some undecorated. Materials recovered were glass beads interred with females and metal implements interred with males.\\nThe site is of metal age, 200 BC – AD 200.\\n\\n\\n=== Maitum jar burials, South Cotabato ===\\nA lot of detailed anthropomorphic pottery in different types were found in this site. Materials found were shell bracelets, shell spoons, and metal implements such as daggers and bolos.\\nThis site is of metal age, dating 70- 370 AD and 5 BC to AD 225.\\n\\n\\n=== Panhutongan, Surigao del Norte ===\\nThis site consisted of sixteen dug-out wooden coffins in varying designs and woods used. Materials found were different varieties of metal implements such as bolos, metal spearheads and beads.\\nThis site is of early Iron Age, AD 140 +/- 340.\\n\\n\\n=== Balingsagay, Bolinao ===\\nThis site is a huge burial site where a total of 51 burials were found. Materials were same with the other sites, with the inclusion of a large amount of trade goods from china, especially porcelain. Local imitations of porcelain were also found.\\nThis site is of late 15th to early 14th century.\\n\\n\\n=== Puling bakaw, Calatagan ===\\nThe grave goods found along with the bodies could be interpreted as a form of respect to the family of the dead (Barretto 2002). The family\\'s grief was another probable explanation for high-valued goods.(Macdonald 2001) \\nThis site best exhibited the extensive trade with other south east Asian countries. From the 207 graves excavated, a large amount of South East Asian wares were found, along with materials existent in the other sites, but understandably with greater detail and variety. Extensive use of gold by all population was also exhibited.\\nThis site precedes the Spanish era.\\n\\n\\n== References ==\\nBarretto, Grace. Evaluating Status in Philippine Prehistory through Grave Goods. Archaeological Studies Program, University of the Philippines Diliman, March 2002. Print. 8 December 2015.\\nBarretto- Tesoro, Grace. Burial Goods in the Philippines: an Attempt to Quantify Prestige Values. South East Asian Studies. Vol. 41 No. 3. Archaeological Studies Program, University of the Philippines Diliman, December 2003. Web. 6 November 2014.\\nPeregrine, Peter and Ember, Melvin. Island Southeast Asia: Late Prehistoric. Encyclopedia of Prehistory. Vol. 3. Springer US. 2001. Web. 6 November 2014.\\nBarker, Graeme. Burial Rituals of Forager-Farmers in Borneo. Penn Museum Expedition. Vol. 47. No. 3. Penn Museum. Web. 6 November 2014.',\n",
       "  'location': '',\n",
       "  'inception': '',\n",
       "  'image': '',\n",
       "  'discovery': '',\n",
       "  'country': ''},\n",
       " 'Tillya Tepe Buddhist coin': {'category': 'Category:Archaeological_discoveries_in_Asia',\n",
       "  'title': 'Tillya Tepe Buddhist coin',\n",
       "  'text': 'The Tillya Tepe Buddhist coin is a gold coin that was discovered at the archaeological site of Tillya Tepe in modern Afghanistan.\\nThe gold coin from India was found in tomb IV (the male warrior). The archaeological site, as the coin, are dated to the beginning of the first century AD, that is late 1st century BC to early 1st century AD.\\n\\n\\n== Lion and triratna ==\\nOn the reverse, it depicts a lion with the Buddhist symbol of the triratna, with the Kharoshthi legend Sih[o] vigatabhay[o] \"The lion who dispelled fear\".\\n\\n\\n== Hermes iconography ==\\n\\nOn the obverse can be seen a man who is almost naked, except for an Hellenistic chlamys and a petasus hat (an iconography similar to that of Hermes/ Mercury). He is rolling a wheel along. The legend in Kharoshthi reads Dharmacakrapravata[ko] \"The one who turned the Wheel of the Law\".Hermes was considered in ancient Greece as a psychopomp, an intercessor between mortals and the divine, and conductor of souls into the afterlife. Besides similarities in metaphysical roles, the similarity between the names of they respective mothers, Maya for the Buddha and Maia for Hermes, have often been noted, as well as the stories of their miraculous births.Various identities have been suggested for the being depicted on the coins, from Shiva to Zeus, and most often, the Buddha himself in an early representation.\\n\\n\\n== Chronology ==\\n\\nSince the time of the Buddha, Buddhist representations had been aniconic. This raises the possibility that this coin is one of the earliest, if not the earliest, representation of the Buddha.Earlier connections between Greek deities and Buddhist symbolism appears on the coins of Indo-Greek kings such as Menander II (90–85 BC), in which Zeus, through Nike, can be seen handing a wreath of victory to a Wheel of the Law.The next earliest known representation of the Buddha is that of the Bimaran casket, dated circa 50 AD.\\n\\n\\n== References ==\\n\\n\\n== External links ==\\nAn obverse and reverse view of the coin',\n",
       "  'location': '',\n",
       "  'inception': '',\n",
       "  'image': '',\n",
       "  'discovery': '',\n",
       "  'country': ''}}"
      ]
     },
     "execution_count": 206,
     "metadata": {},
     "output_type": "execute_result"
    }
   ],
   "source": [
    "PAGES_DICT"
   ]
  }
 ],
 "metadata": {
  "kernelspec": {
   "display_name": "Python 3",
   "language": "python",
   "name": "python3"
  },
  "language_info": {
   "codemirror_mode": {
    "name": "ipython",
    "version": 3
   },
   "file_extension": ".py",
   "mimetype": "text/x-python",
   "name": "python",
   "nbconvert_exporter": "python",
   "pygments_lexer": "ipython3",
   "version": "3.6.3"
  }
 },
 "nbformat": 4,
 "nbformat_minor": 2
}

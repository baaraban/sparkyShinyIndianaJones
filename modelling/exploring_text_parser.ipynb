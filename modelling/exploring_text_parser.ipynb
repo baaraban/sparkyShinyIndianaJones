{
 "cells": [
  {
   "cell_type": "code",
   "execution_count": 1,
   "metadata": {},
   "outputs": [
    {
     "name": "stdout",
     "output_type": "stream",
     "text": [
      "C:\\Repos\\sparkyShinyIndianaJones\n"
     ]
    }
   ],
   "source": [
    "cd .."
   ]
  },
  {
   "cell_type": "code",
   "execution_count": 2,
   "metadata": {},
   "outputs": [],
   "source": [
    "PATH_TO_FILE = \"data_collection/museums_scraping/raw_data/louvre_artifacts.csv\""
   ]
  },
  {
   "cell_type": "code",
   "execution_count": 3,
   "metadata": {},
   "outputs": [],
   "source": [
    "from utils.text_parser import TextParser"
   ]
  },
  {
   "cell_type": "code",
   "execution_count": 4,
   "metadata": {},
   "outputs": [],
   "source": [
    "from utils.location_utils import get_lat_lon"
   ]
  },
  {
   "cell_type": "code",
   "execution_count": 5,
   "metadata": {},
   "outputs": [],
   "source": [
    "import pandas as pd"
   ]
  },
  {
   "cell_type": "code",
   "execution_count": 6,
   "metadata": {},
   "outputs": [],
   "source": [
    "louvre_location = get_lat_lon(\"Louvre\")"
   ]
  },
  {
   "cell_type": "code",
   "execution_count": 7,
   "metadata": {},
   "outputs": [],
   "source": [
    "TEXT_PARSER = None\n",
    "def get_parser():\n",
    "    global TEXT_PARSER\n",
    "    if not TEXT_PARSER:\n",
    "        text_parser = TextParser()\n",
    "        TEXT_PARSER = text_parser\n",
    "    return TEXT_PARSER"
   ]
  },
  {
   "cell_type": "code",
   "execution_count": 8,
   "metadata": {},
   "outputs": [],
   "source": [
    "def get_dates(documents):\n",
    "    parser = get_parser()\n",
    "    def get_element(x):\n",
    "        dates = parser.get_dates(str(x))\n",
    "        if len(dates) == 0:\n",
    "            return \"\"\n",
    "        else:\n",
    "            return str({dates[0] : louvre_location})\n",
    "        \n",
    "    return pd.Series([get_element(x) for x in documents])"
   ]
  },
  {
   "cell_type": "code",
   "execution_count": 9,
   "metadata": {},
   "outputs": [],
   "source": [
    "pd_df = pd.read_csv(PATH_TO_FILE).drop(['Unnamed: 0'], axis=1)"
   ]
  },
  {
   "cell_type": "code",
   "execution_count": 10,
   "metadata": {},
   "outputs": [
    {
     "data": {
      "text/html": [
       "<div>\n",
       "<style scoped>\n",
       "    .dataframe tbody tr th:only-of-type {\n",
       "        vertical-align: middle;\n",
       "    }\n",
       "\n",
       "    .dataframe tbody tr th {\n",
       "        vertical-align: top;\n",
       "    }\n",
       "\n",
       "    .dataframe thead th {\n",
       "        text-align: right;\n",
       "    }\n",
       "</style>\n",
       "<table border=\"1\" class=\"dataframe\">\n",
       "  <thead>\n",
       "    <tr style=\"text-align: right;\">\n",
       "      <th></th>\n",
       "      <th>collection</th>\n",
       "      <th>artifact_name</th>\n",
       "      <th>artifact_link</th>\n",
       "      <th>image_link</th>\n",
       "      <th>text</th>\n",
       "      <th>creation_info</th>\n",
       "      <th>physical_characteristics</th>\n",
       "      <th>acquired_by</th>\n",
       "      <th>category</th>\n",
       "    </tr>\n",
       "  </thead>\n",
       "  <tbody>\n",
       "    <tr>\n",
       "      <th>0</th>\n",
       "      <td>Masterpieces</td>\n",
       "      <td>Aphrodite, known as the \"Venus de Milo\"</td>\n",
       "      <td>https://www.louvre.fr/en/oeuvre-notices/aphrod...</td>\n",
       "      <td>https://www.louvre.frhttps://www.louvre.fr/sit...</td>\n",
       "      <td>\\nThis graceful statue of a goddess has intrig...</td>\n",
       "      <td>\\n\\n\\nAphrodite, known as the \"Venus de Milo\"\\...</td>\n",
       "      <td>\\n\\nH. 2.02 m\\n</td>\n",
       "      <td>\\n\\n          Gift of the marquis de Rivière t...</td>\n",
       "      <td>\\nGreek, Etruscan, and Roman Antiquities\\nHell...</td>\n",
       "    </tr>\n",
       "    <tr>\n",
       "      <th>1</th>\n",
       "      <td>Masterpieces</td>\n",
       "      <td>The \"Regent\" Diamond</td>\n",
       "      <td>https://www.louvre.fr/en/oeuvre-notices/diamon...</td>\n",
       "      <td>https://www.louvre.frhttps://www.louvre.fr/sit...</td>\n",
       "      <td>\\n\\nDiscovered in 1698 in Golconda, India, thi...</td>\n",
       "      <td>\\n\\n\\nThe \"Regent\" Diamond\\n\\n\\n\\n</td>\n",
       "      <td>\\n140.64 metric carats\\n\\n</td>\n",
       "      <td>\\n\\n          Former Crown Diamonds collection...</td>\n",
       "      <td>\\nDecorative Arts\\n18th century: rococo</td>\n",
       "    </tr>\n",
       "    <tr>\n",
       "      <th>2</th>\n",
       "      <td>Masterpieces</td>\n",
       "      <td>Frise des archers</td>\n",
       "      <td>https://www.louvre.fr/en/oeuvre-notices/frieze...</td>\n",
       "      <td>https://www.louvre.frhttps://www.louvre.fr/sit...</td>\n",
       "      <td>\\nThis decorative frieze of polychrome glazed ...</td>\n",
       "      <td>\\n\\n\\nFrise des archers\\nEpoque achéménideRègn...</td>\n",
       "      <td>\\nBriques siliceuses à glaçure\\nH. 4.75 m; W. ...</td>\n",
       "      <td>\\n\\n          Mission Dieulafoy, 1885 - 1886\\t...</td>\n",
       "      <td>\\nNear Eastern Antiquities\\nIran</td>\n",
       "    </tr>\n",
       "    <tr>\n",
       "      <th>3</th>\n",
       "      <td>Masterpieces</td>\n",
       "      <td>Horse Restrained by a Groom, called \"Horse of ...</td>\n",
       "      <td>https://www.louvre.fr/en/oeuvre-notices/horses...</td>\n",
       "      <td>https://www.louvre.frhttps://www.louvre.fr/sit...</td>\n",
       "      <td>\\nThese two large marble sculptures representi...</td>\n",
       "      <td>\\nGuillaume COUSTOU \\n\\t\\t   (Lyon, 1677 - Par...</td>\n",
       "      <td>\\nCarrara marble\\nH. 3.40 m; W. 2.84 m; D. 1.2...</td>\n",
       "      <td>\\n\\n\\n\\nM.R. 1802\\n</td>\n",
       "      <td>\\nSculptures\\nFrance, 17th and 18th centuries ...</td>\n",
       "    </tr>\n",
       "    <tr>\n",
       "      <th>4</th>\n",
       "      <td>Masterpieces</td>\n",
       "      <td>July 28. Liberty Leading the People (July 28, ...</td>\n",
       "      <td>https://www.louvre.fr/en/oeuvre-notices/july-2...</td>\n",
       "      <td>https://www.louvre.frhttps://www.louvre.fr/sit...</td>\n",
       "      <td>\\nThe Paris uprising of July 27, 28, and 29, 1...</td>\n",
       "      <td>\\nEugène DELACROIX \\n\\t\\t   (Charenton-Saint-M...</td>\n",
       "      <td>\\n\\nH. 2.60 m; W. 3.25 m\\n</td>\n",
       "      <td>\\n\\n          Acquired in 1983\\t\\t\\t\\t\\t,     ...</td>\n",
       "      <td>\\nPaintings\\nFrench painting</td>\n",
       "    </tr>\n",
       "  </tbody>\n",
       "</table>\n",
       "</div>"
      ],
      "text/plain": [
       "     collection                                      artifact_name  \\\n",
       "0  Masterpieces            Aphrodite, known as the \"Venus de Milo\"   \n",
       "1  Masterpieces                               The \"Regent\" Diamond   \n",
       "2  Masterpieces                                  Frise des archers   \n",
       "3  Masterpieces  Horse Restrained by a Groom, called \"Horse of ...   \n",
       "4  Masterpieces  July 28. Liberty Leading the People (July 28, ...   \n",
       "\n",
       "                                       artifact_link  \\\n",
       "0  https://www.louvre.fr/en/oeuvre-notices/aphrod...   \n",
       "1  https://www.louvre.fr/en/oeuvre-notices/diamon...   \n",
       "2  https://www.louvre.fr/en/oeuvre-notices/frieze...   \n",
       "3  https://www.louvre.fr/en/oeuvre-notices/horses...   \n",
       "4  https://www.louvre.fr/en/oeuvre-notices/july-2...   \n",
       "\n",
       "                                          image_link  \\\n",
       "0  https://www.louvre.frhttps://www.louvre.fr/sit...   \n",
       "1  https://www.louvre.frhttps://www.louvre.fr/sit...   \n",
       "2  https://www.louvre.frhttps://www.louvre.fr/sit...   \n",
       "3  https://www.louvre.frhttps://www.louvre.fr/sit...   \n",
       "4  https://www.louvre.frhttps://www.louvre.fr/sit...   \n",
       "\n",
       "                                                text  \\\n",
       "0  \\nThis graceful statue of a goddess has intrig...   \n",
       "1  \\n\\nDiscovered in 1698 in Golconda, India, thi...   \n",
       "2  \\nThis decorative frieze of polychrome glazed ...   \n",
       "3  \\nThese two large marble sculptures representi...   \n",
       "4  \\nThe Paris uprising of July 27, 28, and 29, 1...   \n",
       "\n",
       "                                       creation_info  \\\n",
       "0  \\n\\n\\nAphrodite, known as the \"Venus de Milo\"\\...   \n",
       "1                 \\n\\n\\nThe \"Regent\" Diamond\\n\\n\\n\\n   \n",
       "2  \\n\\n\\nFrise des archers\\nEpoque achéménideRègn...   \n",
       "3  \\nGuillaume COUSTOU \\n\\t\\t   (Lyon, 1677 - Par...   \n",
       "4  \\nEugène DELACROIX \\n\\t\\t   (Charenton-Saint-M...   \n",
       "\n",
       "                            physical_characteristics  \\\n",
       "0                                    \\n\\nH. 2.02 m\\n   \n",
       "1                         \\n140.64 metric carats\\n\\n   \n",
       "2  \\nBriques siliceuses à glaçure\\nH. 4.75 m; W. ...   \n",
       "3  \\nCarrara marble\\nH. 3.40 m; W. 2.84 m; D. 1.2...   \n",
       "4                         \\n\\nH. 2.60 m; W. 3.25 m\\n   \n",
       "\n",
       "                                         acquired_by  \\\n",
       "0  \\n\\n          Gift of the marquis de Rivière t...   \n",
       "1  \\n\\n          Former Crown Diamonds collection...   \n",
       "2  \\n\\n          Mission Dieulafoy, 1885 - 1886\\t...   \n",
       "3                                \\n\\n\\n\\nM.R. 1802\\n   \n",
       "4  \\n\\n          Acquired in 1983\\t\\t\\t\\t\\t,     ...   \n",
       "\n",
       "                                            category  \n",
       "0  \\nGreek, Etruscan, and Roman Antiquities\\nHell...  \n",
       "1  \\nDecorative Arts\\n18th century: rococo            \n",
       "2         \\nNear Eastern Antiquities\\nIran            \n",
       "3  \\nSculptures\\nFrance, 17th and 18th centuries ...  \n",
       "4             \\nPaintings\\nFrench painting            "
      ]
     },
     "execution_count": 10,
     "metadata": {},
     "output_type": "execute_result"
    }
   ],
   "source": [
    "pd_df.head()"
   ]
  },
  {
   "cell_type": "code",
   "execution_count": null,
   "metadata": {},
   "outputs": [],
   "source": [
    "pd_df['dates'] = get_dates(pd_df['acquired_by'])"
   ]
  },
  {
   "cell_type": "code",
   "execution_count": null,
   "metadata": {},
   "outputs": [],
   "source": [
    "pd_df.head()"
   ]
  },
  {
   "cell_type": "code",
   "execution_count": null,
   "metadata": {},
   "outputs": [],
   "source": [
    "pd_df['acquired_by'] = pd_df['acquired_by'].apply(lambda x: x.strip())"
   ]
  },
  {
   "cell_type": "code",
   "execution_count": null,
   "metadata": {},
   "outputs": [],
   "source": [
    "pd_df['creation_info'] = pd_df['acquired_by'].apply(lambda x: x.strip().replace('\\n', '. ').replace('\\t', ''))"
   ]
  },
  {
   "cell_type": "code",
   "execution_count": null,
   "metadata": {},
   "outputs": [],
   "source": [
    "pd_df"
   ]
  },
  {
   "cell_type": "code",
   "execution_count": null,
   "metadata": {},
   "outputs": [],
   "source": [
    "for index, row in pd_df.iterrows():\n",
    "    print(index)\n",
    "    x = row['creation_info']\n",
    "    parser = get_parser()\n",
    "    print(x)\n",
    "    print(parser.get_dates(x))\n",
    "    print(parser.get_locations(x))\n",
    "    print(parser.get_locations_with_priorities(x))\n",
    "    print(parser.get_entities(x))\n",
    "    "
   ]
  },
  {
   "cell_type": "code",
   "execution_count": null,
   "metadata": {},
   "outputs": [],
   "source": []
  }
 ],
 "metadata": {
  "kernelspec": {
   "display_name": "Python 3",
   "language": "python",
   "name": "python3"
  },
  "language_info": {
   "codemirror_mode": {
    "name": "ipython",
    "version": 3
   },
   "file_extension": ".py",
   "mimetype": "text/x-python",
   "name": "python",
   "nbconvert_exporter": "python",
   "pygments_lexer": "ipython3",
   "version": "3.6.5"
  }
 },
 "nbformat": 4,
 "nbformat_minor": 2
}
